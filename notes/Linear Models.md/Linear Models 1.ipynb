{
 "cells": [
  {
   "cell_type": "markdown",
   "metadata": {},
   "source": [
    "### Linear Models I\n",
    "The linear models are one of the most commonly used type of models.\n",
    "Here it will be covered how they are used in classification tasks.\n",
    "\n",
    "**Representing the classes**: \n",
    "The number of classes in a problem is defined as $K$. Where the set of classes can be expressed as $C_k$, where $k=1,\\ddot{5},K$. \n"
   ]
  },
  {
   "cell_type": "markdown",
   "metadata": {},
   "source": [
    "### Appendix\n",
    "*decision regions*: These are the region where different classifications are determined.\n",
    "*decision boundaries/decision surfaces*: These har the linear functions that create the decision regions.\n",
    "*linearly separable*: If the dataset can be separated by a linear decision surfaces."
   ]
  }
 ],
 "metadata": {
  "interpreter": {
   "hash": "33c59fad9696fcaf43eb391753f39cb03100e8cd4c5bc920cdc118c109b04286"
  },
  "kernelspec": {
   "display_name": "Python 3.10.3 ('Stonk')",
   "language": "python",
   "name": "python3"
  },
  "language_info": {
   "name": "python",
   "version": "3.10.3"
  },
  "orig_nbformat": 4
 },
 "nbformat": 4,
 "nbformat_minor": 2
}
