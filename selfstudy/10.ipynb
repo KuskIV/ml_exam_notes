{
 "cells": [
  {
   "cell_type": "markdown",
   "metadata": {
    "id": "a75mGrGgL-0g"
   },
   "source": [
    "<img src=\"https://github.com/PGM-Lab/probai-2021-pyro/blob/main/Day1/Figures/blue.png?raw=1\" alt=\"Drawing\" width=2000 height=20>\n",
    "\n",
    "\n",
    "# Setup\n",
    "Let's begin by installing and importing the modules we'll need."
   ]
  },
  {
   "cell_type": "code",
   "execution_count": null,
   "metadata": {
    "id": "7Owp2eKrL-0j"
   },
   "outputs": [],
   "source": [
    "!pip install -q --upgrade pyro-ppl torch\n",
    "import pyro\n",
    "import torch\n",
    "import pyro.distributions as dist\n",
    "\n",
    "assert pyro.__version__.startswith('1.8.1')"
   ]
  },
  {
   "cell_type": "markdown",
   "metadata": {
    "id": "uf7kVC-hL-03"
   },
   "source": [
    "<img src=\"https://github.com/PGM-Lab/probai-2021-pyro/blob/main/Day1/Figures/blue.png?raw=1\" alt=\"Drawing\" width=2000 height=20>\n",
    "\n",
    "\n",
    "# Icecream Shop\n",
    "\n",
    "In this self study session, you will be modeling the sales in an ice cream shop. Below you will find an initial specification, and in the following sections you should elaborate on this initial specificaton.\n",
    "\n",
    "The basis for our model is that \n",
    "* We **record the ice-cream sales and the average temperature of the day** (using a temperature sensor).\n",
    "\n",
    "* We know **temperature affects the sales** of ice-creams.\n",
    "\n",
    "* We want to **precisely model** how temperature affects ice-cream sales.\n",
    "\n",
    "<center>\n",
    "<img src=\"https://github.com/PGM-Lab/probai-2021-pyro/raw/main/Day1/Figures/Ice-cream_shop_-_Florida.jpg\" alt=\"Drawing\" width=300 >\n",
    "</center>\n",
    "\n",
    "Note that the model given below is a extension of the temperature model that we explored during the last lecture.\n"
   ]
  },
  {
   "cell_type": "markdown",
   "metadata": {
    "id": "uv2fWAHxDRxO"
   },
   "source": [
    "<img src=\"https://github.com/PGM-Lab/probai-2021-pyro/blob/main/Day1/Figures/blue.png?raw=1\" alt=\"Drawing\" width=2000 height=20>\n",
    "\n",
    "\n",
    "## Model specification\n",
    "\n",
    "* We have **observations** from temperature and sales:\n",
    ">- The relation between the daily temperature $t_i$ and the measured temperature $s_{t,i}$ will be modeled with a Normal distribution as in the last lecture. \n",
    "* Daily sales $s_i$ are modeled with a <a href=\"https://en.wikipedia.org/wiki/Poisson_distribution\">Poisson distribution</a>, which expresses the probability of a given number of sales per day based on a so-called rate parameter (the mean and variance of the Poisson distribution is also equal to the rate parameeter):\n",
    ">- We assume that the rate of the Poisson distribution **linearly depends of the real temperature**.\n",
    "\n",
    "The figure below gives a formal description of the model:\n",
    "<center>\n",
    "<img src=\"https://github.com/PGM-Lab/probai-2021-pyro/blob/main/Day1/Figures/Ice-Cream-Shop-Model.png?raw=1\" alt=\"Drawing\" width=700>\n",
    "</center>\n",
    "\n"
   ]
  },
  {
   "cell_type": "markdown",
   "metadata": {},
   "source": [
    "### Data"
   ]
  },
  {
   "cell_type": "code",
   "execution_count": null,
   "metadata": {},
   "outputs": [],
   "source": [
    "#The observatons   \n",
    "obs = {'sensor': torch.tensor([18., 18.7, 19.2, 17.8, 20.3, 22.4, 20.3, 21.2, 19.5, 20.1]),\n",
    "       'sales': torch.tensor([46., 47., 49., 44., 50., 54., 51., 52., 49., 53.])}"
   ]
  },
  {
   "cell_type": "markdown",
   "metadata": {},
   "source": [
    "### Pyro specification of the ice-cream model"
   ]
  },
  {
   "cell_type": "code",
   "execution_count": null,
   "metadata": {
    "id": "HR8bu27OL-03"
   },
   "outputs": [],
   "source": [
    "def model(obs):\n",
    "    mean_temp = pyro.sample('mean_temp', dist.Normal(15.0, 2.0))\n",
    "    alpha = pyro.sample('alpha', dist.Normal(0.0, 100.0))\n",
    "    beta = pyro.sample('beta', dist.Normal(0.0, 100.0))\n",
    "\n",
    "    with pyro.plate('a', obs['sensor'].shape[0]):\n",
    "        temp = pyro.sample('temp', dist.Normal(mean_temp, 2.0))\n",
    "        sensor = pyro.sample('sensor', dist.Normal(temp, 1.0), obs=obs['sensor'])\n",
    "        rate = torch.max(torch.tensor(0.001), alpha + beta*temp)\n",
    "        sales = pyro.sample('sales', dist.Poisson(rate), obs=obs['sales'])"
   ]
  },
  {
   "cell_type": "code",
   "execution_count": null,
   "metadata": {},
   "outputs": [],
   "source": [
    "#Visualize the model\n",
    "pyro.render_model(model, model_args=(obs, ))"
   ]
  },
  {
   "cell_type": "markdown",
   "metadata": {
    "id": "gT34C5CpDmPZ"
   },
   "source": [
    "<img src=\"https://github.com/PGM-Lab/probai-2021-pyro/blob/main/Day1/Figures/blue.png?raw=1\" alt=\"Drawing\" width=2000 height=20>\n"
   ]
  },
  {
   "cell_type": "markdown",
   "metadata": {},
   "source": [
    "## Auxiliary functions needed for inference and learning\n",
    "Like in the last lecture we also need an some auxiliary functions to take care of inference. We haven't disucsssed the details of these yet, so just skim this part for now."
   ]
  },
  {
   "cell_type": "code",
   "execution_count": null,
   "metadata": {
    "cellView": "form",
    "id": "nkOSF-WlL-03"
   },
   "outputs": [],
   "source": [
    "#Define the guide\n",
    "def guide(obs):\n",
    "    mean = pyro.param(\"mean\", torch.mean(obs['sensor']))\n",
    "    scale = pyro.param(\"scale\", torch.tensor(1.), constraint=constraints.positive)\n",
    "    mean_temp = pyro.sample('mean_temp', dist.Normal(mean, scale))\n",
    "\n",
    "    alpha_mean = pyro.param(\"alpha_mean\", torch.mean(obs['sensor']))\n",
    "    alpha_scale = pyro.param(\"alpha_scale\", torch.tensor(1.), constraint=constraints.positive)\n",
    "    alpha = pyro.sample('alpha', dist.Normal(alpha_mean, alpha_scale))\n",
    "\n",
    "    beta_mean = pyro.param(\"beta_mean\", torch.tensor(1.0))\n",
    "    beta_scale = pyro.param(\"beta_scale\", torch.tensor(1.), constraint=constraints.positive)\n",
    "    beta = pyro.sample('beta', dist.Normal(beta_mean, beta_scale))\n",
    "\n",
    "    with pyro.plate('a', obs['sensor'].shape[0]) as i:\n",
    "        mean_i = pyro.param('mean_i', obs['sensor'][i])\n",
    "        scale_i = pyro.param('scale_i', torch.tensor(1.), constraint=constraints.positive)\n",
    "        temp = pyro.sample('temp', dist.Normal(mean_i, scale_i))  "
   ]
  },
  {
   "cell_type": "code",
   "execution_count": null,
   "metadata": {},
   "outputs": [],
   "source": [
    "from torch.distributions import constraints\n",
    "from pyro.optim import SGD\n",
    "from pyro.infer import Trace_ELBO\n",
    "import matplotlib.pyplot as plt\n",
    "from pyro.contrib.autoguide import AutoDiagonalNormal\n",
    "\n",
    "\n",
    "def svi(temperature_model, obs, guide=None, num_steps = 5000, plot = False, verbose=True):\n",
    "    pyro.clear_param_store()\n",
    "    \n",
    "    if guide is None:\n",
    "        guide = AutoDiagonalNormal(model)\n",
    "    \n",
    "    svi = pyro.infer.SVI(model=temperature_model,\n",
    "                         guide=guide,\n",
    "                         optim=SGD({\"lr\": 0.001, \"momentum\":0.1}),\n",
    "                         loss=Trace_ELBO())\n",
    "\n",
    "    losses, a,b  = [], [], []\n",
    "    \n",
    "    for t in range(num_steps):\n",
    "        losses.append(svi.step(obs))\n",
    "        if t%250==0:\n",
    "            print('Step: '+str(t)+'. Loss: ' +str(losses[-1]))\n",
    "            \n",
    "\n",
    "    if (plot):\n",
    "        plt.plot(losses)\n",
    "        plt.title(\"ELBO\")\n",
    "        plt.xlabel(\"step\")\n",
    "        plt.ylabel(\"loss\");\n",
    "        plt.show()\n",
    "        \n",
    "    if verbose:\n",
    "        print(\"Inference results:\")\n",
    "        for name, value in pyro.get_param_store().items():\n",
    "            print(name, pyro.param(name))"
   ]
  },
  {
   "cell_type": "markdown",
   "metadata": {},
   "source": [
    "## Learning and inference\n",
    "\n",
    "Let's take our model out for a test run"
   ]
  },
  {
   "cell_type": "code",
   "execution_count": null,
   "metadata": {
    "colab": {
     "base_uri": "https://localhost:8080/"
    },
    "id": "gmaOTBYAL-03",
    "outputId": "7a6bd327-e423-4a9b-8cc0-96fa95cdaf9c"
   },
   "outputs": [],
   "source": [
    "#Run inference\n",
    "svi(model, obs, guide, num_steps=1000, verbose=False)\n",
    "\n",
    "#Print results    \n",
    "print(\"Posterior temperature mean\")\n",
    "print(dist.Normal(pyro.param(\"mean\").item(), pyro.param(\"scale\").item()))\n",
    "print(\"\")\n",
    "print(\"Posterior alpha\")\n",
    "print(dist.Normal(pyro.param(\"alpha_mean\").item(), pyro.param(\"alpha_scale\").item()))\n",
    "print(\"\")\n",
    "print(\"Posterior beta\")\n",
    "print(dist.Normal(pyro.param(\"beta_mean\").item(), pyro.param(\"beta_scale\").item()))"
   ]
  },
  {
   "cell_type": "markdown",
   "metadata": {},
   "source": [
    "<img src=\"https://github.com/PGM-Lab/probai-2021-pyro/blob/main/Day1/Figures/blue.png?raw=1\" alt=\"Drawing\" width=2000 height=20>\n",
    "\n",
    "\n",
    "### <span style=\"color:red\">Exercise 1: Analyze the model above </span> \n",
    "* Consider the model specification together with the posterior distributions over the model parameters. Do the these distributions appear reasonabale to you considering the model and the data that you have supplied?"
   ]
  },
  {
   "cell_type": "markdown",
   "metadata": {
    "id": "4ulfx96AL-04"
   },
   "source": [
    "<img src=\"https://github.com/PGM-Lab/probai-2021-pyro/blob/main/Day1/Figures/blue.png?raw=1\" alt=\"Drawing\" width=2000 height=20>\n",
    "\n",
    "\n",
    "### <span style=\"color:red\">Exercise 2: Introduce Humidity in the Icecream shop model </span> \n",
    "\n",
    "In this exercise you should extend the model above to also account for the daily humidity $h_i$:\n",
    "* Assume we also have a bunch of daily humidity sensor measurements $s_{h,i}$.\n",
    "* Assume the **sales are also linearly influenced by the humidity**.\n",
    "\n",
    "Extend the model above in order to integrate these new pieces of information.\n",
    "\n",
    "The figure below gives a formal description of the model:\n",
    "<center>\n",
    "<img src=\"https://github.com/PGM-Lab/probai-2021-pyro/blob/main/Day1/Figures/Ice-Cream-Shop-Model-Humidity.png?raw=1\" alt=\"Drawing\" width=1000>\n",
    "</center>\n",
    "\n",
    "\n"
   ]
  },
  {
   "cell_type": "code",
   "execution_count": null,
   "metadata": {
    "id": "8UxOUxuTL-04"
   },
   "outputs": [],
   "source": [
    "#The observatons   \n",
    "obs = {'sensor': torch.tensor([18., 18.7, 19.2, 17.8, 20.3, 22.4, 20.3, 21.2, 19.5, 20.1]),\n",
    "       'sales': torch.tensor([46., 47., 49., 44., 50., 54., 51., 52., 49., 53.]),\n",
    "       'sensor_humidity': torch.tensor([82.8, 87.6, 69.1, 74.2, 80.3, 94.2, 91.2, 92.2, 99.1, 93.2])}\n",
    "\n",
    "\n",
    "def model(obs):\n",
    "    mean_temp = pyro.sample('mean_temp', dist.Normal(15.0, 2.0))\n",
    "    ## Introduce a random variable \"mean_humidity\"\n",
    "    ...\n",
    "    \n",
    "    alpha = pyro.sample('alpha', dist.Normal(0.0, 100.0))\n",
    "    beta = pyro.sample('beta', dist.Normal(0.0, 100.0))\n",
    "    \n",
    "    ## Introduce a coefficient for the humidity \"gamma\"\n",
    "    ...\n",
    "\n",
    "    with pyro.plate('a', obs['sensor'].shape[0]):\n",
    "        temp = pyro.sample('temp', dist.Normal(mean_temp, 2.0))\n",
    "        sensor = pyro.sample('sensor', dist.Normal(temp, 1.0), obs=obs['sensor'])\n",
    "        #Add the 'humidity' variable and the 'sensor_humidity' variable\n",
    "       \n",
    "        #Add the linear dependency for the rate with respect to temp and humidity\n",
    "        rate = torch.max(torch.tensor(0.001), ...)\n",
    "        sales = pyro.sample('sales', dist.Poisson(rate), obs=obs['sales'])"
   ]
  },
  {
   "cell_type": "code",
   "execution_count": null,
   "metadata": {},
   "outputs": [],
   "source": [
    "#Visualize the model\n",
    "pyro.render_model(model, model_args=(obs, ))"
   ]
  },
  {
   "cell_type": "markdown",
   "metadata": {
    "id": "wC7ceQTkHrrg"
   },
   "source": [
    "<img src=\"https://github.com/PGM-Lab/probai-2021-pyro/blob/main/Day1/Figures/blue.png?raw=1\" alt=\"Drawing\" width=2000 height=20>\n",
    "\n",
    "Again we need a guide for performing inference (you need not worry about the details of this part)"
   ]
  },
  {
   "cell_type": "code",
   "execution_count": null,
   "metadata": {
    "cellView": "form",
    "id": "zyR9EXz2L-04"
   },
   "outputs": [],
   "source": [
    "#@title\n",
    "#Auxiliary Guide Code\n",
    "def guide(obs):\n",
    "    mean = pyro.param(\"mean\", torch.mean(obs['sensor']))\n",
    "    scale = pyro.param(\"scale\", torch.tensor(1.), constraint=constraints.positive)\n",
    "    mean_temp = pyro.sample('mean_temp', dist.Normal(mean, scale))\n",
    "\n",
    "    meanH = pyro.param(\"meanH\", torch.mean(obs['sensor_humidity']))\n",
    "    scaleH = pyro.param(\"scaleH\", torch.tensor(1.), constraint=constraints.positive)\n",
    "    mean_humidity = pyro.sample('mean_humidity', dist.Normal(meanH, scaleH))\n",
    "\n",
    "\n",
    "    alpha_mean = pyro.param(\"alpha_mean\", torch.mean(obs['sensor']), constraint=constraints.positive)\n",
    "    alpha_scale = pyro.param(\"alpha_scale\", torch.tensor(1.), constraint=constraints.positive)\n",
    "    alpha = pyro.sample('alpha', dist.Normal(alpha_mean, alpha_scale))\n",
    "\n",
    "    beta_mean = pyro.param(\"beta_mean\", torch.tensor(1.0), constraint=constraints.positive)\n",
    "    beta_scale = pyro.param(\"beta_scale\", torch.tensor(1.), constraint=constraints.positive)\n",
    "    beta = pyro.sample('beta', dist.Normal(beta_mean, beta_scale))\n",
    "\n",
    "    gamma_mean = pyro.param(\"gamma_mean\", torch.tensor(1.0), constraint=constraints.positive)\n",
    "    gamma_scale = pyro.param(\"gamma_scale\", torch.tensor(1.), constraint=constraints.positive)\n",
    "    gamma = pyro.sample('gamma', dist.Normal(gamma_mean, gamma_scale))\n",
    "\n",
    "    with pyro.plate('a', obs['sensor'].shape[0]) as i:\n",
    "        mean_i = pyro.param('mean_i', obs['sensor'][i])\n",
    "        scale_i = pyro.param('scale_i', torch.tensor(1.), constraint=constraints.positive)\n",
    "        temp = pyro.sample('temp', dist.Normal(mean_i, scale_i))\n",
    "        meanH_i = pyro.param('meanH_i', obs['sensor_humidity'][i])\n",
    "        scaleH_i = pyro.param('scaleH_i', torch.tensor(1.), constraint=constraints.positive)\n",
    "        humidity = pyro.sample('humidity', dist.Normal(meanH_i, scaleH_i)) "
   ]
  },
  {
   "cell_type": "code",
   "execution_count": null,
   "metadata": {
    "colab": {
     "base_uri": "https://localhost:8080/"
    },
    "id": "NvIXRoVeL-05",
    "outputId": "d8287eee-ad25-4cf7-dcf8-ef7917a920ab"
   },
   "outputs": [],
   "source": [
    "#Run inference\n",
    "svi(model, guide, obs, num_steps=1000)\n",
    "\n",
    "#Print results    \n",
    "print(\"Posterior Temperature Mean\")\n",
    "print(dist.Normal(pyro.param(\"mean\").item(), pyro.param(\"scale\").item()))\n",
    "print(\"\")\n",
    "print(\"Posterior Humidity Mean\")\n",
    "print(dist.Normal(pyro.param(\"meanH\").item(), pyro.param(\"scaleH\").item()))\n",
    "print(\"\")\n",
    "print(\"Posterior Alpha\")\n",
    "print(dist.Normal(pyro.param(\"alpha_mean\").item(), pyro.param(\"alpha_scale\").item()))\n",
    "print(\"\")\n",
    "print(\"Posterior Beta\")\n",
    "print(dist.Normal(pyro.param(\"beta_mean\").item(), pyro.param(\"beta_scale\").item()))\n",
    "print(\"\")\n",
    "print(\"Posterior Gamma\")\n",
    "print(dist.Normal(pyro.param(\"gamma_mean\").item(), pyro.param(\"gamma_scale\").item()))"
   ]
  },
  {
   "cell_type": "markdown",
   "metadata": {
    "id": "NCld6GJGL-05"
   },
   "source": [
    "<img src=\"https://github.com/PGM-Lab/probai-2021-pyro/blob/main/Day1/Figures/blue.png?raw=1\" alt=\"Drawing\" width=2000 height=20>\n",
    "\n",
    "# 5.  **Temporal Models**\n",
    "\n",
    "If we expect that there might a temporal dependency between the variables, we can capture this in the model specification.\n",
    "\n",
    "Let us assume that there is a **temporal dependency** between the variables.\n",
    "\n",
    "* E.g. the current real temperature must be similar to the real temperature in the previous time step.\n",
    "\n",
    "This temporal dependency can be modeled using a **for-loop** in Pyro as illustrated in the graphical representation.\n",
    "\n",
    "\n",
    "<img src=\"https://github.com/PGM-Lab/probai-2021-pyro/raw/main/Day1/Figures/tempmodel-temporal-III.png\" alt=\"Drawing\" style=\"width: 350px;\" >\n",
    "\n",
    "\n",
    "Observe how this temporal model shares commonalities with the temporal models that we discussed a couple of lectures a go. "
   ]
  },
  {
   "cell_type": "code",
   "execution_count": null,
   "metadata": {
    "id": "dSzU0cWeL-05"
   },
   "outputs": [],
   "source": [
    "#The observatons   \n",
    "obs = {'sensor': torch.tensor([18., 18.7, 19.2, 17.8, 20.3, 22.4, 20.3, 21.2, 19.5, 20.1])}\n",
    "\n",
    "def model(obs):\n",
    "    mean_temp = pyro.sample('mean_temp', dist.Normal(15.0, 2.0))\n",
    "    for i in range(obs['sensor'].shape[0]):\n",
    "        if i==0:\n",
    "            temp = pyro.sample(f'temp_{i}', dist.Normal(mean_temp, 2.0))\n",
    "        else:\n",
    "            temp = pyro.sample(f'temp_{i}', dist.Normal(prev_temp, 2.0))\n",
    "        sensor = pyro.sample(f'sensor_{i}', dist.Normal(temp, 1.0), obs=obs['sensor'][i])\n",
    "        prev_temp = temp"
   ]
  },
  {
   "cell_type": "code",
   "execution_count": null,
   "metadata": {},
   "outputs": [],
   "source": [
    "#Visualize the model\n",
    "pyro.render_model(model, model_args=(obs, ))"
   ]
  },
  {
   "cell_type": "markdown",
   "metadata": {
    "id": "EAnXvUqpJCm1"
   },
   "source": [
    "<img src=\"https://github.com/PGM-Lab/probai-2021-pyro/blob/main/Day1/Figures/blue.png?raw=1\" alt=\"Drawing\" width=2000 height=20>\n",
    "\n",
    "Again we need a guide for performing inference (you need not worry about the details of this part)"
   ]
  },
  {
   "cell_type": "code",
   "execution_count": null,
   "metadata": {
    "cellView": "form",
    "id": "7XaW4rKXL-05"
   },
   "outputs": [],
   "source": [
    "#@title\n",
    "#Define the guide\n",
    "def guide(obs):\n",
    "    mean = pyro.param(\"mean\", torch.mean(obs['sensor']))\n",
    "    scale = pyro.param(\"scale\", torch.tensor(1.), constraint=constraints.positive)\n",
    "    mean_temp = pyro.sample('mean_temp', dist.Normal(mean, scale))\n",
    "    for i in range(obs['sensor'].shape[0]):\n",
    "        mean_i = pyro.param(f'mean_{i}', obs['sensor'][i])\n",
    "        scale_i = pyro.param(f'scale_{i}', torch.tensor(1.), constraint=constraints.positive)\n",
    "        temp = pyro.sample(f'temp_{i}', dist.Normal(mean_i, scale_i))"
   ]
  },
  {
   "cell_type": "code",
   "execution_count": null,
   "metadata": {
    "colab": {
     "base_uri": "https://localhost:8080/"
    },
    "id": "XWBFc6w3L-06",
    "outputId": "95a134d4-da55-4aa6-9cab-3e17a03f8ad5"
   },
   "outputs": [],
   "source": [
    "import time\n",
    "        \n",
    "#Run inference\n",
    "svi(model, obs, guide=guide, num_steps=1000)\n",
    "\n",
    "smooth_temp=[]\n",
    "for i in range(obs['sensor'].shape[0]):\n",
    "    smooth_temp.append(pyro.param(f'mean_{i}').item())\n",
    "\n",
    "print('Finished')"
   ]
  },
  {
   "cell_type": "markdown",
   "metadata": {
    "id": "OJHqOj3VL-06"
   },
   "source": [
    "We can now plot the **observered measurements** of the temperature **against** the inferred **real temperature**.\n",
    "\n",
    "* By querying the **local hidden** we can **smooth** the temperature.\n",
    "\n",
    "* The **recovered temperature** is much less noisy than the measured one. "
   ]
  },
  {
   "cell_type": "code",
   "execution_count": null,
   "metadata": {
    "colab": {
     "base_uri": "https://localhost:8080/",
     "height": 283
    },
    "id": "cesOfH6UL-06",
    "outputId": "6c29c1dc-7b66-4476-f572-fcab827cb85d"
   },
   "outputs": [],
   "source": [
    "import matplotlib.pyplot as plt\n",
    "plt.plot([18., 18.7, 19.2, 17.8, 20.3, 22.4, 20.3, 21.2, 19.5, 20.1], label='Sensor Temp')\n",
    "plt.plot(smooth_temp, label='Smooth Temp')\n",
    "plt.legend()"
   ]
  },
  {
   "cell_type": "markdown",
   "metadata": {
    "id": "yRDQWC-vL-06"
   },
   "source": [
    "<img src=\"https://github.com/PGM-Lab/probai-2021-pyro/blob/main/Day1/Figures/blue.png?raw=1\" alt=\"Drawing\" width=2000 height=20>\n",
    "\n",
    "### <span style=\"color:red\">Exercise 3:  Temporal Extension of the Iceacream shop model </span> \n",
    "\n",
    "Assume that:\n",
    "* temperature depends of the **temperature in the previous day**.\n",
    "* humidity depends of the **humidity in the previous day**.\n",
    "* sales depends on the **current temperature and humidity**.\n",
    "\n",
    "Use the following **graphical representation for reference**.\n",
    "\n",
    "<img src=\"https://github.com/PGM-Lab/probai-2021-pyro/raw/main/Day1/Figures/icecream-model-temporal.png\" alt=\"Drawing\" width=800 >\n",
    "\n",
    "Note that the plate representation has to be coded in Pyro using a **``for-loop``**."
   ]
  },
  {
   "cell_type": "code",
   "execution_count": null,
   "metadata": {
    "id": "GevI9bcjL-07"
   },
   "outputs": [],
   "source": [
    "#The observatons   \n",
    "obs = {'sensor': torch.tensor([18., 18.7, 19.2, 17.8, 20.3, 22.4, 20.3, 21.2, 19.5, 20.1]),\n",
    "       'sales': torch.tensor([46., 47., 49., 44., 50., 54., 51., 52., 49., 53.]),\n",
    "       'sensor_humidity': torch.tensor([82.8, 87.6, 69.1, 74.2, 80.3, 94.2, 91.2, 92.2, 99.1, 93.2])}\n",
    "\n",
    "\n",
    "\n",
    "def model(obs):\n",
    "    mean_temp = pyro.sample('mean_temp', dist.Normal(15.0, 2.0))\n",
    "    ## Introduce a random variable \"mean_humidity\"\n",
    "    ...\n",
    "\n",
    "\n",
    "    alpha = pyro.sample('alpha', dist.Normal(0.0, 100.0))\n",
    "    beta = pyro.sample('beta', dist.Normal(0.0, 100.0))\n",
    "    ## Introduce a coefficient for the humidity \"gamma\"\n",
    "    ...\n",
    "    \n",
    "    for i in range(obs['sensor'].shape[0]):\n",
    "        if i==0:\n",
    "            temp = pyro.sample(f'temp_{i}', dist.Normal(mean_temp, 2.0))\n",
    "            #Introduce the 'humidity' variable at time 0.\n",
    "            ...\n",
    "        else:\n",
    "            temp = pyro.sample(f'temp_{i}', dist.Normal(prev_temp, 2.0))\n",
    "            #Introduce the f'humidity_{i}' variable defining the transition\n",
    "            ...\n",
    "            \n",
    "        sensor = pyro.sample(f'sensor_{i}', dist.Normal(temp, 1.0), obs=obs['sensor'][i])\n",
    "        #Introduce the f'sensor_humidity_{i}' variable. \n",
    "        ...\n",
    "        \n",
    "        #Add the linear dependency for the rate with respect to temp and humidity (keep torch.max to avoid numerical stability issues)\n",
    "        ...\n",
    "        sales = pyro.sample(f'sales_{i}', dist.Poisson(rate), obs=obs['sales'][i])\n",
    "\n",
    "        prev_temp = temp\n",
    "        #Keep humidity for the next time step. \n",
    "        prev_humidity = humidity\n"
   ]
  },
  {
   "cell_type": "markdown",
   "metadata": {
    "id": "BOo487l4L3L1"
   },
   "source": [
    "<img src=\"https://github.com/PGM-Lab/probai-2021-pyro/blob/main/Day1/Figures/blue.png?raw=1\" alt=\"Drawing\" width=2000 height=20>\n",
    "\n",
    "\n",
    "Again we need a guide for performing inference (you need not worry about the details of this part)"
   ]
  },
  {
   "cell_type": "code",
   "execution_count": null,
   "metadata": {
    "id": "izRFQ0T3L-07"
   },
   "outputs": [],
   "source": [
    "#@title\n",
    "#Define the guide\n",
    "def guide(obs):\n",
    "    mean = pyro.param(\"mean\", torch.mean(obs['sensor']))\n",
    "    scale = pyro.param(\"scale\", torch.tensor(1.), constraint=constraints.greater_than(0.01))\n",
    "    mean_temp = pyro.sample('mean_temp', dist.Normal(mean, scale))\n",
    "\n",
    "    meanH = pyro.param(\"meanH\", torch.mean(obs['sensor_humidity']), constraint=constraints.positive)\n",
    "    scaleH = pyro.param(\"scaleH\", torch.tensor(1.), constraint=constraints.greater_than(0.01))\n",
    "    humidity_mean = pyro.sample('mean_humidity', dist.Normal(meanH, scaleH))\n",
    "\n",
    "\n",
    "    alpha_mean = pyro.param(\"alpha_mean\", torch.mean(obs['sensor']))\n",
    "    alpha_scale = pyro.param(\"alpha_scale\", torch.tensor(1.), constraint=constraints.greater_than(0.01))\n",
    "    alpha = pyro.sample('alpha', dist.Normal(alpha_mean, alpha_scale))\n",
    "\n",
    "    beta_mean = pyro.param(\"beta_mean\", torch.tensor(0.0))\n",
    "    beta_scale = pyro.param(\"beta_scale\", torch.tensor(1.), constraint=constraints.greater_than(0.01))\n",
    "    beta = pyro.sample('beta', dist.Normal(beta_mean, beta_scale))\n",
    "\n",
    "    gamma_mean = pyro.param(\"gamma_mean\", torch.tensor(0.0))\n",
    "    gamma_scale = pyro.param(\"gamma_scale\", torch.tensor(1.), constraint=constraints.greater_than(0.01))\n",
    "    gamma = pyro.sample('gamma', dist.Normal(gamma_mean, gamma_scale))\n",
    "\n",
    "    for i in range(obs['sensor'].shape[0]):\n",
    "        mean_i = pyro.param(f'mean_{i}', obs['sensor'][i])\n",
    "        scale_i = pyro.param(f'scale_{i}', torch.tensor(1.), constraint=constraints.greater_than(0.01))\n",
    "        temp = pyro.sample(f'temp_{i}', dist.Normal(mean_i, scale_i))\n",
    "        meanH_i = pyro.param(f'meanH_{i}', obs['sensor_humidity'][i])\n",
    "        scaleH_i = pyro.param(f'scaleH_{i}', torch.tensor(1.), constraint=constraints.greater_than(0.01))\n",
    "        humidity_i = pyro.sample(f'humidity_{i}', dist.Normal(meanH_i, scaleH_i))"
   ]
  },
  {
   "cell_type": "code",
   "execution_count": null,
   "metadata": {
    "colab": {
     "base_uri": "https://localhost:8080/"
    },
    "id": "tMWwy2UNL-07",
    "outputId": "ea74d3c1-275a-453f-8397-3830e3158d65"
   },
   "outputs": [],
   "source": [
    "import time\n",
    "        \n",
    "#Run inference\n",
    "svi(model, guide, obs, num_steps=2000)\n",
    "\n",
    "smooth_temp=[]\n",
    "smooth_humidity=[]\n",
    "\n",
    "for i in range(obs['sensor'].shape[0]):\n",
    "    smooth_temp.append(pyro.param(f'mean_{i}').item())\n",
    "    smooth_humidity.append(pyro.param(f'meanH_{i}').item())\n",
    "\n",
    "print('Finished')"
   ]
  },
  {
   "cell_type": "markdown",
   "metadata": {
    "id": "LosM2wXBMAFX"
   },
   "source": [
    "<img src=\"https://github.com/PGM-Lab/probai-2021-pyro/blob/main/Day1/Figures/blue.png?raw=1\" alt=\"Drawing\" width=2000 height=20>\n",
    "\n",
    "Again, we can plot the observered measurements of the temperature against the **inferred real temperature** by our model. The **recovered temperature** is much less noisy than the real one."
   ]
  },
  {
   "cell_type": "code",
   "execution_count": null,
   "metadata": {
    "colab": {
     "base_uri": "https://localhost:8080/",
     "height": 282
    },
    "id": "7kr1dbx-L-07",
    "outputId": "7e4e5df6-d9da-4a94-a87e-18f4899b1119"
   },
   "outputs": [],
   "source": [
    "plt.plot([18., 18.7, 19.2, 17.8, 20.3, 22.4, 20.3, 21.2, 19.5, 20.1], label='Sensor Temp')\n",
    "plt.plot(smooth_temp, label='Smooth Temp')\n",
    "plt.legend()"
   ]
  },
  {
   "cell_type": "markdown",
   "metadata": {
    "id": "QStTTd9nN56M"
   },
   "source": [
    "We can also plot the observered measurements of the humidity against the **inferred real humidity** by our model. The **recovered humidity** is much less noisy than the real one."
   ]
  },
  {
   "cell_type": "code",
   "execution_count": null,
   "metadata": {
    "colab": {
     "base_uri": "https://localhost:8080/",
     "height": 282
    },
    "id": "WD7n3v9oL-08",
    "outputId": "552faaeb-89bd-4766-e80e-cb330d78e51d"
   },
   "outputs": [],
   "source": [
    "humidity = torch.tensor([82.8, 87.6, 69.1, 74.2, 80.3, 94.2, 91.2, 92.2, 99.1, 93.2])\n",
    "plt.plot(humidity.detach().numpy(), label='Sensor Humidity')\n",
    "plt.plot(smooth_humidity, label='Smooth Humidity')\n",
    "plt.legend()"
   ]
  },
  {
   "cell_type": "markdown",
   "metadata": {
    "id": "858lPsjJOTJd"
   },
   "source": [
    "<img src=\"https://github.com/PGM-Lab/probai-2021-pyro/blob/main/Day1/Figures/blue.png?raw=1\" alt=\"Drawing\" width=2000 height=20>\n"
   ]
  }
 ],
 "metadata": {
  "colab": {
   "include_colab_link": true,
   "name": "solutions_PPLs_Intro.ipynb",
   "provenance": []
  },
  "kernelspec": {
   "display_name": "ML-2022",
   "language": "python",
   "name": "ml-2022"
  },
  "language_info": {
   "codemirror_mode": {
    "name": "ipython",
    "version": 3
   },
   "file_extension": ".py",
   "mimetype": "text/x-python",
   "name": "python",
   "nbconvert_exporter": "python",
   "pygments_lexer": "ipython3",
   "version": "3.8.6"
  }
 },
 "nbformat": 4,
 "nbformat_minor": 1
}
