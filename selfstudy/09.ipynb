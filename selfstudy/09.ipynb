{
 "cells": [
  {
   "cell_type": "code",
   "execution_count": 1,
   "id": "sticky-engine",
   "metadata": {},
   "outputs": [],
   "source": [
    "import numpy as np\n",
    "import numpy.matlib\n",
    "import matplotlib.pyplot as plt"
   ]
  },
  {
   "cell_type": "code",
   "execution_count": 2,
   "id": "smooth-departure",
   "metadata": {},
   "outputs": [],
   "source": [
    "class HMM:\n",
    "    def __init__(self, prior_model, trans_model, sensor_model):\n",
    "        \"\"\"\n",
    "        :param prior_model: Column vector with prior probabilities for X_0\n",
    "        :param trans_model: Transition matrix with transModel(i, j)=P(X_t=j | X_{t-1}=i.\n",
    "        I.e., the transition probabilities are given row-wise.\n",
    "        :param sensor_model: Sensor matrix (noHiddenStates x noSensorStates) with the sensor probabilities; the\n",
    "        sensor probabilities are listed row-wise.\n",
    "        \"\"\"\n",
    "\n",
    "        # Storage for model parameters\n",
    "        self.prior_model = None\n",
    "        self.trans_model = None\n",
    "        self.diag_sensor_model = None\n",
    "        self.num_hidden = None\n",
    "        self.num_obs = None\n",
    "\n",
    "        # Holds the log-likelihood of the model given the data\n",
    "        self.ll = None\n",
    "\n",
    "        # Storage for messages being send during inference\n",
    "        self.forward_messages = None\n",
    "        self.backward_messages = None\n",
    "        self.forward_backward_messages = None\n",
    "\n",
    "        # Initialize the data structures\n",
    "        self.initialize(prior_model, trans_model, sensor_model)\n",
    "\n",
    "    def initialize(self, prior_model, trans_model, sensor_model):\n",
    "        \"\"\"\n",
    "          :param prior_model: Column vector with prior probabilities for X_0\n",
    "          :param trans_model: Transition matrix with transModel(i, j)=P(X_t=j | X_{t-1}=i.\n",
    "          I.e., the transition probabilities are given row-wise.\n",
    "          :param sensor_model: Sensor matrix (noHiddenStates x noSensorStates) with the sensor probabilities; the\n",
    "          sensor probabilities are listed row-wise.\n",
    "          \"\"\"\n",
    "\n",
    "        self.prior_model = prior_model\n",
    "        self.trans_model = trans_model\n",
    "\n",
    "        # Extract the number of states for the hidden/state variable and the observation variable\n",
    "        self.num_hidden = sensor_model.shape[0]\n",
    "        self.num_obs = sensor_model.shape[1]\n",
    "\n",
    "        # Convert the sensor model specification into diagonal form (see Slide 25)\n",
    "        self.diag_sensor_model = []\n",
    "        for i in range(self.num_obs):\n",
    "            self.diag_sensor_model.append(np.diag(sensor_model[:, i]))\n",
    "\n",
    "    # Do forward calculations: P(X_k|e_{1:k}). As a byproduct, we also get the log-likelihood of the model given the\n",
    "    # data\n",
    "    def forward(self, data):\n",
    "        \"\"\"\n",
    "        :param data: list with entries of the observations\n",
    "        \"\"\"\n",
    "\n",
    "        # Initialization\n",
    "        total_time = len(data)\n",
    "        self.forward_messages = np.zeros((self.num_hidden, total_time))\n",
    "\n",
    "        # Do forward calculations\n",
    "        #\n",
    "        # We take special care of the first time step, where an observation is\n",
    "        # assumed and no transition model is involved. Note that this differs a bit from the AIMA model from the\n",
    "        # lecture\n",
    "        self.forward_messages[:, 0] = np.dot(self.diag_sensor_model[data[0]], self.prior_model)\n",
    "\n",
    "        # Calculate the log-likelihood (ll) contribution from the first time step\n",
    "        self.ll = np.log2(np.sum(self.forward_messages[:, 0]))\n",
    "        self.forward_messages[:, 0] = self.forward_messages[:, 0] / np.sum(self.forward_messages[:, 0])\n",
    "\n",
    "        for t in range(1, total_time):\n",
    "            temporal_term = np.dot(np.transpose(self.trans_model), self.forward_messages[:, t - 1])\n",
    "            self.forward_messages[:, t] = np.dot(self.diag_sensor_model[data[t]], temporal_term)\n",
    "\n",
    "            # Update ll\n",
    "            self.ll += np.log2(np.sum(self.forward_messages[:, t]))\n",
    "\n",
    "            # Normalize\n",
    "            self.forward_messages[:, t] = self.forward_messages[:, t] / np.sum(self.forward_messages[:, t])\n",
    "\n",
    "    # Do backward calculations: P(e_{k+1:t}|X_k)\n",
    "    def backward(self, data):\n",
    "        \"\"\"\n",
    "        :param data: list with entries of the observations\n",
    "        \"\"\"\n",
    "\n",
    "        # Initialization\n",
    "        total_time = len(data)\n",
    "        self.backward_messages = np.zeros((self.num_hidden, total_time))\n",
    "        self.backward_messages[:, total_time - 1] = np.ones(self.num_hidden)\n",
    "\n",
    "        # Do backward calculations\n",
    "        for t in range(total_time - 2, -1, -1):\n",
    "            temp = np.dot(self.diag_sensor_model[data[t + 1]], self.backward_messages[:, t + 1])\n",
    "            self.backward_messages[:, t] = np.dot(self.trans_model, temp)\n",
    "\n",
    "            # Normalize (just to avoid numerical instability)\n",
    "            self.backward_messages[:, t] = self.backward_messages[:, t] / np.sum(self.backward_messages[:, t])\n",
    "\n",
    "    # The forward backward algorithm. It essentially just calls the forward and backward functions and normalizes the\n",
    "    # results afterwards.\n",
    "    def forward_backward(self, data):\n",
    "        \"\"\"\n",
    "        :param data: list with entries of the observations\n",
    "        \"\"\"\n",
    "\n",
    "        self.forward(data)\n",
    "        self.backward(data)\n",
    "        prob = self.forward_messages * self.backward_messages\n",
    "        self.forward_backward_messages = prob / np.matlib.repmat(np.sum(prob, axis=0), self.num_hidden, 1)\n",
    "\n",
    "    # Visualize the results\n",
    "    def visualize(self, state, data=None):\n",
    "        \"\"\"\n",
    "        :param state: Display the probability of the state 'state'\n",
    "        :param data: The observations that have been made\n",
    "        \"\"\"\n",
    "        fig = plt.figure()\n",
    "        ax1 = fig.add_subplot(1,1,1)\n",
    "        if self.forward_backward_messages is not None:\n",
    "            ax1.plot(self.forward_backward_messages[state, :], label='Smooted estimate')\n",
    "        if self.forward_messages is not None:\n",
    "            ax1.plot(self.forward_messages[state, :], label='Filtered estimate')\n",
    "        if data is not None:\n",
    "            ax1.plot(data, label='Observations')\n",
    "        plt.xticks(range(0,self.forward_messages.shape[1]))\n",
    "        plt.xlabel(\"Time steps\")\n",
    "        plt.ylabel(\"P(X={}|evidence)\".format(state))\n",
    "        plt.title(\"Smoothed and filtered probabilities\")\n",
    "        ax1.legend(loc='best')\n",
    "\n",
    "        fig.subplots_adjust(hspace=.5)\n",
    "        plt.show()"
   ]
  },
  {
   "cell_type": "code",
   "execution_count": 4,
   "id": "seasonal-advice",
   "metadata": {},
   "outputs": [
    {
     "data": {
      "image/png": "[encoded data removed]",
      "text/plain": [
       "<Figure size 432x288 with 1 Axes>"
      ]
     },
     "metadata": {
      "needs_background": "light"
     },
     "output_type": "display_data"
    }
   ],
   "source": [
    "# Transition matrix with transModel(i, j)=P(X_t=j | X_{t-1}=i.I.e., the transition probabilities are given row-wise.\n",
    "trans_model = np.array([[0.9, 0.1], [0.4, 0.6]])\n",
    "\n",
    "# Column vector with prior probabilities for X_0\n",
    "prior_model = np.array([0.8, 0.2])\n",
    "\n",
    "# Sensor matrix (noHiddenStates x noSensorStates) with the sensor probabilities; the sensor probabilities are\n",
    "# listed row-wise.\n",
    "sensor_model = np.array([[0.95, 0.05], [0.1, 0.9]])\n",
    "\n",
    "hmm = HMM(prior_model, trans_model, sensor_model)\n",
    "\n",
    "# The state number of the observations being made\n",
    "data = [0, 1, 0, 1, 1, 1, 0, 0, 0]\n",
    "\n",
    "# Perform the forward backward propagations\n",
    "hmm.forward_backward(data)\n",
    "\n",
    "# Visualize the results\n",
    "hmm.visualize(1)"
   ]
  },
  {
   "cell_type": "markdown",
   "id": "returning-luxembourg",
   "metadata": {},
   "source": [
    "## Exercise 1\n",
    "\n",
    "- Implement a HMM model\n",
    "- Implement a method for performing predection\n",
    "- Solve Exercise 1 tih the model\n",
    " How does the filtered and smoothed proabilitystimates compare?"
   ]
  },
  {
   "cell_type": "code",
   "execution_count": 8,
   "id": "37bc23f6",
   "metadata": {},
   "outputs": [],
   "source": [
    "trans_model = np.array([[0.7, 0.3], [0.3, 0.7]])\n",
    "# 0.7 in trans model denoted P(R_t+1= not rain | R_t = not rain)\n",
    "# 0.3 in trans model denoted P(R_t+1= rain | R_t = not rain)\n",
    "# 0.3 in trans model denoted P(R_t+1= not rain | R_t = rain)\n",
    "# 0.7 in trans model denoted P(R_t+1= rain | R_t = rain)\n",
    "\n",
    "prior_model = np.array([0.5, 0.5])\n",
    "# 0.5 in prior model denoted (R_0 = not rain)\n",
    "# 0.5 in prior model denoted (R_0 = rain)\n",
    "\n",
    "sensor_model = np.array([[0.8, 0.2], [0.1, 0.9]]) # has to be inverse to match indexing, because idx1=umb\n",
    "# and we make np.diag(sensor_model[idx,:])\n",
    "# 0.8 in sensor model denoted P(no-umb| Not rain)\n",
    "# 0.2 in sensor model denoted P(umb | Not rain)\n",
    "# 0.1 in sensor model denoted P(no-umb | rain)\n",
    "# 0.9 in sensor model denoted P(umb | rain)\n",
    "\n",
    "hmm = HMM(prior_model, trans_model, sensor_model)\n",
    "\n",
    "data = [1, 0, 1] #umb, no-umb, umb"
   ]
  },
  {
   "cell_type": "code",
   "execution_count": 16,
   "id": "6d704f91",
   "metadata": {},
   "outputs": [
    {
     "data": {
      "text/plain": [
       "(array([[0.8, 0.2],\n",
       "        [0.1, 0.9]]),\n",
       " array([[0.7, 0.3],\n",
       "        [0.3, 0.7]]),\n",
       " array([0.5, 0.5]))"
      ]
     },
     "execution_count": 16,
     "metadata": {},
     "output_type": "execute_result"
    }
   ],
   "source": [
    "sensor_model, trans_model, prior_model"
   ]
  },
  {
   "cell_type": "markdown",
   "id": "e529ed6c",
   "metadata": {},
   "source": [
    "- Implement a method for performing prediction."
   ]
  },
  {
   "cell_type": "code",
   "execution_count": 11,
   "id": "6662ab06",
   "metadata": {},
   "outputs": [],
   "source": [
    "def pred_k_ahead(hmm, data, k): \n",
    "    num_hidden_states = hmm.diag_sensor_model[0].shape[0]\n",
    "    preds = np.zeros((k, num_hidden_states))\n",
    "    hmm.forward(data)\n",
    "    pred_i = hmm.forward_messages[:,-1]\n",
    "    for i in range(k):\n",
    "        pred_i = np.dot(hmm.trans_model.T,  pred_i)\n",
    "        pred_i = pred_i / pred_i.sum()\n",
    "        preds[i, :] = pred_i\n",
    "    return preds"
   ]
  },
  {
   "cell_type": "markdown",
   "id": "0ff942e0",
   "metadata": {},
   "source": [
    "- Use the implemented model to solve Exercise 1. You are most welcome to\n",
    "consider other evidence scenarios that the one specified."
   ]
  },
  {
   "cell_type": "markdown",
   "id": "8e689ca5",
   "metadata": {},
   "source": [
    "        - Exc 1 from Exc.1 - compute rain_3 \n",
    "        - data = [1,0,1]"
   ]
  },
  {
   "cell_type": "code",
   "execution_count": 13,
   "id": "535a475e",
   "metadata": {},
   "outputs": [
    {
     "data": {
      "text/plain": [
       "array([[0.18181818, 0.82619647, 0.274919  ],\n",
       "       [0.81818182, 0.17380353, 0.725081  ]])"
      ]
     },
     "execution_count": 13,
     "metadata": {},
     "output_type": "execute_result"
    }
   ],
   "source": [
    "hmm.forward(data)\n",
    "hmm.forward_messages\n",
    "# results matches as expected\n",
    "# upper row is not rain state, lower row is rain state"
   ]
  },
  {
   "cell_type": "code",
   "execution_count": 15,
   "id": "f40116fe",
   "metadata": {},
   "outputs": [
    {
     "data": {
      "text/plain": [
       "(array([[0.4099676 , 0.5900324 ],\n",
       "        [0.46398704, 0.53601296]]),\n",
       " array([0.5, 0.5]))"
      ]
     },
     "execution_count": 15,
     "metadata": {},
     "output_type": "execute_result"
    }
   ],
   "source": [
    "# matches and converges toward 50/50\n",
    "pred_k_ahead(hmm, data, 2), pred_k_ahead(hmm, data, 100)[-1]\n",
    "# it converges towards fifty/fify because the transition matrix is symmetric, so it stays in each state\n",
    "# equally much"
   ]
  },
  {
   "cell_type": "markdown",
   "id": "34f145a6",
   "metadata": {},
   "source": [
    "- How does the filtered and smoothed probability estimates compare?"
   ]
  },
  {
   "cell_type": "code",
   "execution_count": 19,
   "id": "a6852700",
   "metadata": {},
   "outputs": [
    {
     "data": {
      "image/png": "[encoded data removed]",
      "text/plain": [
       "<Figure size 432x288 with 1 Axes>"
      ]
     },
     "metadata": {
      "needs_background": "light"
     },
     "output_type": "display_data"
    }
   ],
   "source": [
    "hmm.forward(data)\n",
    "hmm.forward_backward(data)\n",
    "hmm.visualize(1)\n",
    "# smoothed looks more smooth, not so spiky"
   ]
  },
  {
   "cell_type": "markdown",
   "id": "fe04f003",
   "metadata": {},
   "source": [
    "### Exercise 2\n",
    "- explain how you will decide on which meteorologist you believe the most\n",
    "in based on your observations.\n",
    "    - meterologist: 1, weather stays same with 0.7 prob\n",
    "    - meterologist: 2, weather stays same with 0.8 prob if not rain, if rain only 0.6 prob\n",
    "    - data = obs = ⟨umb, umb, umb, umb, no-umb, no-umb, no-umb, umb, no-umb, no-umb⟩"
   ]
  },
  {
   "cell_type": "markdown",
   "id": "088a8135",
   "metadata": {},
   "source": [
    "- __Answer__:\n",
    "    - To compute it we will compute $\\text{P}(obs| \\lambda_1)$ and $\\text{P}(obs| \\lambda_2)$\n",
    "    - where $\\lambda_i$ is the parameterizaton suggested by the transition models of meterologist i.\n",
    "    - to do this it suffices to use the forward-propagation algorithm as written in (Rabiner, 1989),\n",
    "      instead of multiplying just the probabilities, we will compute the log of the prob. hence we can use additions instead of multiplication to get numerical stability"
   ]
  },
  {
   "cell_type": "markdown",
   "id": "088a8135",
   "metadata": {},
   "source": [
    "- how would you use the HMM Python implementation to help you decide\n",
    "on which of the two models/meteorologist to use. Also, what is the result\n",
    "of the analysis?\n"
   ]
  },
  {
   "cell_type": "markdown",
   "id": "2b9daf89",
   "metadata": {},
   "source": [
    "- __Answer__:\n",
    "    - so we need to call forward and then not need doing the normalization, which is similar to summing the ll\n",
    "    - so just comparing the two hmm models by their ll, suggested by the respective meterologists will suffice"
   ]
  },
  {
   "cell_type": "code",
   "execution_count": 23,
   "id": "175dfe0f",
   "metadata": {},
   "outputs": [
    {
     "name": "stdout",
     "output_type": "stream",
     "text": [
      "Log likelihood of data given meterorlogist:\n",
      "Meterologist 1: -9.403164354171803\n",
      "Meterologist 2: -8.964803176252609\n",
      "Meterologist 2 wins\n"
     ]
    }
   ],
   "source": [
    "# paremeterizing the models \n",
    "trans_model1 = np.array([[0.7, 0.3], [0.3, 0.7]])\n",
    "trans_model2 = np.array([[0.8, 0.2], [0.4, 0.6]])\n",
    " # not need below flip idea seems now\n",
    " # because we have rain = true as data value = 1, so need flip\n",
    " # similar to sensor data we also had flip\n",
    "#trans_model2[[0,1]] = trans_model2[[1,0]]\n",
    "\n",
    "prior_model = prior_model # as before\n",
    "sensor_model = sensor_model # as before \n",
    "hmm_m1 = HMM(prior_model, trans_model1, sensor_model)\n",
    "hmm_m2 = HMM(prior_model, trans_model2, sensor_model)\n",
    "data = [1, 1, 1, 1, 0, 0, 0, 1, 0, 0]\n",
    "hmm_m1.forward(data)\n",
    "hmm_m2.forward(data)\n",
    "print(f'Log likelihood of data given meterorlogist:')\n",
    "print(f'Meterologist 1: {hmm_m1.ll}')\n",
    "print(f'Meterologist 2: {hmm_m2.ll}')\n",
    "print(f'Meterologist {np.argmax(np.array([hmm_m1.ll, hmm_m2.ll]))+1} wins')"
   ]
  },
  {
   "cell_type": "markdown",
   "id": "1327bfb8",
   "metadata": {},
   "source": [
    "### Exercise 3\n",
    "- data\n",
    "    - 1 : ⟨U1 = y, U2 = n, U3 = y⟩\n",
    "    - 2 : ⟨U1 = y, U2 = n, U3 = n⟩\n",
    "1. Trace (at a conceptual level) the steps that you will have to go through."
   ]
  },
  {
   "cell_type": "markdown",
   "id": "6355fc18",
   "metadata": {},
   "source": [
    "- __Answer__:\n",
    "    - We need to do expectation and then modification repeatedly, to update the learned parameterization\n",
    "<img src=\"images/hmm_parameter1.png\" width=400/>\n",
    "<img src=\"images/hmm_parameter2.png\" width=400/>\n",
    "\n",
    "    - Alg. sketch:\n",
    "    - 1. do forward backward propagation\n",
    "    - 2. update the new priors (which will not change)\n",
    "    - 3. update the new transition probabilities, for example to comput P(rain_i=t|rain_i-1=t) we need to sum the respective probabilities for P(rain_i=t) from the forward-backward-messages"
   ]
  },
  {
   "cell_type": "markdown",
   "id": "6d93a4d6",
   "metadata": {},
   "source": [
    "2. Use the python implementation to calculate the required probabilities."
   ]
  },
  {
   "cell_type": "code",
   "execution_count": 25,
   "id": "53963a4f",
   "metadata": {},
   "outputs": [],
   "source": [
    "# New transition matrix\n",
    "def trans_model_hat(hmm, data):\n",
    "    hmm.forward_backward(data)\n",
    "    n_hidden = hmm.diag_sensor_model[0].shape[0]\n",
    "    time = hmm.forward_messages.shape[1]\n",
    "    trans_ij = np.zeros((time, n_hidden, n_hidden)) # P(R_t-1, R_t | x_i), hiddenStates X time\n",
    "    # compute probabilities for transition from i to j at each t\n",
    "    for t in range(time):\n",
    "        trans_ij_t = trans_model * hmm.forward_backward_messages[:, t]\n",
    "        trans_ij_t = hmm.diag_sensor_model[data[t]] @ trans_ij_t\n",
    "        # normalize \n",
    "        trans_ij_t = trans_ij_t / trans_ij_t.sum(axis=1)[:, None]\n",
    "        trans_ij[t,:] = trans_ij_t\n",
    "    # Expectation + maximization\n",
    "    # sum prob for P(R_t, R_t-1) and divide with P(R_t-1)\n",
    "    new_trans_model = trans_ij.sum(axis=(0)) / trans_ij.sum(axis=(0,1))[:,None]\n",
    "    return new_trans_model"
   ]
  },
  {
   "cell_type": "code",
   "execution_count": 26,
   "id": "94e2651a",
   "metadata": {},
   "outputs": [],
   "source": [
    "# New prior, only 1 data example\n",
    "def prior_hat(hmm, data):\n",
    "    hmm.forward_backward(data)\n",
    "    return hmm.forward_backward_messages[:,0] # np.array([0.5,0.5])"
   ]
  },
  {
   "cell_type": "code",
   "execution_count": 27,
   "id": "79f6bbc5",
   "metadata": {},
   "outputs": [],
   "source": [
    "# New sensor model \n",
    "def sensor_model_hat(hmm, data, sensor_model):\n",
    "    hmm.forward_backward(data)\n",
    "    n_hidden = hmm.diag_sensor_model[0].shape[0]\n",
    "    time = hmm.forward_messages.shape[1]\n",
    "    trans_ij = np.zeros((time, n_hidden, n_hidden)) # P(R_t-1, R_t | x_i), hiddenStates X time\n",
    "    # compute probabilities for transition from i to j at each t\n",
    "    for t in range(time):\n",
    "        trans_ij_t = trans_model * hmm.forward_backward_messages[:, t]\n",
    "        trans_ij_t = hmm.diag_sensor_model[data[t]] @ trans_ij_t\n",
    "        # normalize \n",
    "        trans_ij_t = trans_ij_t / trans_ij_t.sum(axis=1)[:, None]\n",
    "        trans_ij[t,:] = trans_ij_t\n",
    "    # Marginalize out P(R_t_-1)\n",
    "    # sum prob for P(R_t, R_t-1) and divide with P(R_t-1)\n",
    "    prob_state_j = trans_ij.sum(axis=(1))\n",
    "\n",
    "    # Expectation + Maximization\n",
    "    new_sensor_model = np.zeros(sensor_model.shape)\n",
    "    umb_true_idx = np.arange(time)[np.asarray(data, dtype=bool)]\n",
    "    umb_false_idx =np.arange(time)[~np.asarray(data, dtype=bool)]\n",
    "    # P(U_t = umb | R_t)\n",
    "    new_sensor_model[0,:] = prob_state_j[umb_true_idx].sum(axis=0) / prob_state_j.sum(axis=0)\n",
    "    # P(U_t = no-umb | R_t)\n",
    "    new_sensor_model[1,:] = prob_state_j[umb_false_idx].sum(axis=0) / prob_state_j.sum(axis=0)\n",
    "    \n",
    "    return new_sensor_model"
   ]
  },
  {
   "cell_type": "markdown",
   "id": "24f4c449",
   "metadata": {},
   "source": [
    "3. Optional: Implement the algorithm in your HMM class in order to check\n",
    "your results."
   ]
  },
  {
   "cell_type": "code",
   "execution_count": 29,
   "id": "413e497b",
   "metadata": {},
   "outputs": [],
   "source": [
    "# combined alg. to update all parameters\n",
    "def hmm_hat_k(hmm, data, prior_model,\n",
    "            trans_model, sensor_model, k=1):\n",
    "    # k is number of iterations to update\n",
    "    hmm_hat = hmm\n",
    "    for i in range(k):\n",
    "        new_trans_model = trans_model_hat(hmm_hat, data)\n",
    "        new_prior_model = prior_hat(hmm_hat, data)\n",
    "        new_sensor_model = sensor_model_hat(hmm_hat, data, sensor_model)\n",
    "        hmm_hat = HMM(new_prior_model, new_trans_model, new_sensor_model)\n",
    "    \n",
    "    return hmm_hat, (new_prior_model, new_trans_model, new_sensor_model)"
   ]
  },
  {
   "cell_type": "code",
   "execution_count": 45,
   "id": "3a27c421",
   "metadata": {},
   "outputs": [
    {
     "name": "stdout",
     "output_type": "stream",
     "text": [
      "Log likelihood of data given new model:\n",
      "Old model (1): -9.403164354171803\n",
      "New model (2): -11.384841688508654\n",
      "Meterologist 1 wins\n"
     ]
    }
   ],
   "source": [
    "# checking that likelihood of data is higher with new model\n",
    "new_hmm, (new_prior_model, new_trans_model, new_sensor_model) = hmm_hat_k(hmm_m1, data, prior_model, trans_model, sensor_model, k=1)\n",
    "hmm_m1.forward(data)\n",
    "new_hmm.forward(data)\n",
    "print(f'Log likelihood of data given new model:')\n",
    "print(f'Old model (1): {hmm_m1.ll}')\n",
    "print(f'New model (2): {new_hmm.ll}')\n",
    "print(f'Meterologist {np.argmax(np.array([hmm_m1.ll, new_hmm.ll]))+1} wins')\n",
    "# hmm not working too well, or above transition model not specified well?"
   ]
  },
  {
   "cell_type": "markdown",
   "id": "0a940002",
   "metadata": {},
   "source": [
    "### Exercise 4"
   ]
  },
  {
   "cell_type": "markdown",
   "id": "5e2e9b38",
   "metadata": {},
   "source": [
    "<img src=\"images/ml9_exc4.png\" width=400/>"
   ]
  },
  {
   "cell_type": "markdown",
   "id": "4d9732cf",
   "metadata": {},
   "source": [
    "- Calculate the probability of P(S3 | O1 = 1.5, O2 = 3.8, O3 = 2.0)."
   ]
  },
  {
   "cell_type": "markdown",
   "id": "4d9732cf",
   "metadata": {},
   "source": [
    "S_t is specifying the continous means of the observations probs, with N(2*s_t,1)\n",
    "- so that is why we do 2*1 and 2*2 in loc in the observation probs. matrices"
   ]
  },
  {
   "cell_type": "code",
   "execution_count": 31,
   "id": "4303efe6",
   "metadata": {},
   "outputs": [],
   "source": [
    "from scipy.stats import norm\n",
    "trans_m = np.array([[0.9, 0.1], [0.3, 0.7]]) # specify row wise \n",
    "prior = np.array([0.3, 0.7])\n",
    "o1 = np.diag([norm.pdf(1.5, loc=2*1, scale=1), norm.pdf(1.5, loc=2*2, scale=1)])\n",
    "o2 = np.diag([norm.pdf(3.8, loc=2*1, scale=1), norm.pdf(3.8, loc=2*2, scale=1)])\n",
    "o3 = np.diag([norm.pdf(2.0, loc=2*1, scale=1), norm.pdf(2.0, loc=2*2, scale=1)])\n",
    "obs = [o1, o2, o3]"
   ]
  },
  {
   "cell_type": "code",
   "execution_count": 32,
   "id": "49f1f768",
   "metadata": {},
   "outputs": [
    {
     "data": {
      "text/plain": [
       "array([[0.89592101, 0.51003112, 0.91913168],\n",
       "       [0.10407899, 0.48996888, 0.08086832]])"
      ]
     },
     "execution_count": 32,
     "metadata": {},
     "output_type": "execute_result"
    }
   ],
   "source": [
    "# forward propagation\n",
    "n_hidden = 2\n",
    "time = 3\n",
    "prob_state_j = np.zeros((n_hidden, time)) \n",
    "\n",
    "prob_state_j[:,0] = obs[0] @ prior\n",
    "prob_state_j[:,0] = prob_state_j[:,0] / prob_state_j[:,0].sum()\n",
    "\n",
    "for t in range(1, time):\n",
    "    prob_state_j[:, t] = obs[t] @ (trans_m.T @ prob_state_j[:, t-1])\n",
    "    prob_state_j[:, t] = prob_state_j[:, t] / prob_state_j[:, t].sum()\n",
    "prob_state_j"
   ]
  },
  {
   "cell_type": "markdown",
   "id": "dcf269ed",
   "metadata": {},
   "source": [
    "- How should the Python class be adapted to accommodate the continuous\n",
    "observations? Feel free to try to make the adjustment to solve the exercise\n",
    "above.\n"
   ]
  },
  {
   "cell_type": "markdown",
   "id": "2e904543",
   "metadata": {},
   "source": [
    "__Answer__:\n",
    "\n",
    "        - rather than indexing into the sensor_model, we should instantiate a diag matrix with the respective probabilities from the respective probability distributions here the gaussian"
   ]
  },
  {
   "cell_type": "code",
   "execution_count": null,
   "id": "92a970c8",
   "metadata": {},
   "outputs": [],
   "source": []
  }
 ],
 "metadata": {
  "interpreter": {
   "hash": "a52c312340d997e0f2d76c4a69880a6c0d3df73b0efc89e90ec38cf5ac1fd14a"
  },
  "kernelspec": {
   "display_name": "Python 3.10.2 ('env': venv)",
   "language": "python",
   "name": "python3"
  },
  "language_info": {
   "codemirror_mode": {
    "name": "ipython",
    "version": 3
   },
   "file_extension": ".py",
   "mimetype": "text/x-python",
   "name": "python",
   "nbconvert_exporter": "python",
   "pygments_lexer": "ipython3",
   "version": "3.10.2"
  }
 },
 "nbformat": 4,
 "nbformat_minor": 5
}
