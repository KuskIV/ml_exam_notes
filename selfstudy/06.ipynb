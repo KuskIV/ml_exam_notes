{
 "cells": [
  {
   "cell_type": "markdown",
   "metadata": {},
   "source": [
    "# Self study 1\n",
    "\n",
    "In this self study you should work on the code examples below together with the associated questions. The notebook illustrates a basic neural network implementation, where we implement most of the relevant functions from scratch, except for the calculation of the gradients, for which we rely on the functionality provided by <a urel=\"https://pytorch.org\">PyTorch</a>. \n",
    "\n",
    "Since we rely on PyTorch functionality, we will also be using PyTorch's tensor data structure. This data structure operates in much the same way as numpy's ndarrays. You can find a brief introduction to PyTorch's tensors <a href=\"https://pytorch.org/tutorials/beginner/basics/tensorqs_tutorial.html\">here</a>.  \n",
    "\n",
    "\n",
    "\n",
    "The code illustrates the key concepts involved in the learning neural network. Go carefully through the code before starting to answer the questions at the end."
   ]
  },
  {
   "cell_type": "markdown",
   "metadata": {},
   "source": [
    "First we import the modules used in this selfstudy"
   ]
  },
  {
   "cell_type": "code",
   "execution_count": 2,
   "metadata": {},
   "outputs": [
    {
     "name": "stderr",
     "output_type": "stream",
     "text": [
      "c:\\Users\\Stonker69\\Documents\\GitHub\\ml_exam_notes\\selfstudy\\env\\lib\\site-packages\\tqdm\\auto.py:22: TqdmWarning: IProgress not found. Please update jupyter and ipywidgets. See https://ipywidgets.readthedocs.io/en/stable/user_install.html\n",
      "  from .autonotebook import tqdm as notebook_tqdm\n"
     ]
    }
   ],
   "source": [
    "import torch\n",
    "from torchvision import datasets, transforms\n",
    "from matplotlib import pyplot\n",
    "import matplotlib.pyplot as plt\n",
    "import numpy as np"
   ]
  },
  {
   "cell_type": "markdown",
   "metadata": {},
   "source": [
    "Through torch load the MNIST data set, which we will use in this self study. The MNIST database consists of grey scale images of handwritten digits. Each image is of size $28\\times 28$; see figure below for an illustration. The data set is divided into a training set consisting of $60000$ images and a test set with $10000$ images; in both\n",
    "data sets the images are labeled with the correct digits. If interested, you can find more information about the MNIST data set at http://yann.lecun.com/exdb/mnist/, including accuracy results for various machine learning methods.\n",
    "\n",
    "![MNIST DATA](MNIST-dataset.png)"
   ]
  },
  {
   "cell_type": "markdown",
   "metadata": {},
   "source": [
    "Using the data loader provided by torch we have an easy way of loading in data in batches (here of size 64). We can also make various other transformation of the data, such as normalization. The details for loading the data are not really that important, but if yiu are curious, you can find a quick introduction <a href=\"https://pytorch.org/tutorials/beginner/basics/quickstart_tutorial.html\">here</a>."
   ]
  },
  {
   "cell_type": "code",
   "execution_count": 3,
   "metadata": {},
   "outputs": [],
   "source": [
    "batch_size = 32\n",
    "train_loader = torch.utils.data.DataLoader(\n",
    "        datasets.MNIST('../data', train=True, download=True,\n",
    "                       transform=transforms.Compose([\n",
    "                           transforms.ToTensor(),\n",
    "                           transforms.Normalize((0.1307,), (0.3081,))\n",
    "                       ])),\n",
    "        batch_size=batch_size, shuffle=True)\n",
    "test_loader = torch.utils.data.DataLoader(\n",
    "        datasets.MNIST('../data', train=False, transform=transforms.Compose([\n",
    "            transforms.ToTensor(),\n",
    "            transforms.Normalize((0.1307,), (0.3081,))\n",
    "        ])),\n",
    "        batch_size=batch_size, shuffle=True)"
   ]
  },
  {
   "cell_type": "markdown",
   "metadata": {},
   "source": [
    "In the cell above, we are loading data in batches, which is subsequently used during optimization. We didn't discuss batch based learning during the last lecture, but please take a look at Slides 24 and 25 to get the gist of the approach. We will cover it in more detail during the next lecture.   \n",
    "\n",
    "Each batch is a list of two elements. The first element encodes the digit and has dimensions [64,1,28,28] (the figures are greyscale with no rbg channel, hence the '1'), and the second element contains the class/label information. "
   ]
  },
  {
   "cell_type": "code",
   "execution_count": 4,
   "metadata": {},
   "outputs": [
    {
     "name": "stdout",
     "output_type": "stream",
     "text": [
      "Batch dimension (digit): torch.Size([32, 1, 28, 28])\n",
      "Batch dimension (target): torch.Size([32])\n",
      "Target: 4 with shape torch.Size([])\n"
     ]
    },
    {
     "data": {
      "image/png": "[encoded data removed]",
      "text/plain": [
       "<Figure size 432x288 with 1 Axes>"
      ]
     },
     "metadata": {
      "needs_background": "light"
     },
     "output_type": "display_data"
    }
   ],
   "source": [
    "batch = iter(train_loader).next()\n",
    "print(f\"Batch dimension (digit): {batch[0].shape}\")\n",
    "print(f\"Batch dimension (target): {batch[1].shape}\")\n",
    "digit_batch = batch[0]\n",
    "img = digit_batch[0,:]\n",
    "pyplot.imshow(img.reshape((28, 28)), cmap=\"gray\")\n",
    "print(f\"Target: {batch[1][0]} with shape {batch[1][0].shape}\")"
   ]
  },
  {
   "cell_type": "markdown",
   "metadata": {},
   "source": [
    "With PyTorch we can specify that the tensors require gradients. This will make PyTorch record all operations performed on the tensors, so that we can afterwards calculate the gradients automatically using back propagation. See also the code example from the last lecture."
   ]
  },
  {
   "cell_type": "markdown",
   "metadata": {},
   "source": [
    "For the first part of this self study we will specify a neural network, which will encode a softmax function (see, e.g., Page 180 in <a href=\"https://www.deeplearningbook.org/contents/mlp.html\">The Deep Learning book</a>). For this we need a (randomly initialized) weight matrix and a bias, and for both of them we need their gradients wrt. our error function (yet to be defined) in order to perform learning. Note that to facilitate matrix multiplication we will flatten our image from $28\\times 28$ to $784$. "
   ]
  },
  {
   "cell_type": "code",
   "execution_count": 5,
   "metadata": {},
   "outputs": [],
   "source": [
    "def get_weights_and_bias():\n",
    "    weights = torch.randn(784, 10) / np.sqrt(784)\n",
    "    weights.requires_grad_()\n",
    "    bias = torch.zeros(10, requires_grad=True)\n",
    "\n",
    "    return weights, bias"
   ]
  },
  {
   "cell_type": "markdown",
   "metadata": {},
   "source": [
    "Out model specification"
   ]
  },
  {
   "cell_type": "code",
   "execution_count": 6,
   "metadata": {},
   "outputs": [],
   "source": [
    "def softmax(x):\n",
    "    return x.exp() / x.exp().sum(-1).unsqueeze(-1)\n",
    "\n",
    "def model(weights, bias, xb):\n",
    "    return softmax(xb @ weights + bias)"
   ]
  },
  {
   "cell_type": "markdown",
   "metadata": {},
   "source": [
    "Let's test our model (with our randomly initialized weights)"
   ]
  },
  {
   "cell_type": "code",
   "execution_count": 7,
   "metadata": {},
   "outputs": [
    {
     "name": "stdout",
     "output_type": "stream",
     "text": [
      "Batch shape: torch.Size([32, 784])\n",
      "Prediction on first image tensor([0.2181, 0.0379, 0.0407, 0.0574, 0.1039, 0.1609, 0.0649, 0.0615, 0.1094,\n",
      "        0.1453], grad_fn=<SelectBackward0>)\n",
      "Corresponding classification: 0\n"
     ]
    }
   ],
   "source": [
    "# We flatten the digit representation so that it is consistent with the weight matrix\n",
    "weights, bias, = get_weights_and_bias()\n",
    "xb = digit_batch.flatten(start_dim=1)\n",
    "print(f\"Batch shape: {xb.shape}\")\n",
    "preds = model(weights, bias, xb)\n",
    "print(f\"Prediction on first image {preds[0]}\")\n",
    "print(f\"Corresponding classification: {preds[0].argmax()}\")"
   ]
  },
  {
   "cell_type": "markdown",
   "metadata": {},
   "source": [
    "Next we define our loss function, in this case the log-loss (or negative log-likelihood):"
   ]
  },
  {
   "cell_type": "code",
   "execution_count": 8,
   "metadata": {},
   "outputs": [
    {
     "name": "stdout",
     "output_type": "stream",
     "text": [
      "tensor(2.2898, grad_fn=<MeanBackward0>)\n"
     ]
    }
   ],
   "source": [
    "def nll(input, target):\n",
    "    return (-input[range(target.shape[0]), target].log()).mean() \n",
    "loss_func = nll\n",
    "\n",
    "# L1 regularization has effect of pusing weights towards zero, this will create sparse weight\n",
    "# representation\n",
    "# L2 regularization has effect of pushing weights toward the origin, as it penalizes the norm of the weight\n",
    "\n",
    "def nll_reg(input, target, l2_alpha=None, l1_alpha=None):\n",
    "    l1_term = 0 \n",
    "    l2_term = 0\n",
    "    if l1_alpha:\n",
    "        l1_term = l1_alpha * (weights.abs().sum())\n",
    "    if l2_alpha:\n",
    "        l2_term = (l2_alpha / 2) * (weights.pow(2)).sum()     \n",
    "    return nll(input, target) + l1_term + l2_term\n",
    "\n",
    "# Make a test calculation\n",
    "yb = batch[1]\n",
    "print(loss_func(preds,yb))"
   ]
  },
  {
   "cell_type": "markdown",
   "metadata": {},
   "source": [
    "In the end, we are interested in the accuracy of our model"
   ]
  },
  {
   "cell_type": "code",
   "execution_count": 9,
   "metadata": {},
   "outputs": [],
   "source": [
    "def accuracy(out, yb):\n",
    "    preds = torch.argmax(out, dim=1)\n",
    "    return (preds == yb).float().mean()"
   ]
  },
  {
   "cell_type": "code",
   "execution_count": 10,
   "metadata": {},
   "outputs": [
    {
     "name": "stdout",
     "output_type": "stream",
     "text": [
      "Accuracy of model on batch (with random weights): 0.125\n"
     ]
    }
   ],
   "source": [
    "print(f\"Accuracy of model on batch (with random weights): {accuracy(preds, yb)}\")"
   ]
  },
  {
   "cell_type": "markdown",
   "metadata": {},
   "source": [
    "Now we are ready to combine it all and perform learning"
   ]
  },
  {
   "cell_type": "code",
   "execution_count": 15,
   "metadata": {},
   "outputs": [],
   "source": [
    "epochs = 1  # how many epochs to train for\n",
    "lr = 0.01  # learning rate\n",
    "alpha=0.9\n",
    "\n",
    "def train_model(lr, use_mometum=False):\n",
    "    train_losses = []\n",
    "    weights, bias = get_weights_and_bias()\n",
    "    v = torch.zeros(weights.shape, requires_grad=False) # momentum \n",
    "    for epoch in range(epochs):\n",
    "\n",
    "        for batch_idx, (xb, yb) in enumerate(train_loader):\n",
    "\n",
    "            xb = xb.squeeze().flatten(start_dim=1)\n",
    "            pred = model(weights, bias, xb)\n",
    "            # We specify the loss\n",
    "            loss = loss_func(pred, yb)\n",
    "            # and perform backpropagation    \n",
    "            loss.backward()\n",
    "            # Lastly we update the weights and bias (torch.no_grad() ensures that no gradient \n",
    "            # calculations are taking place in this part of the code)\n",
    "            with torch.no_grad():\n",
    "                if use_mometum:\n",
    "                    v = alpha * v - lr * weights.grad\n",
    "                    weights += v\n",
    "                else:\n",
    "                    weights -= lr * weights.grad\n",
    "                bias -= bias.grad * lr\n",
    "                # weights -= weights.grad * lr\n",
    "                bias -= bias.grad * lr\n",
    "                \n",
    "                # After updating we set the gradients to zero so that we ar eready for the next round\n",
    "                weights.grad.zero_()\n",
    "                bias.grad.zero_()\n",
    "                        \n",
    "                if batch_idx % 50 == 0:\n",
    "                    with torch.no_grad():\n",
    "                        train_loss = np.mean([loss_func(model(weights, bias, txb.squeeze().flatten(start_dim=1)), tyb).item() for txb, tyb in train_loader])\n",
    "                        print(f\"Epoch: {epoch}, B-idx: {batch_idx}, Training loss: {train_loss}\")\n",
    "                        train_losses.append(train_loss)\n",
    "    plt.plot(range(len(train_losses)), train_losses)\n",
    "    plt.savefig(f\"images/default_lr_{lr}_bs_{batch_size}_momentum_{alpha}.jpg\", bbox_inches='tight')\n",
    "    plt.clf()\n",
    "    return weights, bias"
   ]
  },
  {
   "cell_type": "code",
   "execution_count": null,
   "metadata": {},
   "outputs": [],
   "source": [
    "for lr in [0.02]:\n",
    "    train_model(lr)"
   ]
  },
  {
   "cell_type": "markdown",
   "metadata": {},
   "source": [
    "Plot the evolution of the training loss"
   ]
  },
  {
   "cell_type": "code",
   "execution_count": 17,
   "metadata": {
    "scrolled": true
   },
   "outputs": [
    {
     "data": {
      "image/png": "[encoded data removed]",
      "text/plain": [
       "<Figure size 432x288 with 1 Axes>"
      ]
     },
     "metadata": {
      "needs_background": "light"
     },
     "output_type": "display_data"
    }
   ],
   "source": []
  },
  {
   "cell_type": "markdown",
   "metadata": {},
   "source": [
    "__Exercise:__ \n",
    "1. Experiment with different variations of the gradient descent implementation; try varying the learning rate and the batch size. Assuming that you have a fixed time budget (say 2 minutes for learning), what can we then say about the effect of changing the parameters?\n"
   ]
  },
  {
   "cell_type": "markdown",
   "metadata": {},
   "source": [
    "### lr=0.01, batchsize=32 | lr=0.005, batchsize=32\n",
    "![](images\\default_lr_0.01_bs_32.jpg) ![](images\\default_lr_0.005_bs_32.jpg)\n",
    "\n",
    "### lr=0.02, batchsize=32 | lr=0.1, batchsize=32\n",
    "![](images\\default_lr_0.02_bs_32.jpg) ![](images\\default_lr_0.1_bs_32.jpg)\n",
    "\n",
    "### lr=0.01, batchsize=64 | lr=0.005, batchsize=64\n",
    "![](images\\default_lr_0.01_bs_64.jpg) ![](images\\default_lr_0.005_bs_64.jpg)\n",
    "\n",
    "### lr=0.02, batchsize=64 | lr=0.1, batchsize=64\n",
    "![](images\\default_lr_0.02_bs_64.jpg) ![](images\\default_lr_0.1_bs_64.jpg)"
   ]
  },
  {
   "cell_type": "markdown",
   "metadata": {},
   "source": [
    "### Observations\n",
    "- Batchsizes are close to eachother, but it seems a larger is better\n",
    "- Learning rate is best for 0.02, where a larger one impacts negatively, and a smaller converges slower"
   ]
  },
  {
   "cell_type": "markdown",
   "metadata": {},
   "source": [
    "2. Implement momentum in the learning algorithm. How does it affect the results?\n",
    "    - $\\mathbf{v} = \\alpha \\mathbf{v} -  \\eta\\nabla_{\\mathbf{w}} \\left( \\frac{1}{N}\\sum_{i=1}^N \\mathcal{L}(y,\\hat{y})\\right)$\n",
    "    - $\\mathbf{w} = \\mathbf{w} + \\mathbf{v}$ \n",
    "- so it will increase the velocity in changing the gradient if over many steps the direction is the same\n",
    "- exponentially weighted average of the gradient \n",
    "- maximum speed up of $\\frac{\\eta||\\mathbf{g}||}{1 - \\alpha}$"
   ]
  },
  {
   "cell_type": "markdown",
   "metadata": {},
   "source": [
    "### With momentum | without momentum\n",
    "![](images\\default_lr_0.02_bs_32_momentum_0.9.jpg) ![](images\\default_lr_0.02_bs_32.jpg)\n",
    "\n",
    "- it seems to start lower with momemtum, \n",
    "- but it seems not to make too big difference, lr=0.02, bs=32, momentum_alpha=0.9"
   ]
  },
  {
   "cell_type": "markdown",
   "metadata": {},
   "source": [
    "3. Try with different initialization schemes for the parameters (e.g. allowing for larger values). How does it affect the behavior of the algorithm?"
   ]
  },
  {
   "cell_type": "markdown",
   "metadata": {},
   "source": [
    "- the default one uses the initalization idea from book\n",
    "- will try the one mentionened in the Michael Nielsen book, that setting std to (1/sqrt(n_input))\n",
    "  to try to minimize the std of the output of the neurons so as not to have std = sqrt(n_input), which can if using sigmoid activation function as it could saturate the gradient, especially for mse,\n",
    "  however we are not using the sigmoid, so not a problem in our case"
   ]
  },
  {
   "cell_type": "markdown",
   "metadata": {},
   "source": [
    "- Aim: can se the above is already default so will try effect of removing / sqrt(784)\n",
    "- Outcome: gave nan values everywhere, so likely the softmax get overflow, so we must ensure reasonable range for the output of the neurons"
   ]
  },
  {
   "cell_type": "markdown",
   "metadata": {},
   "source": [
    "4. Analyze the behavior of the algorithm on the test set and implement a method for evaluating the accuracy over the entire training/test set."
   ]
  },
  {
   "cell_type": "code",
   "execution_count": 16,
   "metadata": {},
   "outputs": [
    {
     "name": "stdout",
     "output_type": "stream",
     "text": [
      "Epoch: 0, B-idx: 0, Training loss: 2.2405913999557496\n",
      "Epoch: 0, B-idx: 50, Training loss: 0.6401373228400946\n",
      "Epoch: 0, B-idx: 100, Training loss: 0.5994128753721714\n",
      "Epoch: 0, B-idx: 150, Training loss: 0.5555765027036269\n",
      "Epoch: 0, B-idx: 200, Training loss: 0.5571457183003425\n",
      "Epoch: 0, B-idx: 250, Training loss: 0.5683986774250865\n",
      "Epoch: 0, B-idx: 300, Training loss: 0.5448741458247105\n",
      "Epoch: 0, B-idx: 350, Training loss: 0.5475505034923553\n",
      "Epoch: 0, B-idx: 400, Training loss: 0.6160230203936498\n",
      "Epoch: 0, B-idx: 450, Training loss: 0.5199012974354128\n",
      "Epoch: 0, B-idx: 500, Training loss: 0.5175050687909126\n",
      "Epoch: 0, B-idx: 550, Training loss: 0.5344388088385265\n",
      "Epoch: 0, B-idx: 600, Training loss: 0.4598875630661845\n",
      "Epoch: 0, B-idx: 650, Training loss: 0.5022315629169345\n",
      "Epoch: 0, B-idx: 700, Training loss: 0.4620437698667248\n",
      "Epoch: 0, B-idx: 750, Training loss: 0.4970148522714774\n",
      "Epoch: 0, B-idx: 800, Training loss: 0.4866243858878811\n",
      "Epoch: 0, B-idx: 850, Training loss: 0.6040795975424349\n",
      "Epoch: 0, B-idx: 900, Training loss: 0.4953652671667437\n",
      "Epoch: 0, B-idx: 950, Training loss: 0.496031294242541\n",
      "Epoch: 0, B-idx: 1000, Training loss: 0.5598645055025816\n",
      "Epoch: 0, B-idx: 1050, Training loss: 0.46308177006045975\n",
      "Epoch: 0, B-idx: 1100, Training loss: 0.486767061150074\n",
      "Epoch: 0, B-idx: 1150, Training loss: 0.4625423563773433\n",
      "Epoch: 0, B-idx: 1200, Training loss: 0.4563034636939565\n",
      "Epoch: 0, B-idx: 1250, Training loss: 0.5474385540962219\n",
      "Epoch: 0, B-idx: 1300, Training loss: 0.4966664357195298\n",
      "Epoch: 0, B-idx: 1350, Training loss: 0.4890761835753918\n",
      "Epoch: 0, B-idx: 1400, Training loss: 0.5065683579941591\n",
      "Epoch: 0, B-idx: 1450, Training loss: 0.45352865844294427\n",
      "Epoch: 0, B-idx: 1500, Training loss: 0.5024180290065706\n",
      "Epoch: 0, B-idx: 1550, Training loss: 0.4829970241546631\n",
      "Epoch: 0, B-idx: 1600, Training loss: 0.47801964873174824\n",
      "Epoch: 0, B-idx: 1650, Training loss: 0.5040266074044009\n",
      "Epoch: 0, B-idx: 1700, Training loss: 0.5024595154687762\n",
      "Epoch: 0, B-idx: 1750, Training loss: 0.46095521284068625\n",
      "Epoch: 0, B-idx: 1800, Training loss: 0.501351493893067\n",
      "Epoch: 0, B-idx: 1850, Training loss: 0.43298246050501865\n"
     ]
    },
    {
     "data": {
      "text/plain": [
       "<Figure size 432x288 with 0 Axes>"
      ]
     },
     "metadata": {},
     "output_type": "display_data"
    }
   ],
   "source": [
    "weights, bias = train_model(lr=0.02, use_mometum=True)"
   ]
  },
  {
   "cell_type": "code",
   "execution_count": 17,
   "metadata": {},
   "outputs": [],
   "source": [
    "# accuracy + loss function \n",
    "def acc_loss(model, weights, bias, data_loader):\n",
    "    acc = [] \n",
    "    loss = []\n",
    "    with torch.no_grad():\n",
    "        for xb, yb in data_loader:\n",
    "            xb = xb.squeeze().flatten(start_dim=1)\n",
    "            out = model(weights, bias, xb)\n",
    "            acc.append(accuracy(out, yb))\n",
    "            loss.append(loss_func(out, yb))\n",
    "    return np.mean(acc), np.mean(loss)\n",
    "\n",
    "tr_acc, tr_loss = acc_loss(model, weights, bias, train_loader)\n",
    "te_acc, te_loss = acc_loss(model, weights, bias, test_loader)"
   ]
  },
  {
   "cell_type": "code",
   "execution_count": 18,
   "metadata": {},
   "outputs": [
    {
     "name": "stdout",
     "output_type": "stream",
     "text": [
      "Training accuracy: 0.8930833339691162, Training loss: 0.46255001425743103\n",
      "Testing accuracy: 0.8937699794769287, Testing loss: 0.4743281900882721\n"
     ]
    }
   ],
   "source": [
    "print(f\"Training accuracy: {tr_acc}, Training loss: {tr_loss}\")\n",
    "print(f\"Testing accuracy: {te_acc}, Testing loss: {te_loss}\")"
   ]
  },
  {
   "cell_type": "markdown",
   "metadata": {},
   "source": [
    "5. If you feel adventorous, you are welcome to try to specify and experiment with other more advanced model architectures (cell 23). "
   ]
  }
 ],
 "metadata": {
  "interpreter": {
   "hash": "a52c312340d997e0f2d76c4a69880a6c0d3df73b0efc89e90ec38cf5ac1fd14a"
  },
  "kernelspec": {
   "display_name": "Python 3.10.2 ('env': venv)",
   "language": "python",
   "name": "python3"
  },
  "language_info": {
   "codemirror_mode": {
    "name": "ipython",
    "version": 3
   },
   "file_extension": ".py",
   "mimetype": "text/x-python",
   "name": "python",
   "nbconvert_exporter": "python",
   "pygments_lexer": "ipython3",
   "version": "3.10.2"
  }
 },
 "nbformat": 4,
 "nbformat_minor": 2
}
