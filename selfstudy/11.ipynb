{
 "cells": [
  {
   "cell_type": "markdown",
   "metadata": {},
   "source": [
    "In this self study you will explore Pyro a bit further, bu as opposed to the last self study session where focus was on modeling we will here take a slightly closer lool at (variational) inference. in Pyro \n",
    "\n",
    "Before starting on today's self studies, you should finish the self studies from last tme if you have not already done so. Also, if needed, consider revisiting the Pyro documentation listed under reading material for the last two lectures:\n",
    "* http://pyro.ai/examples/intro_long.html\n",
    "* http://pyro.ai/examples/bayesian_regression.html\n",
    "* http://pyro.ai/examples/svi_part_i.html\n",
    "\n",
    "Afterwards, continue with the notebook below, where we consider (Bayesian) linear regression using Pyro based on the same setup as in the lecture. "
   ]
  },
  {
   "cell_type": "code",
   "execution_count": 1,
   "metadata": {},
   "outputs": [
    {
     "name": "stderr",
     "output_type": "stream",
     "text": [
      "c:\\Users\\Stonker69\\Documents\\GitHub\\ml_exam_notes\\selfstudy\\env\\lib\\site-packages\\tqdm\\auto.py:22: TqdmWarning: IProgress not found. Please update jupyter and ipywidgets. See https://ipywidgets.readthedocs.io/en/stable/user_install.html\n",
      "  from .autonotebook import tqdm as notebook_tqdm\n"
     ]
    }
   ],
   "source": [
    "import pyro\n",
    "import torch\n",
    "import matplotlib\n",
    "#matplotlib.use('TkAgg')\n",
    "%matplotlib inline\n",
    "import matplotlib.pyplot as plt\n",
    "import pyro.distributions as dist\n",
    "import torch.distributions.constraints as constraints\n",
    "from pyro.infer import SVI, Trace_ELBO\n",
    "from pyro.optim import Adam, SGD\n",
    "import numpy as np\n",
    "\n",
    "import os\n",
    "os.environ['KMP_DUPLICATE_LIB_OK']='True'"
   ]
  },
  {
   "cell_type": "markdown",
   "metadata": {},
   "source": [
    "### Generate data\n",
    "This data generation is similar to what was done during the lecture; we have one predictor variable 'x' and one response variable 'y', but here collected in a  dictionary."
   ]
  },
  {
   "cell_type": "code",
   "execution_count": 65,
   "metadata": {},
   "outputs": [],
   "source": [
    "def generate_data(N=10, true_w0= 1., true_w1=.5):\n",
    "    gamma = 4.  # The *precision* in the observation noise default:4\n",
    "    st_dev = 1. / np.sqrt(gamma)  # And corresponding standard deviation\n",
    "    np.random.seed(123)\n",
    "    x = 5 * np.random.rand(N)  # The x-points are sampled uniformly on [0, 5]\n",
    "    y = np.random.normal(loc=true_w0 + true_w1 * x, scale=st_dev)  # And the response is sampled from the Normal\n",
    "    return {\"x\": torch.tensor(x, dtype=torch.float), \"y\": torch.tensor(y, dtype=torch.float)}"
   ]
  },
  {
   "cell_type": "markdown",
   "metadata": {},
   "source": [
    "Helper function for visualizing the data as well as the true and learned functions"
   ]
  },
  {
   "cell_type": "code",
   "execution_count": 59,
   "metadata": {},
   "outputs": [],
   "source": [
    "def data_plotter(data, true_w0=None, true_w1=None,\n",
    "                 approx_w0=None, approx_w1=None, std_w0=None, std_w1=None):\n",
    "    \"\"\"\n",
    "    Use to plot data. If y is not none it contains responses, and (x,y) will be scatter-plotted\n",
    "    If neither true_w0 nor true_w1 is None, we will plot the line true_w0 + x * true_w1 in red.\n",
    "    If neither approx_w0 nor approx_w1 is None, we plot the line approx_w0 + x * approx_w1 in green.\n",
    "    \"\"\"\n",
    "    if data is not None:\n",
    "        plt.plot(data[\"x\"].numpy(), data[\"y\"].numpy(), \"bo\", zorder=1)\n",
    "\n",
    "    # Plot true line if given\n",
    "    if true_w0 is not None and true_w1 is not None:\n",
    "        plt.plot(data[\"x\"].numpy(), true_w0 + true_w1 * data[\"x\"].numpy(), \"r-\", zorder=2)\n",
    "\n",
    "    # Plot approximation if given\n",
    "    if approx_w0 is not None and approx_w1 is not None:\n",
    "        plt.plot(data[\"x\"].numpy(), approx_w0+ approx_w1* data[\"x\"].numpy(), \"g-\", alpha=.2, zorder=2)\n",
    "\n",
    "    # Plot std if given\n",
    "    if std_w0 is not None and std_w1 is not None:\n",
    "        plt.plot(data[\"x\"].numpy(), std_w0+ std_w1* data[\"x\"].numpy(), \"grey\", alpha=.2, zorder=2)\n"
   ]
  },
  {
   "cell_type": "markdown",
   "metadata": {},
   "source": [
    "Generate a data set with 50 data points"
   ]
  },
  {
   "cell_type": "code",
   "execution_count": 76,
   "metadata": {},
   "outputs": [],
   "source": [
    "true_w0= 1.\n",
    "true_w1=.5\n",
    "data = generate_data(N=50, true_w0=true_w0, true_w1=true_w1)"
   ]
  },
  {
   "cell_type": "markdown",
   "metadata": {},
   "source": [
    "Plot the data together with the regression line around which the data has been generated."
   ]
  },
  {
   "cell_type": "code",
   "execution_count": 77,
   "metadata": {},
   "outputs": [
    {
     "data": {
      "image/png": "[encoded data removed]",
      "text/plain": [
       "<Figure size 432x288 with 1 Axes>"
      ]
     },
     "metadata": {
      "needs_background": "light"
     },
     "output_type": "display_data"
    }
   ],
   "source": [
    "data_plotter(data, true_w0=true_w0, true_w1=true_w1)"
   ]
  },
  {
   "cell_type": "markdown",
   "metadata": {},
   "source": [
    "## Specification of the Pyro model and guide"
   ]
  },
  {
   "cell_type": "markdown",
   "metadata": {},
   "source": [
    "Here we specify a (Bayesian) linear regression model in Pyro. The 'data' argument is a dictionary covering the data of the predictor and response variable"
   ]
  },
  {
   "cell_type": "code",
   "execution_count": 88,
   "metadata": {},
   "outputs": [],
   "source": [
    "def lin_reg_model(data):\n",
    "\n",
    "    w0 = pyro.sample(\"w0\", dist.Normal(0, 1000))\n",
    "    w1 = pyro.sample(\"w1\", dist.Normal(0., 1000))\n",
    "\n",
    "    with pyro.plate(\"data_plate\"):\n",
    "        pyro.sample(\"y\", dist.Normal(data[\"x\"] * w1 + w0, 1.0), obs=data[\"y\"])"
   ]
  },
  {
   "cell_type": "markdown",
   "metadata": {},
   "source": [
    "Here we specify the variational distribution, which is called a guide in Pyro. We make the mean field assumption and assume that the variational distribution factorizes wrt. to 'w0' and 'w1'."
   ]
  },
  {
   "cell_type": "code",
   "execution_count": 89,
   "metadata": {},
   "outputs": [],
   "source": [
    "def lin_reg_guide(data):\n",
    "    w0_mean = pyro.param(\"w0_mean\", torch.tensor(0.))\n",
    "    w0_scale = pyro.param(\"w0_scale\", torch.tensor(1.), constraint=constraints.positive)\n",
    "    pyro.sample(\"w0\", dist.Normal(w0_mean, w0_scale))\n",
    "    \n",
    "    w1_mean = pyro.param(\"w1_mean\", torch.tensor(0.))\n",
    "    w1_scale = pyro.param(\"w1_scale\", torch.tensor(1.), constraint=constraints.positive)\n",
    "    pyro.sample(\"w1\", dist.Normal(w1_mean, w1_scale))"
   ]
  },
  {
   "cell_type": "markdown",
   "metadata": {},
   "source": [
    "### Learning\n",
    "\n",
    "In this function the actual learning is taking place. Notice that the structure is similar to what we saw in the example notebooks during the lecture."
   ]
  },
  {
   "cell_type": "code",
   "execution_count": 26,
   "metadata": {},
   "outputs": [],
   "source": [
    "def learn(N=10, data=None):\n",
    "    if data is None:\n",
    "        data = generate_data(N=N)\n",
    "\n",
    "    pyro.clear_param_store()\n",
    "\n",
    "    elbo = pyro.infer.Trace_ELBO()\n",
    "    svi = pyro.infer.SVI(model=lin_reg_model,\n",
    "                         guide=lin_reg_guide,\n",
    "                         optim=SGD({\"lr\": 0.0001}),\n",
    "                         loss=elbo)\n",
    "\n",
    "    num_steps = 5000\n",
    "    for step in range(num_steps):\n",
    "        loss = svi.step(data)\n",
    "\n",
    "        if step % 100 == 0:\n",
    "            w0_mean = pyro.param(\"w0_mean\").detach().item()\n",
    "            w0_scale = pyro.param(\"w0_scale\").detach().item()\n",
    "            w1_mean = pyro.param(\"w1_mean\").detach().item()\n",
    "            w1_scale = pyro.param(\"w1_scale\").detach().item()\n",
    "            print(f\"Loss (iter: {step}): {loss}\")\n",
    "            print(f\"w0: {w0_mean} +/- {w0_scale}\\t \\t w1: {w1_mean} +/- {w1_scale}\")"
   ]
  },
  {
   "cell_type": "code",
   "execution_count": 90,
   "metadata": {},
   "outputs": [
    {
     "name": "stdout",
     "output_type": "stream",
     "text": [
      "Loss (iter: 0): 84.80144250392914\n",
      "w0: 0.0019444664940238 +/- 0.9983436465263367\t \t w1: 0.0004346132045611739 +/- 1.0005890130996704\n",
      "Loss (iter: 100): 131.75239837169647\n",
      "w0: 0.3325222134590149 +/- 0.7171316742897034\t \t w1: 0.7421432137489319 +/- 0.33488377928733826\n",
      "Loss (iter: 200): 76.26693159341812\n",
      "w0: 0.3896952271461487 +/- 0.5893740057945251\t \t w1: 0.7541874647140503 +/- 0.23502586781978607\n",
      "Loss (iter: 300): 72.59757429361343\n",
      "w0: 0.447091668844223 +/- 0.5123016834259033\t \t w1: 0.7207613587379456 +/- 0.1987530142068863\n",
      "Loss (iter: 400): 77.12668907642365\n",
      "w0: 0.513460636138916 +/- 0.45435404777526855\t \t w1: 0.7397116422653198 +/- 0.17133556306362152\n",
      "Loss (iter: 500): 70.9093565940857\n",
      "w0: 0.5389812588691711 +/- 0.4105273485183716\t \t w1: 0.668910801410675 +/- 0.15343531966209412\n",
      "Loss (iter: 600): 71.83397114276886\n",
      "w0: 0.5828987956047058 +/- 0.3846311867237091\t \t w1: 0.6577913165092468 +/- 0.14453881978988647\n",
      "Loss (iter: 700): 123.50280380249023\n",
      "w0: 0.6278696656227112 +/- 0.3577805459499359\t \t w1: 0.6528596878051758 +/- 0.1335752010345459\n",
      "Loss (iter: 800): 73.26190853118896\n",
      "w0: 0.6671160459518433 +/- 0.3357275724411011\t \t w1: 0.643358588218689 +/- 0.12494546920061111\n",
      "Loss (iter: 900): 73.58640575408936\n",
      "w0: 0.7141008377075195 +/- 0.3180476427078247\t \t w1: 0.6569153070449829 +/- 0.11909167468547821\n",
      "Loss (iter: 1000): 72.67192196846008\n",
      "w0: 0.7211440801620483 +/- 0.3066982328891754\t \t w1: 0.5776681303977966 +/- 0.11357103288173676\n",
      "Loss (iter: 1100): 80.59646809101105\n",
      "w0: 0.7675199508666992 +/- 0.2970001697540283\t \t w1: 0.6026300191879272 +/- 0.10885496437549591\n",
      "Loss (iter: 1200): 76.68420553207397\n",
      "w0: 0.7911167740821838 +/- 0.2911238372325897\t \t w1: 0.5825693607330322 +/- 0.10513341426849365\n",
      "Loss (iter: 1300): 73.25217139720917\n",
      "w0: 0.8193289637565613 +/- 0.2849435806274414\t \t w1: 0.5760148167610168 +/- 0.10043792426586151\n",
      "Loss (iter: 1400): 71.67464292049408\n",
      "w0: 0.8588182926177979 +/- 0.2785203158855438\t \t w1: 0.6023052334785461 +/- 0.09750191867351532\n",
      "Loss (iter: 1500): 71.81276035308838\n",
      "w0: 0.8669315576553345 +/- 0.26821327209472656\t \t w1: 0.5569609999656677 +/- 0.094509057700634\n",
      "Loss (iter: 1600): 71.5274019241333\n",
      "w0: 0.87870854139328 +/- 0.2621065378189087\t \t w1: 0.5219277739524841 +/- 0.0918474793434143\n",
      "Loss (iter: 1700): 71.39289665222168\n",
      "w0: 0.9195777773857117 +/- 0.25596627593040466\t \t w1: 0.5711681842803955 +/- 0.0890921875834465\n",
      "Loss (iter: 1800): 71.31723034381866\n",
      "w0: 0.9206477403640747 +/- 0.2500919699668884\t \t w1: 0.5249936580657959 +/- 0.08765812963247299\n",
      "Loss (iter: 1900): 73.73560750484467\n",
      "w0: 0.9398418068885803 +/- 0.24587616324424744\t \t w1: 0.5319862365722656 +/- 0.08634179830551147\n",
      "Loss (iter: 2000): 71.49735951423645\n",
      "w0: 0.9523237347602844 +/- 0.24163520336151123\t \t w1: 0.5259923338890076 +/- 0.08473934978246689\n",
      "Loss (iter: 2100): 71.68160057067871\n",
      "w0: 0.9651135206222534 +/- 0.2376338243484497\t \t w1: 0.5205926895141602 +/- 0.08382608741521835\n",
      "Loss (iter: 2200): 71.14770150184631\n",
      "w0: 0.9801275134086609 +/- 0.23269060254096985\t \t w1: 0.5164750218391418 +/- 0.08225691318511963\n",
      "Loss (iter: 2300): 69.73722130060196\n",
      "w0: 0.9978822469711304 +/- 0.2265869528055191\t \t w1: 0.5272303223609924 +/- 0.08098655939102173\n",
      "Loss (iter: 2400): 72.41536331176758\n",
      "w0: 1.0076117515563965 +/- 0.22294731438159943\t \t w1: 0.5247746109962463 +/- 0.07968394458293915\n",
      "Loss (iter: 2500): 69.7357634305954\n",
      "w0: 1.0071191787719727 +/- 0.22049780189990997\t \t w1: 0.4917500615119934 +/- 0.07863203436136246\n",
      "Loss (iter: 2600): 71.52547240257263\n",
      "w0: 1.0247305631637573 +/- 0.21872293949127197\t \t w1: 0.509726345539093 +/- 0.07806290686130524\n",
      "Loss (iter: 2700): 72.29124128818512\n",
      "w0: 1.0438412427902222 +/- 0.21453876793384552\t \t w1: 0.5244287848472595 +/- 0.07668793946504593\n",
      "Loss (iter: 2800): 73.16335344314575\n",
      "w0: 1.0435984134674072 +/- 0.211140438914299\t \t w1: 0.5015570521354675 +/- 0.07536633312702179\n",
      "Loss (iter: 2900): 74.07124328613281\n",
      "w0: 1.0525662899017334 +/- 0.20906294882297516\t \t w1: 0.49639320373535156 +/- 0.07450464367866516\n",
      "Loss (iter: 3000): 72.91613721847534\n",
      "w0: 1.0582852363586426 +/- 0.20709040760993958\t \t w1: 0.4898315668106079 +/- 0.07386477291584015\n",
      "Loss (iter: 3100): 73.23190355300903\n",
      "w0: 1.0664271116256714 +/- 0.20439769327640533\t \t w1: 0.4810487926006317 +/- 0.07304798811674118\n",
      "Loss (iter: 3200): 76.0055125951767\n",
      "w0: 1.071639060974121 +/- 0.20170623064041138\t \t w1: 0.48104727268218994 +/- 0.07238762080669403\n",
      "Loss (iter: 3300): 72.11488485336304\n",
      "w0: 1.081863522529602 +/- 0.19924931228160858\t \t w1: 0.5011473298072815 +/- 0.07154364138841629\n",
      "Loss (iter: 3400): 73.06364381313324\n",
      "w0: 1.0846848487854004 +/- 0.19679942727088928\t \t w1: 0.49235376715660095 +/- 0.07066207379102707\n",
      "Loss (iter: 3500): 72.20093619823456\n",
      "w0: 1.0909045934677124 +/- 0.1959478110074997\t \t w1: 0.4925108551979065 +/- 0.07039081305265427\n",
      "Loss (iter: 3600): 72.42988407611847\n",
      "w0: 1.0939855575561523 +/- 0.19537290930747986\t \t w1: 0.4846850037574768 +/- 0.06939717382192612\n",
      "Loss (iter: 3700): 78.13716185092926\n",
      "w0: 1.0993149280548096 +/- 0.1942245364189148\t \t w1: 0.4842652976512909 +/- 0.06857972592115402\n",
      "Loss (iter: 3800): 70.53361195325851\n",
      "w0: 1.0953457355499268 +/- 0.19278328120708466\t \t w1: 0.46567437052726746 +/- 0.06834350526332855\n",
      "Loss (iter: 3900): 72.95136225223541\n",
      "w0: 1.100805401802063 +/- 0.19141849875450134\t \t w1: 0.47678112983703613 +/- 0.06795021891593933\n",
      "Loss (iter: 4000): 71.69014942646027\n",
      "w0: 1.103609323501587 +/- 0.1892600953578949\t \t w1: 0.47780317068099976 +/- 0.06765218824148178\n",
      "Loss (iter: 4100): 73.40113949775696\n",
      "w0: 1.1069852113723755 +/- 0.18849290907382965\t \t w1: 0.4780958592891693 +/- 0.06706468760967255\n",
      "Loss (iter: 4200): 73.34553104639053\n",
      "w0: 1.1157538890838623 +/- 0.18717345595359802\t \t w1: 0.5011568665504456 +/- 0.06646201759576797\n",
      "Loss (iter: 4300): 72.24507331848145\n",
      "w0: 1.112599492073059 +/- 0.18542049825191498\t \t w1: 0.4829913079738617 +/- 0.06578706204891205\n",
      "Loss (iter: 4400): 72.55824363231659\n",
      "w0: 1.1116667985916138 +/- 0.18330730497837067\t \t w1: 0.4731292128562927 +/- 0.06518595665693283\n",
      "Loss (iter: 4500): 72.68274545669556\n",
      "w0: 1.1133756637573242 +/- 0.18173402547836304\t \t w1: 0.4703010022640228 +/- 0.0646485686302185\n",
      "Loss (iter: 4600): 71.63805556297302\n",
      "w0: 1.1220390796661377 +/- 0.18089109659194946\t \t w1: 0.48730140924453735 +/- 0.06466033309698105\n",
      "Loss (iter: 4700): 71.26486253738403\n",
      "w0: 1.1199835538864136 +/- 0.1794780045747757\t \t w1: 0.47798481583595276 +/- 0.06423594802618027\n",
      "Loss (iter: 4800): 72.44357752799988\n",
      "w0: 1.1094309091567993 +/- 0.17869845032691956\t \t w1: 0.4499013125896454 +/- 0.06407876312732697\n",
      "Loss (iter: 4900): 71.52388858795166\n",
      "w0: 1.1122775077819824 +/- 0.17825336754322052\t \t w1: 0.4627065062522888 +/- 0.06386570632457733\n"
     ]
    }
   ],
   "source": [
    "learn(data=data)"
   ]
  },
  {
   "cell_type": "markdown",
   "metadata": {},
   "source": [
    "### Analyze the results\n",
    "\n",
    "Here we sample weights from the posterior distributions over 'w0' and 'w1'. The distribution of the generated weights (and the corresponding models) illustrates how confident we are in the model, an insight you cannot get when only having point estimates of the model parameters as found with, e.g., maximum likelihood learning. "
   ]
  },
  {
   "cell_type": "code",
   "execution_count": 91,
   "metadata": {},
   "outputs": [
    {
     "data": {
      "image/png": "[encoded data removed]",
      "text/plain": [
       "<Figure size 432x288 with 1 Axes>"
      ]
     },
     "metadata": {
      "needs_background": "light"
     },
     "output_type": "display_data"
    }
   ],
   "source": [
    "for _ in range(100):\n",
    "    w0_mean = pyro.param(\"w0_mean\").detach().item()\n",
    "    w0_scale = pyro.param(\"w0_scale\").detach().item()\n",
    "    w1_mean = pyro.param(\"w1_mean\").detach().item()\n",
    "    w1_scale = pyro.param(\"w1_scale\").detach().item()\n",
    "    w0_sample = pyro.sample(\"w0_sample\", dist.Normal(w0_mean, w0_scale)).numpy()\n",
    "    w1_sample = pyro.sample(\"w1_sample\", dist.Normal(w1_mean, w1_scale)).numpy() \n",
    "    data_plotter(data, approx_w0=w0_sample, approx_w1=w1_sample)\n",
    "    # plot gray 1 std uncertainty lines, gaussian so 68% data expect within 1 std\n",
    "    # plot gray std_above \n",
    "    data_plotter(data, std_w0=w0_sample+w0_scale, std_w1=w1_sample+w1_scale)\n",
    "    #plot gray std_above\n",
    "    data_plotter(data, std_w0=w0_sample-w0_scale, std_w1=w1_sample-w1_scale)\n",
    "data_plotter(data)\n",
    "plt.show()"
   ]
  },
  {
   "cell_type": "markdown",
   "metadata": {},
   "source": [
    "## Exercises:\n",
    "        * Generate data sets of varying sizes and characteristics (by changing the parameters in the 'generate_data' function) and investigate and compare the resulting models.\n"
   ]
  },
  {
   "cell_type": "markdown",
   "metadata": {},
   "source": [
    "__default__:\n",
    "- True model: y = 1 + 0.5 * x, samples = 50 (DEFAULT)\n",
    "- Sensor precision: 1/sqrt(4) (DEFAULT)\n",
    "- Learned model: w0 = N(1.1,0.18) | w1 = N(0.46, 0.065)\n",
    "- we most points within 1 std, which is a good sign\n",
    "![](images/pyro_lin_default.png)"
   ]
  },
  {
   "cell_type": "markdown",
   "metadata": {},
   "source": [
    "__sample=10__:\n",
    "- True model: y = 1 + 0.5 * x, samples = 10 (will try lowering the number of samples expect more variance)\n",
    "- Sensor precision: 1/sqrt(4) (DEFAULT)\n",
    "- Learned model: w0 = N(0.64,0.38) | w1 = N(0.7, 0.13)\n",
    "- Conclusion: more variance + more away from true model\n",
    "![](images/pyro_lin_sample10.png)\n",
    "- we see all points mostly within 1 std often, but we can see much vairance in estimating the intercept/bias w0, sometimes even it gets 2, which is double of true 1"
   ]
  },
  {
   "cell_type": "markdown",
   "metadata": {},
   "source": [
    "__Sensor precision=1/sqrt(1)__:\n",
    "- True model: y = 1 + 0.5 * x, samples = 50 (DEFAULT)\n",
    "- Sensor precision: 1/sqrt(1) (decreasing sensor precision, expect more variance)\n",
    "- Learned model: w0 = N(1.25,.18) | w1 = N(0.44, 0.064)\n",
    "- Conclusion: more variance + more away from true model + in the plot, majority of dots were ouside the approx drawn lines\n",
    "- we plot 1 std. gray (68% data < 1std 3-sigma rule) uncertainity boundaries and we see that much data is outside the 1std \n",
    "  line, which is not a good signal\n",
    "![](images/pyro_lin_sensor1.png)"
   ]
  },
  {
   "cell_type": "markdown",
   "metadata": {},
   "source": [
    "__Sensor precision=1/sqrt(8)__:\n",
    "- True model: y = 1 + 0.5 * x, samples = 50 (DEFAULT)\n",
    "- Sensor precision: 1/sqrt(8) (doubling sensor precision, expect less variance)\n",
    "- Learned model: w0 = N(1.09,0.17) | w1 = N(0.49, 0.063)\n",
    "- Conclusion: more or less similar to default, so doubling sensor quality does not give double performance\n",
    "![](images/pyro_lin_sensor8.png)\n",
    "- we see more points within gray 1 std. but it did not give double performance compared to sensor with 4, as sensor only minimize std with sqrt(sensor)"
   ]
  },
  {
   "cell_type": "markdown",
   "metadata": {},
   "source": [
    "__Samples = 1000__:\n",
    "- True model: y = 1 + 0.5 * x, samples = 1000 (increase samples a lot, expect less variance)\n",
    "- Sensor precision: 1/sqrt(4) (DEFAULT)\n",
    "- Learned model: w0 = N(1.02,0.04) | w1 = N(0.494, 0.014)\n",
    "- Conclusion: best model yet (samples = 1000)\n",
    "![](images/pyro_lin_sample1000.png)\n",
    "- more data is better, it is more or less exact on the true"
   ]
  },
  {
   "cell_type": "markdown",
   "metadata": {},
   "source": [
    "        * Analyze how learning is affected by changing the learning rate and the initial values of the parameters specified in the guide function.\n"
   ]
  },
  {
   "cell_type": "markdown",
   "metadata": {},
   "source": [
    "Using default data setup: \n",
    "- True model: y = 1 + 0.5 * x, samples = 50 (DEFAULT)\n",
    "- Sensor precision: 1/sqrt(4) (DEFAULT)\n",
    "- lr = 0.0001 (DEFAULT)\n",
    "- w0_mu = 0, w0_sigma = 1 (DEFAULT)\n",
    "- w1_mu = 0, w1_sigma = 1 (DEFAULT)\n",
    "- learned model: w0 = N(1.1,0.18) | w1 = N(0.46, 0.065)\n",
    "\n",
    "__lr = 0.001__:\n",
    "- lr = 0.001 (increasing lr)\n",
    "- w0_mu = 0, w0_sigma = 1 (DEFAULT)\n",
    "- w1_mu = 0, w1_sigma = 1 (DEFAULT)\n",
    "- learned model: w0 = N(1.15,0.14) | w1 = N(0.47, 0.049)\n",
    "- Conclusion: similar to default, \n",
    "\n",
    "__lr = 0.01__:\n",
    "- lr = 0.01 (increasing lr)\n",
    "- w0_mu = 0, w0_sigma = 1 (DEFAULT)\n",
    "- w1_mu = 0, w1_sigma = 1 (DEFAULT)\n",
    "- Crashes in leaning here: \" Expected parameter scale (Tensor of shape ()) of distribution Normal(loc: 13.8917818069458, scale: 0.0) to satisfy the constraint GreaterThan(lower_bound=0.0), but found invalid values:\n",
    "0.0\"\n",
    "\n",
    "__moving priors far away from true model__:\n",
    "- w0_mu = -10, w0_sigma = 1 \n",
    "- w1_mu = 10, w1_sigma = 1 \n",
    "- lr = 0.0001 (DEFAULT)\n",
    "- learned model: w0 = N(0.89, 0.18) | w1 = N(0.55, 0.065)\n",
    "- Conclusion: a bit off from true model, but still pretty close\n",
    "\n",
    "__increasing confidence in wrong guide params__:\n",
    "- w0_mu = -10, w0_sigma = 0.001 \n",
    "- w1_mu = 10, w1_sigma = 0.001 \n",
    "- lr = 0.0001 (DEFAULT)\n",
    "- learned model: w0 = N(.89, 0.001) | w1 = N(.55, 0.001)\n",
    "- conclusion: a bit off from true model, but still pretty close, low variance"
   ]
  },
  {
   "cell_type": "markdown",
   "metadata": {},
   "source": [
    "        * Experiment with different types of prior knowledge in the model specification (e.g. change the mean and scale of the distributions over the weights). For instance, we may (mostly likely erroneously considering the data) have a prior expectation that 'w0' is around 5.0, and we can encode the strength of this belief through the scale of the corresponding distribution. "
   ]
  },
  {
   "cell_type": "markdown",
   "metadata": {},
   "source": [
    "Using default data setup: \n",
    "- True model: y = 1 + 0.5 * x, samples = 50 (DEFAULT)\n",
    "- Sensor precision: 1/sqrt(4) (DEFAULT)\n",
    "- lr = 0.0001 (DEFAULT)\n",
    "- w0_mu = 0, w0_sigma = 1 (DEFAULT)\n",
    "- w1_mu = 0, w1_sigma = 1 (DEFAULT)\n",
    "- prior model: \n",
    "    - w0 = pyro.sample(\"w0\", dist.Normal(0.0, 1000.0))\n",
    "    - w1 = pyro.sample(\"w1\", dist.Normal(0.0, 1000.0))\n",
    "\n",
    "__moving locs far away from true model__:\n",
    "- w0 = pyro.sample(\"w0\", dist.Normal(-100.0, 1000.0))\n",
    "- w1 = pyro.sample(\"w1\", dist.Normal(100.0, 1000.0))\n",
    "- learned model: w0 = N(1.14, 0.18) | w1 = N(0.55, 0.065) \n",
    "- conclusion: little impact from default\n",
    "\n",
    "__increasing confidence in prior__:\n",
    "- w0 = pyro.sample(\"w0\", dist.Normal(0.0, 0.01))\n",
    "- w1 = pyro.sample(\"w1\", dist.Normal(0.0, 0.01))\n",
    "- learned model: w0 = N(-0.0007222937420010567,0.012490347027778625), w1 = N(0.052780792117118835,0.012352855876088142)\n",
    "- conclusion: increadibly wrong, increasing confidence in wrong prior is most detrimental"
   ]
  },
  {
   "cell_type": "markdown",
   "metadata": {},
   "source": []
  }
 ],
 "metadata": {
  "interpreter": {
   "hash": "a52c312340d997e0f2d76c4a69880a6c0d3df73b0efc89e90ec38cf5ac1fd14a"
  },
  "kernelspec": {
   "display_name": "Python 3.10.2 ('env': venv)",
   "language": "python",
   "name": "python3"
  },
  "language_info": {
   "codemirror_mode": {
    "name": "ipython",
    "version": 3
   },
   "file_extension": ".py",
   "mimetype": "text/x-python",
   "name": "python",
   "nbconvert_exporter": "python",
   "pygments_lexer": "ipython3",
   "version": "3.10.2"
  }
 },
 "nbformat": 4,
 "nbformat_minor": 2
}
