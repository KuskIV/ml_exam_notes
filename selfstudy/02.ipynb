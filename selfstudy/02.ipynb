{
 "cells": [
  {
   "cell_type": "code",
   "execution_count": 1,
   "metadata": {},
   "outputs": [],
   "source": [
    "import numpy as np\n",
    "import matplotlib as mpl\n",
    "import pandas as pd\n",
    "from numpy.random import multivariate_normal\n",
    "import matplotlib.pyplot as plt\n",
    "from sklearn.naive_bayes import GaussianNB\n",
    "from sklearn.discriminant_analysis import LinearDiscriminantAnalysis\n",
    "from sklearn.linear_model import LogisticRegression\n",
    "from sklearn.svm import SVC\n",
    "from sklearn import mixture\n",
    "from sklearn.model_selection import train_test_split\n",
    "from sklearn.datasets import make_moons,make_blobs\n",
    "from sklearn.metrics import accuracy_score"
   ]
  },
  {
   "cell_type": "markdown",
   "metadata": {},
   "source": [
    "A couple of helper functions we can use:"
   ]
  },
  {
   "cell_type": "code",
   "execution_count": 2,
   "metadata": {},
   "outputs": [],
   "source": [
    "def sample_2d_gaussian(meanx,meany,variance_x,variance_y,covariance,numsamps):\n",
    "    '''\n",
    "    Generates a random sample of size 'numsamps' from a 2-dimensional Gaussian distribution.\n",
    "    The Gaussian is defined by the mean vector (meanx,meany) and the \n",
    "    covariance matrix\n",
    "    \n",
    "    variance_x    covariance\n",
    "    covariance    variance_y\n",
    "    \n",
    "    All parameters can be freely chosen, except covariance, which must satisfy the inequality\n",
    "    \n",
    "    covariance <= sqrt(variance_x * variance_y)\n",
    "    '''\n",
    "    meanvec = np.array([meanx,meany])\n",
    "    covarmatrix = np.array([[variance_x,covariance],[covariance,variance_y]])\n",
    "    return multivariate_normal(meanvec,covarmatrix,numsamps)\n",
    "\n",
    "\n",
    "def maxpos(A):\n",
    "    '''\n",
    "    Takes an n x k array A, and returns 1-dim n array where the i'th\n",
    "    entry is the index of column in A where the i'th row of A has its\n",
    "    maximal value (application: turns a probabilitiy distribution over\n",
    "    k classes for n instances into a single prediction)\n",
    "    '''\n",
    "    return np.argmax(A,axis=1)\n",
    "    "
   ]
  },
  {
   "cell_type": "markdown",
   "metadata": {},
   "source": [
    "### Part 1: Decision regions for simple 2 dimensional datasets"
   ]
  },
  {
   "cell_type": "markdown",
   "metadata": {},
   "source": [
    "Loading/generating data: following are several alternative ways to get data consisting of the input features stored in 'features', and the class labels, stored in 'labels'.  Only execute one of the data generating cells, before moving on to the following code!"
   ]
  },
  {
   "cell_type": "markdown",
   "metadata": {},
   "source": [
    "**A**: sampling data from 2-dimensional Gaussian distributions. For reproducibility, one can fix a random seed."
   ]
  },
  {
   "cell_type": "code",
   "execution_count": 90,
   "metadata": {},
   "outputs": [
    {
     "name": "stderr",
     "output_type": "stream",
     "text": [
      "C:\\Users\\Stonker69\\AppData\\Local\\Temp\\ipykernel_13396\\4120929545.py:16: RuntimeWarning: covariance is not positive-semidefinite.\n",
      "  return multivariate_normal(meanvec,covarmatrix,numsamps)\n"
     ]
    }
   ],
   "source": [
    "np.random.seed(1)\n",
    "datasize=250\n",
    "mixturecoeff=np.array([0.4,0.2,0.4])\n",
    "componentsizes=(datasize*mixturecoeff).astype(int)\n",
    "\n",
    "# default\n",
    "N_1 = [2,3,0.5,0.5,0.45]\n",
    "N_2 = [5,3,1.0,0.5,-0.45]\n",
    "N_3 = [3,2,0.5,0.5,0]\n",
    "# new \n",
    "N_1_lda = [3,-2, .5,0.1,0]\n",
    "N_2_lda = [3,4, .5, 0.1, 0]\n",
    "N_3_lda = [3,11, .5, 5, 0]\n",
    "\n",
    "# class0samp=sample_2d_gaussian(*N_1_lda,componentsizes[0])\n",
    "# class1samp=sample_2d_gaussian(*N_2_lda,componentsizes[1])\n",
    "# class2samp=sample_2d_gaussian(*N_3_lda,componentsizes[2])\n",
    "\n",
    "class0samp=sample_2d_gaussian(10,10,7,7,0.45,componentsizes[0])\n",
    "class1samp=sample_2d_gaussian(-4,-4,0.2,0.2,-0.45,componentsizes[1])\n",
    "class2samp=sample_2d_gaussian(3,1,0.2,0.2,0,componentsizes[2])\n",
    "\n",
    "# class0samp=sample_2d_gaussian(2,3,0.5,0.5,0.45,componentsizes[0])\n",
    "# class1samp=sample_2d_gaussian(5,3,1.0,0.5,-0.45,componentsizes[1])\n",
    "# class2samp=sample_2d_gaussian(3,2,0.5,0.5,0,componentsizes[2])\n",
    "  \n",
    "  \n",
    "features=np.concatenate((class0samp,class1samp,class2samp),axis=0)\n",
    "labels=np.concatenate((np.zeros(componentsizes[0]),np.ones(componentsizes[1]),2*np.ones(componentsizes[2])))         "
   ]
  },
  {
   "cell_type": "markdown",
   "metadata": {},
   "source": [
    "**B**: Loading mi.txt data:"
   ]
  },
  {
   "cell_type": "code",
   "execution_count": 5,
   "metadata": {},
   "outputs": [],
   "source": [
    "# midata = pd.read_csv(\"data/MI-labeled.txt\", sep=',')\n",
    "# features = np.array(midata[['X','Y']])\n",
    "# classlabels=midata['Class']\n",
    "# labels = np.zeros(len(classlabels))\n",
    "# for i in range(len(classlabels)):\n",
    "#     if classlabels[i] == 'I':\n",
    "#         labels[i]=1"
   ]
  },
  {
   "cell_type": "markdown",
   "metadata": {},
   "source": [
    "Preparing meshgrid for plotting decision regions:"
   ]
  },
  {
   "cell_type": "code",
   "execution_count": 91,
   "metadata": {},
   "outputs": [],
   "source": [
    "maxvalx = np.max(features[:,0])\n",
    "maxvaly = np.max(features[:,1])\n",
    "minvalx = np.min(features[:,0])\n",
    "minvaly = np.min(features[:,1])\n",
    "border=2\n",
    "xinterval = (maxvalx-minvalx)/border\n",
    "yinterval = (maxvaly-minvaly)/border\n",
    "xx, yy = np.meshgrid(np.arange(minvalx-xinterval, maxvalx+xinterval, xinterval/100), np.arange(minvaly-yinterval, maxvaly+yinterval, yinterval/100))\n",
    "      "
   ]
  },
  {
   "cell_type": "code",
   "execution_count": 92,
   "metadata": {},
   "outputs": [],
   "source": [
    "def plot_model(model, is_svc=False):\n",
    "    if is_svc:\n",
    "        Z=model.decision_function(np.c_[xx.ravel(), yy.ravel()])\n",
    "        # meshclasses = np.ones(Z.size)\n",
    "        # meshclasses[Z<0]=0\n",
    "        meshclasses = maxpos(Z)\n",
    "    else:\n",
    "        Z=model.predict_proba(np.c_[xx.ravel(), yy.ravel()])\n",
    "        meshclasses = maxpos(Z)\n",
    "    meshclasses = meshclasses.reshape(xx.shape)\n",
    "    print(Z.shape)\n",
    "    plt.contourf(xx,yy,meshclasses,[-0.1,0.1,1,2],colors=('tomato','lightblue','lightgreen'))\n",
    "    plt.scatter(features[:,0],features[:,1],c=labels, cmap = mpl.colors.ListedColormap(['r', 'b','g']))\n",
    "    # plt.scatter(data[:,0],data[:,1],c=classlabels_numeric, cmap = mpl.colors.ListedColormap(['r', 'b']))\n",
    "    plt.show()\n",
    "    pred_labels=model.predict(features)\n",
    "    print(\"Accuracy: {}\".format(accuracy_score(labels,pred_labels)))"
   ]
  },
  {
   "cell_type": "markdown",
   "metadata": {},
   "source": [
    "Learning a classifier -- uncomment to select the classification model to use."
   ]
  },
  {
   "cell_type": "code",
   "execution_count": 93,
   "metadata": {},
   "outputs": [
    {
     "name": "stdout",
     "output_type": "stream",
     "text": [
      "(160000, 3)\n"
     ]
    },
    {
     "data": {
      "image/png": "[encoded data removed]",
      "text/plain": [
       "<Figure size 432x288 with 1 Axes>"
      ]
     },
     "metadata": {
      "needs_background": "light"
     },
     "output_type": "display_data"
    },
    {
     "name": "stdout",
     "output_type": "stream",
     "text": [
      "Accuracy: 1.0\n"
     ]
    }
   ],
   "source": [
    "model_gaus=GaussianNB()\n",
    "model_gaus.fit(features,labels)\n",
    "plot_model(model_gaus)"
   ]
  },
  {
   "cell_type": "code",
   "execution_count": 94,
   "metadata": {},
   "outputs": [
    {
     "name": "stdout",
     "output_type": "stream",
     "text": [
      "(160000, 3)\n"
     ]
    },
    {
     "data": {
      "image/png": "[encoded data removed]",
      "text/plain": [
       "<Figure size 432x288 with 1 Axes>"
      ]
     },
     "metadata": {
      "needs_background": "light"
     },
     "output_type": "display_data"
    },
    {
     "name": "stdout",
     "output_type": "stream",
     "text": [
      "Accuracy: 0.996\n"
     ]
    }
   ],
   "source": [
    "model_lin=LinearDiscriminantAnalysis()\n",
    "model_lin.fit(features,labels)\n",
    "plot_model(model_lin)"
   ]
  },
  {
   "cell_type": "code",
   "execution_count": 95,
   "metadata": {},
   "outputs": [
    {
     "name": "stdout",
     "output_type": "stream",
     "text": [
      "(160000, 3)\n"
     ]
    },
    {
     "data": {
      "image/png": "[encoded data removed]",
      "text/plain": [
       "<Figure size 432x288 with 1 Axes>"
      ]
     },
     "metadata": {
      "needs_background": "light"
     },
     "output_type": "display_data"
    },
    {
     "name": "stdout",
     "output_type": "stream",
     "text": [
      "Accuracy: 1.0\n"
     ]
    }
   ],
   "source": [
    "model_svc= SVC(kernel='linear')\n",
    "model_svc.fit(features,labels)\n",
    "plot_model(model_svc, is_svc=True)"
   ]
  },
  {
   "cell_type": "code",
   "execution_count": 96,
   "metadata": {},
   "outputs": [
    {
     "name": "stdout",
     "output_type": "stream",
     "text": [
      "(160000, 3)\n"
     ]
    },
    {
     "data": {
      "image/png": "[encoded data removed]",
      "text/plain": [
       "<Figure size 432x288 with 1 Axes>"
      ]
     },
     "metadata": {
      "needs_background": "light"
     },
     "output_type": "display_data"
    },
    {
     "name": "stdout",
     "output_type": "stream",
     "text": [
      "Accuracy: 1.0\n"
     ]
    }
   ],
   "source": [
    "model_log = LogisticRegression()\n",
    "model_log.fit(features,labels)\n",
    "plot_model(model_log)"
   ]
  },
  {
   "cell_type": "markdown",
   "metadata": {},
   "source": [
    "Applying model to the meshgrid. All models return a quantitative \"likelihood\" for the different classes. For the probabilistic models, these are class label probabilities that are retrieved using the `.predict_proba` method. For the non-probabilistic SVC model, this is the `decision_function` method. In all cases, we classify a datapoint as belonging to the class with the maximal \"likelihood\" value."
   ]
  },
  {
   "cell_type": "markdown",
   "metadata": {},
   "source": [
    "Plotting datapoints and decision regions"
   ]
  },
  {
   "cell_type": "markdown",
   "metadata": {},
   "source": [
    "We also calculate the predictions on the (training) datapoints, and check the accuracy:"
   ]
  },
  {
   "cell_type": "code",
   "execution_count": 11,
   "metadata": {},
   "outputs": [
    {
     "name": "stdout",
     "output_type": "stream",
     "text": [
      "Accuracy: 1.0\n"
     ]
    }
   ],
   "source": []
  },
  {
   "cell_type": "markdown",
   "metadata": {},
   "source": [
    "**Exercise 1**: Experiment with the three classifiers Gaussian Naive Bayes, Linear Discriminant Analysis, Logistic Regression, and linear support vector machines. Use the MI data, and different mixtures of Gaussians you create by varying the parameters in `sample_2d_gaussian'. \n",
    "\n",
    "For the Gaussian mixture data:\n",
    "\n",
    "Create one or several linearly separable Gaussian mixture datasets (can be with only two components) for which some of the models give a perfect separation of the classes, and others don't. \n",
    "\n",
    "Create separate test sets using the same parameters for the Gaussian mixture as in the creation of the training set. Can you create a test/train dataset and find classifiers A and B, such that A is better than B on the training data, but B is better than A on the test set? Why is this not such an easy task for the datasets and classifiers we consider her?\n",
    "\n",
    "For the MI data:\n",
    "\n",
    "explain the structure of the decision regions you find for the different classifiers.\n"
   ]
  },
  {
   "cell_type": "markdown",
   "metadata": {},
   "source": [
    "#### svc | GaussianNB\n",
    "![svc](images/svc_mi.png)\n",
    "![Linear Regression](images/gaus_mi.png)\n",
    "#### LogisticRegression | LinearDiscriminantAnalysis\n",
    "![Log](images/log_mi.png)\n",
    "![Linear Regression](images/lin_mi.png)"
   ]
  },
  {
   "cell_type": "markdown",
   "metadata": {},
   "source": [
    "Part 1 Q1 / Description of Decision Boundaries\n",
    "- We see that SVC (linear kernel), Logistic Regression, and Linear Discriminant Analysis (that is Gaussian where all classes shares Covariance Matrices) have linear decision boundaries, so we can see a hyperplane separating the points,\n",
    "- log.reg will make K-1 (where K is the number of classes) linear boundaries, hence we see the plot reflects that\n",
    "- SVC (Support Vector Machine) will make maximum maring hyperplane\n",
    "- linear disc. will compute means, but sam Cov. Mat. so the probabilities will \"drop\" off in similar speed away from the mean, so it will effect linear decision boundaries\n",
    "- GaussianNB we know difference from Linear Discriminant Analysis is that they have Cov. Mat. for each class so the probabilities drop off in different rates from the mean peak, so this we can see also matches the plot, where red points have more variance so the probability will drop off slower, and then in regions far away from green mean peak, it will dominate, which is why we see this effect of green being surrounded by red"
   ]
  },
  {
   "cell_type": "markdown",
   "metadata": {},
   "source": [
    "#### svc | GaussianNB\n",
    "![svc](images/svc_custome.png)\n",
    "![Linear Regression](images\\gaus_costume.png)\n",
    "#### LogisticRegression | LinearDiscriminantAnalysis\n",
    "![Log](images/log_custome.png)\n",
    "![Linear Regression](images/lin_custome.png)"
   ]
  },
  {
   "cell_type": "markdown",
   "metadata": {},
   "source": [
    "#### Part 1 Q2 / Linearly separable datasets where LDA fails\n",
    "Here we see how a dataset, which is linearly seperable, can be seperated by three of the models, but fails on one. It fails on the linear discriminant analysis, where we exploit how all classes in this model use the same covariance matrix, which is exploited by assigning one class with a significatly higher covariance that the others, and some of it its points will be far from its mean and hence likely to be closer to the mean of some other class, as we see happening with some of the red points."
   ]
  },
  {
   "cell_type": "markdown",
   "metadata": {},
   "source": [
    "#### Part 1 Q3 / Train and test set generation\n",
    "- for the task of generating train and data set from the same Gaussian Mixtures, such that you can find Model A and B, with Model A being best on train set, while Model B is best on the test set.\n",
    "- Given that the Training and Test set are drawn from the same Gaussian Mixtures, this will be hard, possibly with higher variance spurious cases can exist, but not with significant differences in the accuracy."
   ]
  },
  {
   "cell_type": "markdown",
   "metadata": {},
   "source": [
    "### Part 2: the Boston Housing data"
   ]
  },
  {
   "cell_type": "markdown",
   "metadata": {},
   "source": [
    "We next investigate some \"real\" data: the Boston housing dataset contains information on different socio-economic features in different areas around Boston, and the median house value in these areas. The usual machine learning problem for this dataset is the regression problem of predicting the median value. We can turn it into a binary prediction problem whether the median value is above the median (of the median values). \n",
    "\n",
    "The `load_boston` function returns the dataset in the form of a dictionary with attributes DESCR, data, and target."
   ]
  },
  {
   "cell_type": "code",
   "execution_count": 97,
   "metadata": {},
   "outputs": [
    {
     "name": "stdout",
     "output_type": "stream",
     "text": [
      ".. _boston_dataset:\n",
      "\n",
      "Boston house prices dataset\n",
      "---------------------------\n",
      "\n",
      "**Data Set Characteristics:**  \n",
      "\n",
      "    :Number of Instances: 506 \n",
      "\n",
      "    :Number of Attributes: 13 numeric/categorical predictive. Median Value (attribute 14) is usually the target.\n",
      "\n",
      "    :Attribute Information (in order):\n",
      "        - CRIM     per capita crime rate by town\n",
      "        - ZN       proportion of residential land zoned for lots over 25,000 sq.ft.\n",
      "        - INDUS    proportion of non-retail business acres per town\n",
      "        - CHAS     Charles River dummy variable (= 1 if tract bounds river; 0 otherwise)\n",
      "        - NOX      nitric oxides concentration (parts per 10 million)\n",
      "        - RM       average number of rooms per dwelling\n",
      "        - AGE      proportion of owner-occupied units built prior to 1940\n",
      "        - DIS      weighted distances to five Boston employment centres\n",
      "        - RAD      index of accessibility to radial highways\n",
      "        - TAX      full-value property-tax rate per $10,000\n",
      "        - PTRATIO  pupil-teacher ratio by town\n",
      "        - B        1000(Bk - 0.63)^2 where Bk is the proportion of black people by town\n",
      "        - LSTAT    % lower status of the population\n",
      "        - MEDV     Median value of owner-occupied homes in $1000's\n",
      "\n",
      "    :Missing Attribute Values: None\n",
      "\n",
      "    :Creator: Harrison, D. and Rubinfeld, D.L.\n",
      "\n",
      "This is a copy of UCI ML housing dataset.\n",
      "https://archive.ics.uci.edu/ml/machine-learning-databases/housing/\n",
      "\n",
      "\n",
      "This dataset was taken from the StatLib library which is maintained at Carnegie Mellon University.\n",
      "\n",
      "The Boston house-price data of Harrison, D. and Rubinfeld, D.L. 'Hedonic\n",
      "prices and the demand for clean air', J. Environ. Economics & Management,\n",
      "vol.5, 81-102, 1978.   Used in Belsley, Kuh & Welsch, 'Regression diagnostics\n",
      "...', Wiley, 1980.   N.B. Various transformations are used in the table on\n",
      "pages 244-261 of the latter.\n",
      "\n",
      "The Boston house-price data has been used in many machine learning papers that address regression\n",
      "problems.   \n",
      "     \n",
      ".. topic:: References\n",
      "\n",
      "   - Belsley, Kuh & Welsch, 'Regression diagnostics: Identifying Influential Data and Sources of Collinearity', Wiley, 1980. 244-261.\n",
      "   - Quinlan,R. (1993). Combining Instance-Based and Model-Based Learning. In Proceedings on the Tenth International Conference of Machine Learning, 236-243, University of Massachusetts, Amherst. Morgan Kaufmann.\n",
      "\n"
     ]
    },
    {
     "name": "stderr",
     "output_type": "stream",
     "text": [
      "c:\\Users\\Stonker69\\Documents\\GitHub\\ml_exam_notes\\selfstudy\\env\\lib\\site-packages\\sklearn\\utils\\deprecation.py:87: FutureWarning: Function load_boston is deprecated; `load_boston` is deprecated in 1.0 and will be removed in 1.2.\n",
      "\n",
      "    The Boston housing prices dataset has an ethical problem. You can refer to\n",
      "    the documentation of this function for further details.\n",
      "\n",
      "    The scikit-learn maintainers therefore strongly discourage the use of this\n",
      "    dataset unless the purpose of the code is to study and educate about\n",
      "    ethical issues in data science and machine learning.\n",
      "\n",
      "    In this special case, you can fetch the dataset from the original\n",
      "    source::\n",
      "\n",
      "        import pandas as pd\n",
      "        import numpy as np\n",
      "\n",
      "        data_url = \"http://lib.stat.cmu.edu/datasets/boston\"\n",
      "        raw_df = pd.read_csv(data_url, sep=\"\\s+\", skiprows=22, header=None)\n",
      "        data = np.hstack([raw_df.values[::2, :], raw_df.values[1::2, :2]])\n",
      "        target = raw_df.values[1::2, 2]\n",
      "\n",
      "    Alternative datasets include the California housing dataset (i.e.\n",
      "    :func:`~sklearn.datasets.fetch_california_housing`) and the Ames housing\n",
      "    dataset. You can load the datasets as follows::\n",
      "\n",
      "        from sklearn.datasets import fetch_california_housing\n",
      "        housing = fetch_california_housing()\n",
      "\n",
      "    for the California housing dataset and::\n",
      "\n",
      "        from sklearn.datasets import fetch_openml\n",
      "        housing = fetch_openml(name=\"house_prices\", as_frame=True)\n",
      "\n",
      "    for the Ames housing dataset.\n",
      "  warnings.warn(msg, category=FutureWarning)\n"
     ]
    }
   ],
   "source": [
    "from sklearn.datasets import load_boston\n",
    "bostondata = load_boston() \n",
    "print(bostondata.DESCR)"
   ]
  },
  {
   "cell_type": "markdown",
   "metadata": {},
   "source": [
    "We generate our labels, and create a train/test split:"
   ]
  },
  {
   "cell_type": "code",
   "execution_count": 98,
   "metadata": {},
   "outputs": [],
   "source": [
    "labels = np.array([1 if y > np.median(bostondata['target']) else 0 for y in bostondata['target']])\n",
    "features = bostondata['data']\n",
    "features_train,features_test,labels_train,labels_test = train_test_split(features,labels)"
   ]
  },
  {
   "cell_type": "markdown",
   "metadata": {},
   "source": [
    "Selecting a model class, learning, and measuring accuracy:"
   ]
  },
  {
   "cell_type": "code",
   "execution_count": 100,
   "metadata": {},
   "outputs": [],
   "source": [
    "def fit_model(model, model_name):\n",
    "    model.fit(features_train,labels_train)\n",
    "    pred_labels_train=model.predict(features_train)\n",
    "    pred_labels_test=model.predict(features_test)\n",
    "    print(\"-------\")\n",
    "    print(model_name)\n",
    "    print(\"Accuracy train: {}\".format(accuracy_score(labels_train,pred_labels_train)))\n",
    "    print(\"Accuracy test: {}\".format(accuracy_score(labels_test,pred_labels_test)))"
   ]
  },
  {
   "cell_type": "code",
   "execution_count": 122,
   "metadata": {},
   "outputs": [
    {
     "name": "stdout",
     "output_type": "stream",
     "text": [
      "-------\n",
      "GaussianNB\n",
      "Accuracy train: 0.7493403693931399\n",
      "Accuracy test: 0.8346456692913385\n",
      "-------\n",
      "LinearDiscriminantAnalysis\n",
      "Accuracy train: 0.8469656992084432\n",
      "Accuracy test: 0.8582677165354331\n",
      "-------\n",
      "SVC\n",
      "Accuracy train: 0.8707124010554089\n",
      "Accuracy test: 0.8661417322834646\n",
      "-------\n",
      "LogisticRegression\n",
      "Accuracy train: 0.862796833773087\n",
      "Accuracy test: 0.8503937007874016\n"
     ]
    },
    {
     "name": "stderr",
     "output_type": "stream",
     "text": [
      "c:\\Users\\Stonker69\\Documents\\GitHub\\ml_exam_notes\\selfstudy\\env\\lib\\site-packages\\sklearn\\linear_model\\_logistic.py:444: ConvergenceWarning: lbfgs failed to converge (status=1):\n",
      "STOP: TOTAL NO. of ITERATIONS REACHED LIMIT.\n",
      "\n",
      "Increase the number of iterations (max_iter) or scale the data as shown in:\n",
      "    https://scikit-learn.org/stable/modules/preprocessing.html\n",
      "Please also refer to the documentation for alternative solver options:\n",
      "    https://scikit-learn.org/stable/modules/linear_model.html#logistic-regression\n",
      "  n_iter_i = _check_optimize_result(\n"
     ]
    }
   ],
   "source": [
    "models = {\n",
    "    \"GaussianNB\":GaussianNB(),\n",
    "    \"LinearDiscriminantAnalysis\":LinearDiscriminantAnalysis(),\n",
    "    \"SVC\":SVC(kernel='linear'),\n",
    "    \"LogisticRegression\":LogisticRegression(),\n",
    "}\n",
    "\n",
    "for key, value in models.items():\n",
    "    fit_model(value, key)\n"
   ]
  },
  {
   "cell_type": "markdown",
   "metadata": {},
   "source": [
    "**Exercise 2**: Try the different models on the Boston housing data. Which one is doing best in terms of test accuracy?\n",
    "\n",
    "Inspect the following attributes of the learned models:\n",
    "\n",
    "GaussianNB: `theta_`, `sigma_` <br>\n",
    "LDA: `means_` <br>\n",
    "Logistic regression: `coef_` <br>\n",
    "SVC: `coef_`<br>\n",
    "\n",
    "Check the online documentation about the meaning of these attributes. How can the values of these attributes be used for explaining the classification model? Which of the input features are most important for the prediction? \n",
    "\n",
    "For this investigation it may be helpful to normalize the data before building the classifiers, using the code in the cell below (why is this useful?).\n",
    "\n"
   ]
  },
  {
   "cell_type": "code",
   "execution_count": null,
   "metadata": {},
   "outputs": [],
   "source": [
    "from sklearn.preprocessing import StandardScaler\n",
    "scaler = StandardScaler()\n",
    "scaler.fit(features_train)\n",
    "features_train_norm=scaler.transform(features_train)\n",
    "features_test_norm=scaler.transform(features_test)\n"
   ]
  },
  {
   "cell_type": "markdown",
   "metadata": {},
   "source": [
    "### GaussianNB\n",
    "\n",
    "- sigma is depreciated\n",
    "\n",
    "var_ndarray of shape (n_classes, n_features) Variance of each feature per class.\n",
    "\n",
    "\n",
    "theta_ndarray of shape (n_classes, n_features)\n",
    "mean of each feature per class."
   ]
  },
  {
   "cell_type": "code",
   "execution_count": 102,
   "metadata": {},
   "outputs": [
    {
     "data": {
      "text/plain": [
       "((2, 13), (2, 13))"
      ]
     },
     "execution_count": 102,
     "metadata": {},
     "output_type": "execute_result"
    }
   ],
   "source": [
    "models['GaussianNB'].theta_.shape, models['GaussianNB'].var_.shape"
   ]
  },
  {
   "cell_type": "code",
   "execution_count": 142,
   "metadata": {},
   "outputs": [
    {
     "data": {
      "text/plain": [
       "array([ 9, 11,  6,  1, 12], dtype=int64)"
      ]
     },
     "execution_count": 142,
     "metadata": {},
     "output_type": "execute_result"
    }
   ],
   "source": [
    "# most important feature are probably those where the means are very different from each other, so we just compute difference\n",
    "# and sort based on abs. diff\n",
    "#class 1 means \n",
    "top_five = 5\n",
    "np.argsort(-np.abs((models['GaussianNB'].theta_[0]- models['GaussianNB'].theta_[1])))[:top_five]\n",
    "# these are attributes:\n",
    "# 9 - TAX      full-value property-tax rate per $10,000\n",
    "# 11 -  B        1000(Bk - 0.63)^2 where Bk is the proportion of black people by town\n",
    "# 6 - AGE      proportion of owner-occupied units built prior to 1940\n",
    "# 1 - - ZN       proportion of residential land zoned for lots over 25,000 sq.ft."
   ]
  },
  {
   "cell_type": "markdown",
   "metadata": {},
   "source": [
    "### LDA\n",
    "\n",
    "- means_array-like of shape (n_classes, n_features)\n",
    "- Class-wise means.\n",
    "- mean of each feature per class"
   ]
  },
  {
   "cell_type": "code",
   "execution_count": 103,
   "metadata": {},
   "outputs": [
    {
     "data": {
      "text/plain": [
       "(2, 13)"
      ]
     },
     "execution_count": 103,
     "metadata": {},
     "output_type": "execute_result"
    }
   ],
   "source": [
    "models['LinearDiscriminantAnalysis'].means_.shape"
   ]
  },
  {
   "cell_type": "code",
   "execution_count": 143,
   "metadata": {},
   "outputs": [
    {
     "data": {
      "text/plain": [
       "array([ 9, 11,  6,  1, 12], dtype=int64)"
      ]
     },
     "execution_count": 143,
     "metadata": {},
     "output_type": "execute_result"
    }
   ],
   "source": [
    "# For LDA we will do the same approach to see what features are most important\n",
    "# most important feature are probably those where the means are very different from each other, so we just compute difference\n",
    "# and sort based on abs. diff\n",
    "#class 1 means \n",
    "top_five = 5\n",
    "np.argsort(-np.abs((models['LinearDiscriminantAnalysis'].means_[0]- models['LinearDiscriminantAnalysis'].means_[1])))[:top_five]\n",
    "# these are attributes:\n",
    "# 9 - TAX      full-value property-tax rate per $10,000\n",
    "# 11 -  B        1000(Bk - 0.63)^2 where Bk is the proportion of black people by town\n",
    "# 6 - AGE      proportion of owner-occupied units built prior to 1940\n",
    "# 1 - - ZN       proportion of residential land zoned for lots over 25,000 sq.ft."
   ]
  },
  {
   "cell_type": "markdown",
   "metadata": {},
   "source": [
    "### Logistic Regression\n",
    "\n",
    "- **coef_ndarray of shape (1, n_features) or (n_classes, n_features)**\n",
    "\n",
    "- Coefficient of the features in the decision function.\n",
    "\n",
    "- coef_ is of shape (1, n_features) when the given problem is binary. In particular, when multi_class='multinomial', coef_ corresponds to outcome 1 (True) and -coef_ corresponds to outcome 0 (False).\n",
    "\n",
    "It is the coeffients for each feature, that we know from linear models"
   ]
  },
  {
   "cell_type": "code",
   "execution_count": 104,
   "metadata": {},
   "outputs": [
    {
     "data": {
      "text/plain": [
       "(1, 13)"
      ]
     },
     "execution_count": 104,
     "metadata": {},
     "output_type": "execute_result"
    }
   ],
   "source": [
    "log_w = models['LogisticRegression'].coef_\n",
    "log_w.shape"
   ]
  },
  {
   "cell_type": "code",
   "execution_count": 106,
   "metadata": {},
   "outputs": [
    {
     "data": {
      "text/plain": [
       "Text(0.5, 1.0, 'Logistic Regression')"
      ]
     },
     "execution_count": 106,
     "metadata": {},
     "output_type": "execute_result"
    },
    {
     "data": {
      "image/png": "[encoded data removed]",
      "text/plain": [
       "<Figure size 432x288 with 1 Axes>"
      ]
     },
     "metadata": {
      "needs_background": "light"
     },
     "output_type": "display_data"
    }
   ],
   "source": [
    "plt.bar([x for x in range(log_w.shape[-1])], [w for w in models['LogisticRegression'].coef_[0]])\n",
    "plt.title('Logistic Regression')"
   ]
  },
  {
   "cell_type": "markdown",
   "metadata": {},
   "source": [
    "From this plot we can see that feature 5, 7 and 10 seems important, as they are given more weight,\n",
    "while the other input features are being multiplied by values close to 0"
   ]
  },
  {
   "cell_type": "markdown",
   "metadata": {},
   "source": [
    "### SVC\n",
    "\n",
    "- **coef_ndarray of shape (n_classes * (n_classes - 1) / 2, n_features)**\n",
    "- Weights assigned to the features when kernel=\"linear\".\n",
    "\n",
    "Weights learned that represents vector orthogonal to the maximum margin separator"
   ]
  },
  {
   "cell_type": "code",
   "execution_count": 107,
   "metadata": {},
   "outputs": [
    {
     "data": {
      "text/plain": [
       "(1, 13)"
      ]
     },
     "execution_count": 107,
     "metadata": {},
     "output_type": "execute_result"
    }
   ],
   "source": [
    "svc_w = models['SVC'].coef_\n",
    "svc_w.shape"
   ]
  },
  {
   "cell_type": "code",
   "execution_count": 108,
   "metadata": {},
   "outputs": [
    {
     "data": {
      "text/plain": [
       "Text(0.5, 1.0, 'SVC')"
      ]
     },
     "execution_count": 108,
     "metadata": {},
     "output_type": "execute_result"
    },
    {
     "data": {
      "image/png": "[encoded data removed]",
      "text/plain": [
       "<Figure size 432x288 with 1 Axes>"
      ]
     },
     "metadata": {
      "needs_background": "light"
     },
     "output_type": "display_data"
    }
   ],
   "source": [
    "plt.bar([x for x in range(svc_w.shape[-1])], [w for w in models['SVC'].coef_[0]])\n",
    "plt.title(\"SVC\")"
   ]
  },
  {
   "cell_type": "markdown",
   "metadata": {},
   "source": [
    "It shows that features 3, 4 and 5 are important, while others seems more close to 0"
   ]
  },
  {
   "cell_type": "markdown",
   "metadata": {},
   "source": [
    "## Normalize the Data"
   ]
  },
  {
   "cell_type": "code",
   "execution_count": 109,
   "metadata": {},
   "outputs": [],
   "source": [
    "from sklearn.preprocessing import StandardScaler\n",
    "scaler = StandardScaler()\n",
    "scaler.fit(features_train)\n",
    "features_train_norm=scaler.transform(features_train)\n",
    "features_test_norm=scaler.transform(features_test)"
   ]
  },
  {
   "cell_type": "code",
   "execution_count": 113,
   "metadata": {},
   "outputs": [
    {
     "name": "stdout",
     "output_type": "stream",
     "text": [
      "GaussianNB\n",
      " - Accuracy train: 0.7493403693931399\n",
      " - Accuracy test: 0.8346456692913385\n",
      "LinearDiscriminantAnalysis\n",
      " - Accuracy train: 0.8469656992084432\n",
      " - Accuracy test: 0.8582677165354331\n",
      "SVC\n",
      " - Accuracy train: 0.8654353562005277\n",
      " - Accuracy test: 0.8818897637795275\n",
      "LogisticRegression\n",
      " - Accuracy train: 0.8575197889182058\n",
      " - Accuracy test: 0.8740157480314961\n"
     ]
    }
   ],
   "source": [
    "for model_name, model in models.items():\n",
    "    model.fit(features_train_norm,labels_train)\n",
    "    pred_labels_train=model.predict(features_train_norm)\n",
    "    pred_labels_test=model.predict(features_test_norm)\n",
    "\n",
    "    print(model_name)\n",
    "    print(\" - Accuracy train: {}\".format(accuracy_score(labels_train,pred_labels_train)))\n",
    "    print(\" - Accuracy test: {}\".format(accuracy_score(labels_test,pred_labels_test)))"
   ]
  }
 ],
 "metadata": {
  "interpreter": {
   "hash": "a52c312340d997e0f2d76c4a69880a6c0d3df73b0efc89e90ec38cf5ac1fd14a"
  },
  "kernelspec": {
   "display_name": "Python 3.10.2 ('env': venv)",
   "language": "python",
   "name": "python3"
  },
  "language_info": {
   "codemirror_mode": {
    "name": "ipython",
    "version": 3
   },
   "file_extension": ".py",
   "mimetype": "text/x-python",
   "name": "python",
   "nbconvert_exporter": "python",
   "pygments_lexer": "ipython3",
   "version": "3.10.2"
  }
 },
 "nbformat": 4,
 "nbformat_minor": 2
}
