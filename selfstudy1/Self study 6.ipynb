{
 "cells": [
  {
   "cell_type": "markdown",
   "metadata": {},
   "source": [
    "In this self study you will explore Pyro a bit further, bu as opposed to the last self study session where focus was on modeling we will here take a slightly closer lool at (variational) inference. in Pyro \n",
    "\n",
    "Before starting on today's self studies, you should finish the self studies from last tme if you have not already done so. Also, if needed, consider revisiting the Pyro documentation listed under reading material for the last two lectures:\n",
    "* http://pyro.ai/examples/intro_long.html\n",
    "* http://pyro.ai/examples/bayesian_regression.html\n",
    "* http://pyro.ai/examples/svi_part_i.html\n",
    "\n",
    "Afterwards, continue with the notebook below, where we consider (Bayesian) linear regression using Pyro based on the same setup as in the lecture. "
   ]
  },
  {
   "cell_type": "code",
   "execution_count": 132,
   "metadata": {},
   "outputs": [],
   "source": [
    "import pyro\n",
    "import torch\n",
    "import matplotlib\n",
    "#matplotlib.use('TkAgg')\n",
    "%matplotlib inline\n",
    "import matplotlib.pyplot as plt\n",
    "import pyro.distributions as dist\n",
    "import torch.distributions.constraints as constraints\n",
    "from pyro.infer import SVI, Trace_ELBO\n",
    "from pyro.optim import Adam, SGD\n",
    "import numpy as np\n",
    "\n",
    "import os\n",
    "os.environ['KMP_DUPLICATE_LIB_OK']='True'"
   ]
  },
  {
   "cell_type": "markdown",
   "metadata": {},
   "source": [
    "### Generate data\n",
    "This data generation is similar to what was done during the lecture; we have one predictor variable 'x' and one response variable 'y', but here collected in a  dictionary."
   ]
  },
  {
   "cell_type": "code",
   "execution_count": 148,
   "metadata": {},
   "outputs": [],
   "source": [
    "def generate_data(N=10, true_w0= 1., true_w1=.5):\n",
    "    gamma = 4.  # The *precision* in the observation noise\n",
    "    st_dev = 1. / np.sqrt(gamma)  # And corresponding standard deviation\n",
    "    np.random.seed(123)\n",
    "    x = 5 * np.random.rand(N)  # The x-points are sampled uniformly on [0, 5]\n",
    "    y = np.random.normal(loc=true_w0 + true_w1 * x, scale=st_dev)  # And the response is sampled from the Normal\n",
    "    return {\"x\": torch.tensor(x, dtype=torch.float), \"y\": torch.tensor(y, dtype=torch.float)}"
   ]
  },
  {
   "cell_type": "markdown",
   "metadata": {},
   "source": [
    "Helper function for visualizing the data as well as the true and learned functions"
   ]
  },
  {
   "cell_type": "code",
   "execution_count": 149,
   "metadata": {},
   "outputs": [],
   "source": [
    "def data_plotter(data, true_w0=None, true_w1=None,\n",
    "                 approx_w0=None, approx_w1=None, legend=True):\n",
    "    \"\"\"\n",
    "    Use to plot data. If y is not none it contains responses, and (x,y) will be scatter-plotted\n",
    "    If neither true_w0 nor true_w1 is None, we will plot the line true_w0 + x * true_w1 in red.\n",
    "    If neither approx_w0 nor approx_w1 is None, we plot the line approx_w0 + x * approx_w1 in green.\n",
    "    \"\"\"\n",
    "    if data is not None:\n",
    "        plt.plot(data[\"x\"].numpy(), data[\"y\"].numpy(), \"bo\", label=\"data\", )\n",
    "\n",
    "    # Plot true line if given\n",
    "    if true_w0 is not None and true_w1 is not None:\n",
    "        plt.plot(data[\"x\"].numpy(), true_w0 + true_w1 * data[\"x\"].numpy(), \"r-\", label=\"true\")\n",
    "\n",
    "    # Plot approximation if given\n",
    "    if approx_w0 is not None and approx_w1 is not None:\n",
    "        # set z index to make sure the line is on top of the data\n",
    "        plt.plot(data[\"x\"].numpy(), approx_w0+ approx_w1* data[\"x\"].numpy(), \"g-\", alpha=.2, label=\"approx\", zorder=10)\n",
    "    \n",
    "    if legend:\n",
    "        plt.legend()"
   ]
  },
  {
   "cell_type": "markdown",
   "metadata": {},
   "source": [
    "Generate a data set with 50 data points"
   ]
  },
  {
   "cell_type": "code",
   "execution_count": 150,
   "metadata": {},
   "outputs": [],
   "source": [
    "true_w0= 1.\n",
    "true_w1=.5\n",
    "data = generate_data(N=50, true_w0=true_w0, true_w1=true_w1)\n"
   ]
  },
  {
   "cell_type": "markdown",
   "metadata": {},
   "source": [
    "Plot the data together with the regression line around which the data has been generated."
   ]
  },
  {
   "cell_type": "code",
   "execution_count": 151,
   "metadata": {},
   "outputs": [
    {
     "data": {
      "image/png": "[encoded data removed]",
      "text/plain": [
       "<Figure size 432x288 with 1 Axes>"
      ]
     },
     "metadata": {
      "needs_background": "light"
     },
     "output_type": "display_data"
    }
   ],
   "source": [
    "data_plotter(data, true_w0=true_w0, true_w1=true_w1)"
   ]
  },
  {
   "cell_type": "markdown",
   "metadata": {},
   "source": [
    "## Specification of the Pyro model and guide"
   ]
  },
  {
   "cell_type": "markdown",
   "metadata": {},
   "source": [
    "Here we specify a (Bayesian) linear regression model in Pyro. The 'data' argument is a dictionary covering the data of the predictor and response variable"
   ]
  },
  {
   "cell_type": "code",
   "execution_count": 170,
   "metadata": {},
   "outputs": [],
   "source": [
    "def lin_reg_model(data):\n",
    "\n",
    "    w0 = pyro.sample(\"w0\", dist.Normal(0.0, 0.01))\n",
    "    w1 = pyro.sample(\"w1\", dist.Normal(0.0, 0.01))\n",
    "\n",
    "    with pyro.plate(\"data_plate\"):\n",
    "        pyro.sample(\"y\", dist.Normal(data[\"x\"] * w1 + w0, 1.0), obs=data[\"y\"])"
   ]
  },
  {
   "cell_type": "markdown",
   "metadata": {},
   "source": [
    "Here we specify the variational distribution, which is called a guide in Pyro. We make the mean field assumption and assume that the variational distribution factorizes wrt. to 'w0' and 'w1'."
   ]
  },
  {
   "cell_type": "code",
   "execution_count": 171,
   "metadata": {},
   "outputs": [],
   "source": [
    "def lin_reg_guide(data):\n",
    "    w0_mean = pyro.param(\"w0_mean\", torch.tensor(0.0))\n",
    "    w0_scale = pyro.param(\"w0_scale\", torch.tensor(1), constraint=constraints.positive)\n",
    "    pyro.sample(\"w0\", dist.Normal(w0_mean, w0_scale))\n",
    "    \n",
    "    w1_mean = pyro.param(\"w1_mean\", torch.tensor(0.0))\n",
    "    w1_scale = pyro.param(\"w1_scale\", torch.tensor(1), constraint=constraints.positive)\n",
    "    pyro.sample(\"w1\", dist.Normal(w1_mean, w1_scale))"
   ]
  },
  {
   "cell_type": "markdown",
   "metadata": {},
   "source": [
    "### Learning\n",
    "\n",
    "In this function the actual learning is taking place. Notice that the structure is similar to what we saw in the example notebooks during the lecture."
   ]
  },
  {
   "cell_type": "code",
   "execution_count": 172,
   "metadata": {},
   "outputs": [],
   "source": [
    "def learn(N=10, data=None, lr=0.0001):\n",
    "    if data is None:\n",
    "        data = generate_data(N=N)\n",
    "\n",
    "    pyro.clear_param_store()\n",
    "\n",
    "    elbo = pyro.infer.Trace_ELBO()\n",
    "    svi = pyro.infer.SVI(model=lin_reg_model,\n",
    "                         guide=lin_reg_guide,\n",
    "                         optim=SGD({\"lr\": lr}),\n",
    "                         loss=elbo)\n",
    "\n",
    "    num_steps = 5000\n",
    "    for step in range(num_steps):\n",
    "        loss = svi.step(data)\n",
    "\n",
    "        if step % 100 == 0:\n",
    "            w0_mean = pyro.param(\"w0_mean\").detach().item()\n",
    "            w0_scale = pyro.param(\"w0_scale\").detach().item()\n",
    "            w1_mean = pyro.param(\"w1_mean\").detach().item()\n",
    "            w1_scale = pyro.param(\"w1_scale\").detach().item()\n",
    "            print(f\"Loss (iter: {step}): {loss}\")\n",
    "            print(f\"w0: {w0_mean} +/- {w0_scale}\\t \\t w1: {w1_mean} +/- {w1_scale}\")"
   ]
  },
  {
   "cell_type": "code",
   "execution_count": 173,
   "metadata": {},
   "outputs": [
    {
     "name": "stdout",
     "output_type": "stream",
     "text": [
      "Loss (iter: 0): 1474.1625847816467\n",
      "w0: -0.4862527847290039 +/- 0.7854659557342529\t \t w1: 0.1509019434452057 +/- 0.9820894598960876\n",
      "Loss (iter: 100): 264.1699321269989\n",
      "w0: 0.05245658755302429 +/- 0.07223188877105713\t \t w1: 0.013736292719841003 +/- 0.06580106914043427\n",
      "Loss (iter: 200): 195.60851192474365\n",
      "w0: 0.06265882402658463 +/- 0.04895464703440666\t \t w1: 0.04808889329433441 +/- 0.04835394397377968\n",
      "Loss (iter: 300): 211.56047582626343\n",
      "w0: 0.05243692919611931 +/- 0.04032494127750397\t \t w1: -0.04748903959989548 +/- 0.03968854621052742\n",
      "Loss (iter: 400): 213.45718920230865\n",
      "w0: -0.03036290407180786 +/- 0.03621416911482811\t \t w1: 0.05541557818651199 +/- 0.03504464775323868\n",
      "Loss (iter: 500): 187.5462040901184\n",
      "w0: 0.018604464828968048 +/- 0.03218503296375275\t \t w1: 0.024274293333292007 +/- 0.03041078895330429\n",
      "Loss (iter: 600): 192.97052681446075\n",
      "w0: 0.01795538142323494 +/- 0.03005146235227585\t \t w1: -0.026205625385046005 +/- 0.02786782570183277\n",
      "Loss (iter: 700): 229.02451825141907\n",
      "w0: -0.019035598263144493 +/- 0.028056712821125984\t \t w1: -0.043423138558864594 +/- 0.025892091915011406\n",
      "Loss (iter: 800): 192.26730489730835\n",
      "w0: 0.003826545551419258 +/- 0.02643257938325405\t \t w1: 0.035018134862184525 +/- 0.024141691625118256\n",
      "Loss (iter: 900): 203.9411517381668\n",
      "w0: 0.04525695741176605 +/- 0.024377955123782158\t \t w1: 0.05678774416446686 +/- 0.023316487669944763\n",
      "Loss (iter: 1000): 189.7669676542282\n",
      "w0: -0.016124555841088295 +/- 0.023253783583641052\t \t w1: 0.04017658159136772 +/- 0.022339869290590286\n",
      "Loss (iter: 1100): 187.55570077896118\n",
      "w0: 0.0054205674678087234 +/- 0.021994173526763916\t \t w1: 0.02280164323747158 +/- 0.021346019580960274\n",
      "Loss (iter: 1200): 206.72594702243805\n",
      "w0: 0.042603831738233566 +/- 0.021226953715085983\t \t w1: 0.027065381407737732 +/- 0.02053653448820114\n",
      "Loss (iter: 1300): 191.66733920574188\n",
      "w0: 0.01586868241429329 +/- 0.02065240405499935\t \t w1: 0.01894865743815899 +/- 0.02001890540122986\n",
      "Loss (iter: 1400): 202.12356460094452\n",
      "w0: 0.03988438844680786 +/- 0.019989049062132835\t \t w1: 0.03949669003486633 +/- 0.019515829160809517\n",
      "Loss (iter: 1500): 190.1310180425644\n",
      "w0: 0.03229943662881851 +/- 0.01954924687743187\t \t w1: 0.04064261540770531 +/- 0.019151879474520683\n",
      "Loss (iter: 1600): 189.17752063274384\n",
      "w0: -0.01504058949649334 +/- 0.018859874457120895\t \t w1: 0.07371559739112854 +/- 0.018505634739995003\n",
      "Loss (iter: 1700): 187.73917770385742\n",
      "w0: -0.007159021217375994 +/- 0.018505902960896492\t \t w1: 0.028785016387701035 +/- 0.018127581104636192\n",
      "Loss (iter: 1800): 199.5281171798706\n",
      "w0: 0.025281401351094246 +/- 0.018118273466825485\t \t w1: 0.05302193760871887 +/- 0.01757742092013359\n",
      "Loss (iter: 1900): 197.64163398742676\n",
      "w0: 0.024295007809996605 +/- 0.017699772492051125\t \t w1: 0.040453482419252396 +/- 0.017290985211730003\n",
      "Loss (iter: 2000): 194.15776538848877\n",
      "w0: 0.02606295421719551 +/- 0.01729336939752102\t \t w1: 0.05044824630022049 +/- 0.016979800537228584\n",
      "Loss (iter: 2100): 194.21790647506714\n",
      "w0: 0.008585801348090172 +/- 0.016965258866548538\t \t w1: 0.03501644730567932 +/- 0.016627134755253792\n",
      "Loss (iter: 2200): 188.59594678878784\n",
      "w0: 0.018640533089637756 +/- 0.016558442264795303\t \t w1: 0.051881514489650726 +/- 0.016391990706324577\n",
      "Loss (iter: 2300): 194.1716184616089\n",
      "w0: 0.003131542354822159 +/- 0.016274116933345795\t \t w1: 0.010634109377861023 +/- 0.016034137457609177\n",
      "Loss (iter: 2400): 189.41357278823853\n",
      "w0: 0.019115623086690903 +/- 0.016057230532169342\t \t w1: 0.03220272436738014 +/- 0.01575336791574955\n",
      "Loss (iter: 2500): 198.2998298406601\n",
      "w0: 0.0014045275747776031 +/- 0.01590847223997116\t \t w1: 0.05644351243972778 +/- 0.015466847456991673\n",
      "Loss (iter: 2600): 187.33998727798462\n",
      "w0: 0.0374736413359642 +/- 0.015755705535411835\t \t w1: 0.023436447605490685 +/- 0.015260245651006699\n",
      "Loss (iter: 2700): 188.71545112133026\n",
      "w0: 0.02990797534584999 +/- 0.015486810356378555\t \t w1: 0.048498716205358505 +/- 0.015037288889288902\n",
      "Loss (iter: 2800): 187.98796224594116\n",
      "w0: 0.029316429048776627 +/- 0.015276276506483555\t \t w1: 0.02303113415837288 +/- 0.014902726747095585\n",
      "Loss (iter: 2900): 187.53288638591766\n",
      "w0: -0.0008382108062505722 +/- 0.015060538426041603\t \t w1: 0.03172817826271057 +/- 0.014605404809117317\n",
      "Loss (iter: 3000): 191.02009534835815\n",
      "w0: 0.022168874740600586 +/- 0.01490745972841978\t \t w1: 0.025059271603822708 +/- 0.014320540241897106\n",
      "Loss (iter: 3100): 194.45757472515106\n",
      "w0: -0.002875138074159622 +/- 0.014704465866088867\t \t w1: 0.0344657227396965 +/- 0.014215630479156971\n",
      "Loss (iter: 3200): 187.94571554660797\n",
      "w0: 0.013805648311972618 +/- 0.014428578317165375\t \t w1: 0.036177054047584534 +/- 0.014045766554772854\n",
      "Loss (iter: 3300): 195.4285397529602\n",
      "w0: 0.015606950037181377 +/- 0.014240081422030926\t \t w1: 0.03738994896411896 +/- 0.013897732831537724\n",
      "Loss (iter: 3400): 188.21292281150818\n",
      "w0: 0.011080972850322723 +/- 0.014030584134161472\t \t w1: 0.019301101565361023 +/- 0.013744303025305271\n",
      "Loss (iter: 3500): 188.69082689285278\n",
      "w0: 0.01764589548110962 +/- 0.013916744850575924\t \t w1: 0.039065662771463394 +/- 0.0136003028601408\n",
      "Loss (iter: 3600): 191.55665063858032\n",
      "w0: 0.004299750551581383 +/- 0.013840177096426487\t \t w1: 0.030415905639529228 +/- 0.013544212095439434\n",
      "Loss (iter: 3700): 188.49102365970612\n",
      "w0: -0.008585074916481972 +/- 0.013776356354355812\t \t w1: 0.037603944540023804 +/- 0.01345575787127018\n",
      "Loss (iter: 3800): 188.1086621284485\n",
      "w0: -0.0035438667982816696 +/- 0.01368289440870285\t \t w1: 0.025857239961624146 +/- 0.013345086947083473\n",
      "Loss (iter: 3900): 188.71142506599426\n",
      "w0: -0.0021082041785120964 +/- 0.013567042537033558\t \t w1: 0.03660723194479942 +/- 0.013176794163882732\n",
      "Loss (iter: 4000): 191.0858793258667\n",
      "w0: 0.010741399601101875 +/- 0.013463465496897697\t \t w1: 0.035888709127902985 +/- 0.013031777925789356\n",
      "Loss (iter: 4100): 191.60703337192535\n",
      "w0: 0.01500720251351595 +/- 0.0133272809907794\t \t w1: 0.044425949454307556 +/- 0.012953301891684532\n",
      "Loss (iter: 4200): 187.63937556743622\n",
      "w0: 0.022873861715197563 +/- 0.013197463005781174\t \t w1: 0.04526583477854729 +/- 0.012903392314910889\n",
      "Loss (iter: 4300): 188.56778025627136\n",
      "w0: 0.005821262486279011 +/- 0.013130875304341316\t \t w1: 0.016514597460627556 +/- 0.012801182456314564\n",
      "Loss (iter: 4400): 190.25918102264404\n",
      "w0: 0.010792035609483719 +/- 0.013049319386482239\t \t w1: 0.028962789103388786 +/- 0.012754425406455994\n",
      "Loss (iter: 4500): 198.2728295326233\n",
      "w0: 0.008612689562141895 +/- 0.012914927676320076\t \t w1: 0.014033738523721695 +/- 0.012654186226427555\n",
      "Loss (iter: 4600): 191.9291706085205\n",
      "w0: 0.005064178258180618 +/- 0.012856930494308472\t \t w1: 0.01812855154275894 +/- 0.012559297494590282\n",
      "Loss (iter: 4700): 191.34014642238617\n",
      "w0: -0.0003679431974887848 +/- 0.012763794511556625\t \t w1: 0.03318879380822182 +/- 0.012438098900020123\n",
      "Loss (iter: 4800): 190.03185558319092\n",
      "w0: 0.008678540587425232 +/- 0.012685880064964294\t \t w1: 0.021213077008724213 +/- 0.012399211525917053\n",
      "Loss (iter: 4900): 188.13240087032318\n",
      "w0: 0.0013177033979445696 +/- 0.01256199274212122\t \t w1: 0.024316176772117615 +/- 0.012388644739985466\n"
     ]
    }
   ],
   "source": [
    "learn(data=data, lr=0.0001) # default lr \n",
    "# learn(data=data, lr=.01) \n"
   ]
  },
  {
   "cell_type": "markdown",
   "metadata": {},
   "source": [
    "### Analyze the results\n",
    "\n",
    "Here we sample weights from the posterior distributions over 'w0' and 'w1'. The distribution of the generated weights (and the corresponding models) illustrates how confident we are in the model, an insight you cannot get when only having point estimates of the model parameters as found with, e.g., maximum likelihood learning. "
   ]
  },
  {
   "cell_type": "code",
   "execution_count": 174,
   "metadata": {},
   "outputs": [
    {
     "data": {
      "image/png": "[encoded data removed]",
      "text/plain": [
       "<Figure size 432x288 with 1 Axes>"
      ]
     },
     "metadata": {
      "needs_background": "light"
     },
     "output_type": "display_data"
    }
   ],
   "source": [
    "for _ in range(100):\n",
    "    w0_mean = pyro.param(\"w0_mean\").detach().item()\n",
    "    w0_scale = pyro.param(\"w0_scale\").detach().item()\n",
    "    w1_mean = pyro.param(\"w1_mean\").detach().item()\n",
    "    w1_scale = pyro.param(\"w1_scale\").detach().item()\n",
    "    w0_sample = pyro.sample(\"w0_sample\", dist.Normal(w0_mean, w0_scale)).numpy()\n",
    "    w1_sample = pyro.sample(\"w1_sample\", dist.Normal(w1_mean, w1_scale)).numpy()\n",
    "    data_plotter(data, approx_w0=w0_sample, approx_w1=w1_sample, legend=False)\n",
    "data_plotter(data, legend=False)\n",
    "plt.show()"
   ]
  },
  {
   "cell_type": "markdown",
   "metadata": {},
   "source": [
    "## Exercises:\n",
    "        * Generate data sets of varying sizes and characteristics (by changing the parameters in the 'generate_data' function) and investigate and compare the resulting models.\n"
   ]
  },
  {
   "cell_type": "markdown",
   "metadata": {},
   "source": [
    "__default__:\n",
    "- True model: y = 1 + 0.5 * x, samples = 50 (DEFAULT)\n",
    "- Sensor precision: 1/sqrt(4) (DEFAULT)\n",
    "- Learned model: w0 = N(1.1,0.18) | w1 = N(0.46, 0.065)\n",
    "\n",
    "__sample=10__:\n",
    "- True model: y = 1 + 0.5 * x, samples = 10 (will try lowering the number of samples expect more variance)\n",
    "- Sensor precision: 1/sqrt(4) (DEFAULT)\n",
    "- Learned model: w0 = N(0.64,0.38) | w1 = N(0.7, 0.13)\n",
    "- Conclusion: more variance + more away from true model\n",
    "\n",
    "__Sensor precision=1/sqrt(1)__:\n",
    "- True model: y = 1 + 0.5 * x, samples = 50 (DEFAULT)\n",
    "- Sensor precision: 1/sqrt(1) (decreasing sensor precision, expect more variance)\n",
    "- Learned model: w0 = N(1.25,.18) | w1 = N(0.44, 0.064)\n",
    "- Conclusion: more variance + more away from true model + in the plot, majority of dots were ouside the approx drawn lines\n",
    "\n",
    "__Sensor precision=1/sqrt(8)__:\n",
    "- True model: y = 1 + 0.5 * x, samples = 50 (DEFAULT)\n",
    "- Sensor precision: 1/sqrt(8) (doubling sensor precision, expect less variance)\n",
    "- Learned model: w0 = N(1.09,0.17) | w1 = N(0.49, 0.063)\n",
    "- Conclusion: more or less similar to default, so doubling sensor quality does not give double performance\n",
    "\n",
    "__Samples = 1000__:\n",
    "- True model: y = 1 + 0.5 * x, samples = 1000 (increase samples a lot, expect less variance)\n",
    "- Sensor precision: 1/sqrt(4) (DEFAULT)\n",
    "- Learned model: w0 = N(1.02,0.04) | w1 = N(0.494, 0.014)\n",
    "- Conclusion: best model yet (samples = 1000)\n"
   ]
  },
  {
   "cell_type": "markdown",
   "metadata": {},
   "source": [
    "        * Analyze how learning is affected by changing the learning rate and the initial values of the parameters specified in the guide function."
   ]
  },
  {
   "cell_type": "markdown",
   "metadata": {},
   "source": [
    "Using default data setup: \n",
    "- True model: y = 1 + 0.5 * x, samples = 50 (DEFAULT)\n",
    "- Sensor precision: 1/sqrt(4) (DEFAULT)\n",
    "- lr = 0.0001 (DEFAULT)\n",
    "- w0_mu = 0, w0_sigma = 1 (DEFAULT)\n",
    "- w1_mu = 0, w1_sigma = 1 (DEFAULT)\n",
    "- learned model: w0 = N(1.1,0.18) | w1 = N(0.46, 0.065)\n",
    "\n",
    "__lr = 0.001__:\n",
    "- lr = 0.001 (increasing lr)\n",
    "- w0_mu = 0, w0_sigma = 1 (DEFAULT)\n",
    "- w1_mu = 0, w1_sigma = 1 (DEFAULT)\n",
    "- learned model: w0 = N(1.15,0.14) | w1 = N(0.47, 0.049)\n",
    "- Conclusion: similar to default, \n",
    "\n",
    "__lr = 0.01__:\n",
    "- lr = 0.01 (increasing lr)\n",
    "- w0_mu = 0, w0_sigma = 1 (DEFAULT)\n",
    "- w1_mu = 0, w1_sigma = 1 (DEFAULT)\n",
    "- Crashes in leaning here: \" Expected parameter scale (Tensor of shape ()) of distribution Normal(loc: 13.8917818069458, scale: 0.0) to satisfy the constraint GreaterThan(lower_bound=0.0), but found invalid values:\n",
    "0.0\"\n",
    "\n",
    "__moving priors far away from true model__:\n",
    "- w0_mu = -10, w0_sigma = 1 \n",
    "- w1_mu = 10, w1_sigma = 1 \n",
    "- lr = 0.0001 (DEFAULT)\n",
    "- learned model: w0 = N(0.89, 0.18) | w1 = N(0.55, 0.065)\n",
    "- Conclusion: a bit off from true model, but still pretty close\n",
    "\n",
    "__increasing confidence in wrong guide params__:\n",
    "- w0_mu = -10, w0_sigma = 0.001 \n",
    "- w1_mu = 10, w1_sigma = 0.001 \n",
    "- lr = 0.0001 (DEFAULT)\n",
    "- learned model: w0 = N(.89, 0.001) | w1 = N(.55, 0.001)\n",
    "- conclusion: a bit off from true model, but still pretty close, low variance"
   ]
  },
  {
   "cell_type": "markdown",
   "metadata": {},
   "source": [
    "        * Experiment with different types of prior knowledge in the model specification (e.g. change the mean and scale of the distributions over the weights). For instance, we may (mostly likely erroneously considering the data) have a prior expectation that 'w0' is around 5.0, and we can encode the strength of this belief through the scale of the corresponding distribution. "
   ]
  },
  {
   "cell_type": "markdown",
   "metadata": {},
   "source": [
    "Using default data setup: \n",
    "- True model: y = 1 + 0.5 * x, samples = 50 (DEFAULT)\n",
    "- Sensor precision: 1/sqrt(4) (DEFAULT)\n",
    "- lr = 0.0001 (DEFAULT)\n",
    "- w0_mu = 0, w0_sigma = 1 (DEFAULT)\n",
    "- w1_mu = 0, w1_sigma = 1 (DEFAULT)\n",
    "- prior model: \n",
    "    - w0 = pyro.sample(\"w0\", dist.Normal(0.0, 1000.0))\n",
    "    - w1 = pyro.sample(\"w1\", dist.Normal(0.0, 1000.0))\n",
    "\n",
    "__moving locs far away from true model__:\n",
    "- w0 = pyro.sample(\"w0\", dist.Normal(-100.0, 1000.0))\n",
    "- w1 = pyro.sample(\"w1\", dist.Normal(100.0, 1000.0))\n",
    "- learned model: w0 = N(1.14, 0.18) | w1 = N(0.55, 0.065) \n",
    "- conclusion: little impact from default\n",
    "\n",
    "__increasing confidence in prior__:\n",
    "- w0 = pyro.sample(\"w0\", dist.Normal(0.0, 0.01))\n",
    "- w1 = pyro.sample(\"w1\", dist.Normal(0.0, 0.01))\n",
    "- learned model: w0 = N(-0.0007222937420010567,0.012490347027778625), w1 = N(0.052780792117118835,0.012352855876088142)\n",
    "- conclusion: increadibly wrong, increasing confidence in wrong prior is most detrimental"
   ]
  },
  {
   "cell_type": "code",
   "execution_count": null,
   "metadata": {},
   "outputs": [],
   "source": []
  }
 ],
 "metadata": {
  "kernelspec": {
   "display_name": "ml",
   "language": "python",
   "name": "ml"
  },
  "language_info": {
   "codemirror_mode": {
    "name": "ipython",
    "version": 3
   },
   "file_extension": ".py",
   "mimetype": "text/x-python",
   "name": "python",
   "nbconvert_exporter": "python",
   "pygments_lexer": "ipython3",
   "version": "3.10.2"
  }
 },
 "nbformat": 4,
 "nbformat_minor": 2
}
