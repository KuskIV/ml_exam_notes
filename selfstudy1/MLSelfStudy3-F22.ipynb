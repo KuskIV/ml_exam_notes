{
 "cells": [
  {
   "cell_type": "markdown",
   "metadata": {},
   "source": [
    "#  Self Study 3"
   ]
  },
  {
   "cell_type": "markdown",
   "metadata": {},
   "source": [
    "In this self study we perform character recognition using SVM classifiers. We use the MNIST dataset, which consists of 70000 handwritten digits 0..9 at a resolution of 28x28 pixels. \n",
    "\n",
    "Stuff we need:"
   ]
  },
  {
   "cell_type": "code",
   "execution_count": 1,
   "metadata": {},
   "outputs": [],
   "source": [
    "import matplotlib.pyplot as plt\n",
    "import numpy as np\n",
    "import time\n",
    "from sklearn.neural_network import MLPClassifier\n",
    "from sklearn.svm import SVC\n",
    "from sklearn.model_selection import train_test_split\n",
    "from sklearn.metrics import confusion_matrix,accuracy_score\n",
    "#from sklearn.datasets import fetch"
   ]
  },
  {
   "cell_type": "markdown",
   "metadata": {},
   "source": [
    "Now we get the MNIST data. Using the fetch_mldata function, this will be downloaded from the web, and stored in the directory you specify as data_home (replace my path in the following cell):"
   ]
  },
  {
   "cell_type": "code",
   "execution_count": 2,
   "metadata": {},
   "outputs": [],
   "source": [
    "from sklearn.datasets import fetch_openml\n",
    "mnist = fetch_openml(name='mnist_784', data_home='./data')"
   ]
  },
  {
   "cell_type": "markdown",
   "metadata": {},
   "source": [
    "The data has .data and .target attributes. The following gives us some basic information on the data:"
   ]
  },
  {
   "cell_type": "code",
   "execution_count": 3,
   "metadata": {},
   "outputs": [
    {
     "name": "stdout",
     "output_type": "stream",
     "text": [
      "Number of datapoints: 70000\n",
      "\n",
      "Number of features: 784\n",
      "\n",
      "List of labels: ['0' '1' '2' '3' '4' '5' '6' '7' '8' '9']\n",
      "\n"
     ]
    }
   ],
   "source": [
    "print(\"Number of datapoints: {}\\n\".format(mnist.data.shape[0]))\n",
    "print(\"Number of features: {}\\n\".format(mnist.data.shape[1]))\n",
    "print(\"List of labels: {}\\n\".format(np.unique(mnist.target)))"
   ]
  },
  {
   "cell_type": "markdown",
   "metadata": {},
   "source": [
    "The mnist.data is represented as a Pandas dataframe (probably -- you may check this via type(mnist.data)). The following code expects mnist.data to be a plain np.array, which we get simply by running:"
   ]
  },
  {
   "cell_type": "code",
   "execution_count": 4,
   "metadata": {},
   "outputs": [
    {
     "data": {
      "text/plain": [
       "numpy.ndarray"
      ]
     },
     "execution_count": 4,
     "metadata": {},
     "output_type": "execute_result"
    }
   ],
   "source": [
    "mnist.data=np.array(mnist.data)\n",
    "type(mnist.data)"
   ]
  },
  {
   "cell_type": "markdown",
   "metadata": {},
   "source": [
    "We can plot individual datapoints as follows:"
   ]
  },
  {
   "cell_type": "code",
   "execution_count": 5,
   "metadata": {},
   "outputs": [
    {
     "name": "stdout",
     "output_type": "stream",
     "text": [
      "As image:\n",
      "\n"
     ]
    },
    {
     "data": {
      "image/png": "[encoded data removed]",
      "text/plain": [
       "<Figure size 432x288 with 1 Axes>"
      ]
     },
     "metadata": {
      "needs_background": "light"
     },
     "output_type": "display_data"
    }
   ],
   "source": [
    "index = 4\n",
    "#print(\"Value of datapoint no. {}:\\n{}\\n\".format(index,mnist.data[index]))\n",
    "print(\"As image:\\n\")\n",
    "plt.imshow(mnist.data[index].reshape(28,28),cmap=plt.cm.gray_r)\n",
    "plt.show()"
   ]
  },
  {
   "cell_type": "markdown",
   "metadata": {},
   "source": [
    "To make things a little bit simpler (and faster!), we can extract from the data binary subsets, that only contain the data for two selected digits:"
   ]
  },
  {
   "cell_type": "code",
   "execution_count": 6,
   "metadata": {},
   "outputs": [
    {
     "name": "stdout",
     "output_type": "stream",
     "text": [
      "The first datapoint now is: \n",
      "\n"
     ]
    },
    {
     "data": {
      "image/png": "[encoded data removed]",
      "text/plain": [
       "<Figure size 432x288 with 1 Axes>"
      ]
     },
     "metadata": {
      "needs_background": "light"
     },
     "output_type": "display_data"
    },
    {
     "name": "stdout",
     "output_type": "stream",
     "text": [
      "7        3\n",
      "10       3\n",
      "12       3\n",
      "15       7\n",
      "27       3\n",
      "        ..\n",
      "69975    3\n",
      "69979    7\n",
      "69986    3\n",
      "69990    7\n",
      "69996    3\n",
      "Name: class, Length: 14434, dtype: category\n",
      "Categories (10, object): ['0', '1', '2', '3', ..., '6', '7', '8', '9']\n"
     ]
    }
   ],
   "source": [
    "digit0='3'\n",
    "digit1='7'\n",
    "mnist_bin_data=mnist.data[np.logical_or(mnist.target==digit0,mnist.target==digit1)]\n",
    "mnist_bin_target=mnist.target[np.logical_or(mnist.target==digit0,mnist.target==digit1)]\n",
    "print(\"The first datapoint now is: \\n\")\n",
    "plt.imshow(mnist_bin_data[0].reshape(28,28),cmap=plt.cm.gray_r)\n",
    "plt.show()\n",
    "print(mnist_bin_target)"
   ]
  },
  {
   "cell_type": "markdown",
   "metadata": {},
   "source": [
    "**Exercise 1 [SVM]:** Split the mnist_bin data into training and test set. Learn different SVM models by varying the kernel functions (SVM). For each configuration, determine the time it takes to learn the model, and the accuracy on the test data. \n",
    "\n",
    "You can get the current time using:\n",
    "\n",
    "`import time` <br>\n",
    "`now = time.time()`\n",
    "\n",
    "*Caution*: for some configurations, learning here can take a little while (several minutes).\n",
    "\n",
    "Using the numpy where() function, one can extract the indices of the test cases that were misclassified: <br>\n",
    "`misclass = np.where(test != predictions)` <br>\n",
    "Inspect some misclassified cases. Do they correspond to hard to recognize digits (also for the human reader)? \n",
    "\n",
    "How do results (time and accuracy) change, depending on whether you consider an 'easy' binary task (e.g., distinguishing '1' and '0'), or a more difficult one (e.g., '4' vs. '5'). \n",
    "\n",
    "Identify one or several good configurations that give a reasonable combination of accuracy and runtime. Use these configurations to perform a full classification of the 10 classes in the original dataset (after split into train/test). Using `sklearn.metrics.confusion_matrix` you can get an overview of all combinations of true and predicted labels. What does this tell you about which digits are easy, and which ones are difficult to recognize, and which ones are most easily confused?"
   ]
  },
  {
   "cell_type": "code",
   "execution_count": 7,
   "metadata": {},
   "outputs": [
    {
     "data": {
      "text/plain": [
       "((10103, 784), (4331, 784), (10103,), (4331,))"
      ]
     },
     "execution_count": 7,
     "metadata": {},
     "output_type": "execute_result"
    }
   ],
   "source": [
    "# Training and testing on binary classification task first\n",
    "X_train, X_test, y_train, y_test = train_test_split(mnist_bin_data, mnist_bin_target, \n",
    "                                                    test_size=.30, random_state=0)\n",
    "X_train.shape, X_test.shape, y_train.shape, y_test.shape                                                    "
   ]
  },
  {
   "cell_type": "code",
   "execution_count": 8,
   "metadata": {},
   "outputs": [
    {
     "name": "stdout",
     "output_type": "stream",
     "text": [
      "Linear Kernel\n",
      "Duration elapsed 2.61 seconds\n",
      "Accuracy on training set: 1.00\n",
      "Accuracy on test set: 0.98\n"
     ]
    }
   ],
   "source": [
    "# Linear Kernel / binary 3 and 7\n",
    "model = SVC(kernel='linear')\n",
    "now = time.time()\n",
    "model.fit(X_train, y_train)\n",
    "end = time.time()\n",
    "print(f'Linear Kernel')\n",
    "print(f'Duration elapsed {(end - now):.2f} seconds')\n",
    "print(f'Accuracy on training set: {model.score(X_train, y_train):.2f}')\n",
    "print(f'Accuracy on test set: {model.score(X_test, y_test):.2f}')"
   ]
  },
  {
   "cell_type": "code",
   "execution_count": 11,
   "metadata": {},
   "outputs": [
    {
     "name": "stdout",
     "output_type": "stream",
     "text": [
      "Polynomial Kernel\n",
      "Duration elapsed 2.94 seconds\n",
      "Accuracy on training set: 1.00\n",
      "Accuracy on test set: 0.99\n"
     ]
    }
   ],
   "source": [
    "# Poly Kernel / binary 3 and 7\n",
    "model = SVC(kernel='poly')\n",
    "now = time.time()\n",
    "model.fit(X_train, y_train)\n",
    "end = time.time()\n",
    "print('Polynomial Kernel')\n",
    "print(f'Duration elapsed {(end - now):.2f} seconds')\n",
    "print(f'Accuracy on training set: {model.score(X_train, y_train):.2f}')\n",
    "print(f'Accuracy on test set: {model.score(X_test, y_test):.2f}')"
   ]
  },
  {
   "cell_type": "code",
   "execution_count": 12,
   "metadata": {},
   "outputs": [
    {
     "name": "stdout",
     "output_type": "stream",
     "text": [
      "Gaussian Kernel\n",
      "Duration elapsed 2.62 seconds\n",
      "Accuracy on training set: 1.00\n",
      "Accuracy on test set: 0.99\n"
     ]
    }
   ],
   "source": [
    "# Gaussian Kernel / binary 3 and 7\n",
    "model = SVC(kernel='rbf')\n",
    "now = time.time()\n",
    "model.fit(X_train, y_train)\n",
    "end = time.time()\n",
    "print('Gaussian Kernel')\n",
    "print(f'Duration elapsed {(end - now):.2f} seconds')\n",
    "print(f'Accuracy on training set: {model.score(X_train, y_train):.2f}')\n",
    "print(f'Accuracy on test set: {model.score(X_test, y_test):.2f}')"
   ]
  },
  {
   "cell_type": "code",
   "execution_count": 13,
   "metadata": {},
   "outputs": [
    {
     "name": "stdout",
     "output_type": "stream",
     "text": [
      "Tanh/Sigmoid Kernel\n",
      "Duration elapsed 4.52 seconds\n",
      "Accuracy on training set: 0.95\n",
      "Accuracy on test set: 0.96\n"
     ]
    }
   ],
   "source": [
    "# Tanh/Sigmoid Kernel / binary 3 and 7\n",
    "model = SVC(kernel='sigmoid')\n",
    "now = time.time()\n",
    "model.fit(X_train, y_train)\n",
    "end = time.time()\n",
    "print('Tanh/Sigmoid Kernel')\n",
    "print(f'Duration elapsed {(end - now):.2f} seconds')\n",
    "print(f'Accuracy on training set: {model.score(X_train, y_train):.2f}')\n",
    "print(f'Accuracy on test set: {model.score(X_test, y_test):.2f}')"
   ]
  },
  {
   "cell_type": "code",
   "execution_count": 14,
   "metadata": {},
   "outputs": [
    {
     "data": {
      "image/png": "[encoded data removed]",
      "text/plain": [
       "<Figure size 576x576 with 16 Axes>"
      ]
     },
     "metadata": {
      "needs_background": "light"
     },
     "output_type": "display_data"
    }
   ],
   "source": [
    "misclass = np.where(y_test != model.predict(X_test))[0]\n",
    "misclass.shape\n",
    "# plot misclassified in 4 by 4 grid with 16 images with class labels\n",
    "fig, ax = plt.subplots(4, 4, figsize=(8, 8))\n",
    "for i, idx in enumerate(misclass[:16]):\n",
    "    ax[i // 4, i % 4].imshow(X_test[idx].reshape(28, 28), cmap=plt.cm.gray_r)\n",
    "    ax[i // 4, i % 4].set_title(f'Predicted: {model.predict(X_test[idx].reshape(1, -1))[0]}\\nActual: {y_test.iloc[idx]}')\n",
    "    ax[i // 4, i % 4].axis('off')"
   ]
  },
  {
   "cell_type": "markdown",
   "metadata": {},
   "source": [
    "### Evaluating binary classification for 3 and 7\n",
    "- all take around same time\n",
    "- all get similarly good accuracy"
   ]
  },
  {
   "cell_type": "code",
   "execution_count": 15,
   "metadata": {},
   "outputs": [],
   "source": [
    "# Testing on all classes\n",
    "X_train, X_test, y_train, y_test = train_test_split(mnist.data, mnist.target)"
   ]
  },
  {
   "cell_type": "code",
   "execution_count": 16,
   "metadata": {},
   "outputs": [
    {
     "name": "stdout",
     "output_type": "stream",
     "text": [
      "Gaussian Kernel\n",
      "Duration elapsed 143.42 seconds\n",
      "Accuracy on training set: 0.99\n",
      "Accuracy on test set: 0.98\n"
     ]
    }
   ],
   "source": [
    "model = SVC(kernel='rbf')\n",
    "now = time.time()\n",
    "model.fit(X_train, y_train)\n",
    "end = time.time()\n",
    "print('Gaussian Kernel')\n",
    "print(f'Duration elapsed {(end - now):.2f} seconds')\n",
    "print(f'Accuracy on training set: {model.score(X_train, y_train):.2f}')\n",
    "print(f'Accuracy on test set: {model.score(X_test, y_test):.2f}')"
   ]
  },
  {
   "cell_type": "code",
   "execution_count": 17,
   "metadata": {},
   "outputs": [
    {
     "name": "stdout",
     "output_type": "stream",
     "text": [
      "Gaussian Confusion Matrix: \n",
      "\n",
      "Confusion matrix: \n",
      "[[1730    1    3    0    0    1    4    0    2    1]\n",
      " [   0 1929    9    2    2    1    1    5    3    1]\n",
      " [   4    6 1758    5    4    0    2    7   10    1]\n",
      " [   2    3   18 1714    1   10    0    8    9    2]\n",
      " [   4    3    6    0 1613    0    6    2    1   14]\n",
      " [   1    2    4   11    4 1533   12    0    3    4]\n",
      " [   7    4    2    0    3    3 1757    0    4    0]\n",
      " [   1    7   10    3    7    0    0 1741    1   14]\n",
      " [   0    5    2    9    3   12    6    4 1678    2]\n",
      " [   3    3    1   11   15    5    1   14   11 1669]]\n"
     ]
    }
   ],
   "source": [
    "print(\"Gaussian Confusion Matrix: \\n\")\n",
    "print(f'Confusion matrix: \\n{confusion_matrix(y_test, model.predict(X_test))}')"
   ]
  },
  {
   "cell_type": "markdown",
   "metadata": {},
   "source": [
    "### Evaluating for full data set with all classes\n",
    "- It takes more time to train with all class, but it takes significantly longer for inference afterwards\n",
    "- similarly not to much performance divergence"
   ]
  },
  {
   "cell_type": "markdown",
   "metadata": {},
   "source": [
    "**Exercise 2 [SVM]:** Consider how the current data representation \"presents\" the digits to the classifiers, and try to improve this:<br>\n",
    "\n",
    "**a)** Manually design feature functions for which you expect that based on your new features SVM classifiers can achieve a better accuracy than with the original features. Transform the data into your new feature space, and learn new classifiers. What accuracies do you get?\n",
    "\n",
    "**b)** Instead of designing an explicit feature mapping as in **a)**, define a suitable measure of similarity for the digits, and implement that measure as a kernel function. (Optional: verify that the function you have defined actually satisfies the positive-semidefiniteness property.) Use your kernel function as a custom kernel for the SVC classifier.  See http://scikit-learn.org/stable/auto_examples/svm/plot_custom_kernel.html#sphx-glr-auto-examples-svm-plot-custom-kernel-py for an example."
   ]
  },
  {
   "cell_type": "markdown",
   "metadata": {},
   "source": [
    "### Part a)"
   ]
  },
  {
   "cell_type": "code",
   "execution_count": 18,
   "metadata": {},
   "outputs": [],
   "source": [
    "# Will manually make some convolution kernels\n",
    "k1 = np.ones((3,3))\n",
    "k2 = np.eye(3)\n",
    "k3 = np.array([[0,0,1],\n",
    "               [0,1,0],\n",
    "               [1,0,0]])\n",
    "k4 = np.array([[0,1,0],\n",
    "               [0,1,0],\n",
    "               [0,1,0]])\n",
    "k5 = np.array([[0,0,0],\n",
    "               [1,1,1],\n",
    "               [0,0,0]])\n",
    "k6 = np.random.rand(3,3)\n",
    "k7 = np.random.rand(3,3)"
   ]
  },
  {
   "cell_type": "code",
   "execution_count": 19,
   "metadata": {},
   "outputs": [],
   "source": [
    "def convolve(image, kernel):\n",
    "    # image is a 2D numpy array\n",
    "    # kernel is a 2D numpy array\n",
    "    # output is a 2D numpy array\n",
    "    # output is the same size as image\n",
    "    output = np.zeros(image.shape) \n",
    "    for i in range(image.shape[0]-kernel.shape[0]+1):\n",
    "        for j in range(image.shape[1]-  kernel.shape[1]+1):\n",
    "            output[i,j] = np.sum(image[i:i+kernel.shape[0], j:j+kernel.shape[1]] * kernel)\n",
    "    return output\n",
    "\n",
    "def max_pool(image, k_shape, stride):\n",
    "    # image is a 2D numpy array\n",
    "    # kernel is a 2D numpy array\n",
    "    # output is a 2D numpy array\n",
    "    # output is image[0] // stride x image[1] // stride\n",
    "    kernel = np.ones(k_shape)\n",
    "    output = np.zeros((image.shape[0]//stride, image.shape[1]//stride))\n",
    "    for i in range(0, image.shape[0]//stride, stride):\n",
    "        for j in range(0, image.shape[1]//stride, stride):\n",
    "            output[i,j] = np.max(image[i*stride:i*stride+kernel.shape[0], j*stride:j*stride+kernel.shape[1]])\n",
    "    return output"
   ]
  },
  {
   "cell_type": "code",
   "execution_count": 20,
   "metadata": {},
   "outputs": [],
   "source": [
    "def feature_map(image, kernels):\n",
    "    output = []\n",
    "    for kernel in kernels:\n",
    "        x = convolve(image, kernel)\n",
    "        x = max_pool(x, (2,2), 2)\n",
    "        x = convolve(x, kernel)\n",
    "        x = max_pool(x, (2,2), 2)\n",
    "        output.append(x)\n",
    "    for i, map in enumerate(output):\n",
    "        output[i] = map.flatten()\n",
    "    \n",
    "    return np.concatenate(output, axis=0)"
   ]
  },
  {
   "cell_type": "code",
   "execution_count": 21,
   "metadata": {},
   "outputs": [
    {
     "name": "stderr",
     "output_type": "stream",
     "text": [
      "Training: 100%|██████████| 10103/10103 [06:15<00:00, 26.89mapped images/s]\n",
      "Test: 100%|██████████| 4331/4331 [02:46<00:00, 26.03mapped images/s]\n"
     ]
    }
   ],
   "source": [
    "import tqdm as tqdm\n",
    "kernels = [k1, k2, k3, k4, k5, k6, k7]\n",
    "# Testing on binary 3 and 7\n",
    "X_train, X_test, y_train, y_test = train_test_split(mnist_bin_data, mnist_bin_target, test_size=.30, random_state=0)\n",
    "# transform into manual feature map\n",
    "X_train_map, X_test_map = [], []\n",
    "for i in tqdm.tqdm(range(X_train.shape[0]), desc='Training', unit='mapped images'):\n",
    "    X_train_map.append(feature_map(X_train[i].reshape(28,28), kernels))\n",
    "for i in tqdm.tqdm(range(X_test.shape[0]), desc='Test', unit='mapped images'):\n",
    "    X_test_map.append(feature_map(X_test[i].reshape(28,28), kernels))"
   ]
  },
  {
   "cell_type": "code",
   "execution_count": 22,
   "metadata": {},
   "outputs": [
    {
     "name": "stdout",
     "output_type": "stream",
     "text": [
      "Gaussian Kernel\n",
      "Duration elapsed 2.07 seconds\n",
      "Accuracy on training set: 0.98\n",
      "Accuracy on test set: 0.98\n",
      "Confusion matrix: \n",
      "[[2090   56]\n",
      " [  17 2168]]\n"
     ]
    }
   ],
   "source": [
    "model = SVC(kernel='rbf')\n",
    "now = time.time()\n",
    "model.fit(X_train_map, y_train)\n",
    "end = time.time()\n",
    "print('Gaussian Kernel')\n",
    "print(f'Duration elapsed {(end - now):.2f} seconds')\n",
    "print(f'Accuracy on training set: {model.score(X_train_map, y_train):.2f}')\n",
    "print(f'Accuracy on test set: {model.score(X_test_map, y_test):.2f}')\n",
    "print(f'Confusion matrix: \\n{confusion_matrix(y_test, model.predict(X_test_map))}')"
   ]
  },
  {
   "cell_type": "code",
   "execution_count": 23,
   "metadata": {},
   "outputs": [
    {
     "data": {
      "text/plain": [
       "((10103, 1), (4331, 1))"
      ]
     },
     "execution_count": 23,
     "metadata": {},
     "output_type": "execute_result"
    }
   ],
   "source": [
    "# Testing binary 3 and 7 - simple sum feature map\n",
    "X_train, X_test, y_train, y_test = train_test_split(mnist_bin_data, mnist_bin_target, test_size=.30, random_state=0)\n",
    "X_train_sum, X_test_sum = np.sum(X_train, axis=1).reshape(-1, 1), np.sum(X_test, axis=1).reshape(-1, 1)\n",
    "X_train_sum.shape, X_test_sum.shape"
   ]
  },
  {
   "cell_type": "code",
   "execution_count": 24,
   "metadata": {},
   "outputs": [
    {
     "name": "stdout",
     "output_type": "stream",
     "text": [
      "Gaussian Kernel\n",
      "Duration elapsed 3.81 seconds\n",
      "Accuracy on training set: 0.66\n",
      "Accuracy on test set: 0.66\n",
      "Confusion matrix: \n",
      "[[1249  897]\n",
      " [ 575 1610]]\n"
     ]
    }
   ],
   "source": [
    "model = SVC(kernel='rbf')\n",
    "now = time.time()\n",
    "model.fit(X_train_sum, y_train)\n",
    "end = time.time()\n",
    "print('Gaussian Kernel')\n",
    "print(f'Duration elapsed {(end - now):.2f} seconds')\n",
    "print(f'Accuracy on training set: {model.score(X_train_sum, y_train):.2f}')\n",
    "print(f'Accuracy on test set: {model.score(X_test_sum, y_test):.2f}')\n",
    "print(f'Confusion matrix: \\n{confusion_matrix(y_test, model.predict(X_test_sum))}')"
   ]
  },
  {
   "cell_type": "markdown",
   "metadata": {},
   "source": [
    "### Part b)"
   ]
  },
  {
   "cell_type": "code",
   "execution_count": 26,
   "metadata": {},
   "outputs": [
    {
     "name": "stdout",
     "output_type": "stream",
     "text": [
      "(10103, 784) (10103, 784)\n",
      "(10103, 10103)\n",
      "Time taken to train: 2.6208877563476562\n",
      "(10103, 784) (10103, 784)\n",
      "(10103, 10103)\n",
      "Train accuracy: 1.0\n",
      "(4331, 784) (10103, 784)\n",
      "(4331, 10103)\n",
      "Test accuracy: 0.979450473331794\n"
     ]
    }
   ],
   "source": [
    "#create costum SVC kernel test for binary 3 and 7\n",
    "def custom_kernel(X, Y):\n",
    "    print(X.shape, Y.shape)\n",
    "    print(np.dot(X, Y.T).shape)\n",
    "    return np.dot(X, Y.T)\n",
    "\n",
    "def overlap_kernel(X, Y):\n",
    "    (X == Y).sum(axis=1) \n",
    "    return np.dot(X, Y.T)\n",
    "\n",
    "model = SVC(kernel=custom_kernel)\n",
    "now = time.time()\n",
    "model.fit(X_train, y_train)\n",
    "end = time.time()\n",
    "\n",
    "print(\"Time taken to train: {}\".format(end-now))\n",
    "print(\"Train accuracy: {}\".format(model.score(X_train, y_train)))\n",
    "print(\"Test accuracy: {}\".format(model.score(X_test, y_test)))"
   ]
  },
  {
   "cell_type": "code",
   "execution_count": null,
   "metadata": {},
   "outputs": [],
   "source": []
  }
 ],
 "metadata": {
  "kernelspec": {
   "display_name": "Python 3 (ipykernel)",
   "language": "python",
   "name": "python3"
  },
  "language_info": {
   "codemirror_mode": {
    "name": "ipython",
    "version": 3
   },
   "file_extension": ".py",
   "mimetype": "text/x-python",
   "name": "python",
   "nbconvert_exporter": "python",
   "pygments_lexer": "ipython3",
   "version": "3.10.2"
  }
 },
 "nbformat": 4,
 "nbformat_minor": 2
}
