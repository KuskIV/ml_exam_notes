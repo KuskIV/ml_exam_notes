{
 "cells": [
  {
   "cell_type": "markdown",
   "metadata": {},
   "source": [
    "# Self Study 1"
   ]
  },
  {
   "cell_type": "markdown",
   "metadata": {},
   "source": [
    "This self study sheet contains some code, and some questions. You should first walk through the code, and then work on the questions. The questions can be answered by extending this notebook with some additional code and text (\"markdown\") cells. A brief guide to formatting in markdown cells is here:<br>\n",
    "https://medium.com/ibm-data-science-experience/markdown-for-jupyter-notebooks-cheatsheet-386c05aeebed<br>\n"
   ]
  },
  {
   "cell_type": "markdown",
   "metadata": {},
   "source": [
    "The following just gives us some tools we'll need"
   ]
  },
  {
   "cell_type": "code",
   "execution_count": 1,
   "metadata": {},
   "outputs": [],
   "source": [
    "import numpy as np\n",
    "import matplotlib as mpl\n",
    "import matplotlib.pyplot as plt\n",
    "from sklearn.datasets import load_iris\n",
    "from sklearn.neighbors import KNeighborsClassifier\n",
    "from sklearn.linear_model import LinearRegression,LogisticRegression\n",
    "from sklearn.svm import SVC"
   ]
  },
  {
   "cell_type": "code",
   "execution_count": 2,
   "metadata": {},
   "outputs": [],
   "source": [
    "# A small utility we shall need later:\n",
    "def maxpos(A):\n",
    "    '''\n",
    "    Takes an n x k array A, and returns 1-dim n array where the i'th\n",
    "    entry is the index of column in A where the i'th row of A has its\n",
    "    maximal value (application: turns a probabilitiy distribution over\n",
    "    k classes for n instances into a single prediction)\n",
    "    '''\n",
    "    return np.argmax(A,axis=1)\n",
    "    "
   ]
  },
  {
   "cell_type": "markdown",
   "metadata": {},
   "source": [
    "We load the Iris dataset and inspect what it is about. Iris is probably the most heavily used dataset in machine learning. It even has its own Wikipedia page: https://en.wikipedia.org/wiki/Iris_flower_data_set"
   ]
  },
  {
   "cell_type": "code",
   "execution_count": 3,
   "metadata": {
    "collapsed": true,
    "jupyter": {
     "outputs_hidden": true
    },
    "tags": []
   },
   "outputs": [
    {
     "name": "stdout",
     "output_type": "stream",
     "text": [
      ".. _iris_dataset:\n",
      "\n",
      "Iris plants dataset\n",
      "--------------------\n",
      "\n",
      "**Data Set Characteristics:**\n",
      "\n",
      "    :Number of Instances: 150 (50 in each of three classes)\n",
      "    :Number of Attributes: 4 numeric, predictive attributes and the class\n",
      "    :Attribute Information:\n",
      "        - sepal length in cm\n",
      "        - sepal width in cm\n",
      "        - petal length in cm\n",
      "        - petal width in cm\n",
      "        - class:\n",
      "                - Iris-Setosa\n",
      "                - Iris-Versicolour\n",
      "                - Iris-Virginica\n",
      "                \n",
      "    :Summary Statistics:\n",
      "\n",
      "    ============== ==== ==== ======= ===== ====================\n",
      "                    Min  Max   Mean    SD   Class Correlation\n",
      "    ============== ==== ==== ======= ===== ====================\n",
      "    sepal length:   4.3  7.9   5.84   0.83    0.7826\n",
      "    sepal width:    2.0  4.4   3.05   0.43   -0.4194\n",
      "    petal length:   1.0  6.9   3.76   1.76    0.9490  (high!)\n",
      "    petal width:    0.1  2.5   1.20   0.76    0.9565  (high!)\n",
      "    ============== ==== ==== ======= ===== ====================\n",
      "\n",
      "    :Missing Attribute Values: None\n",
      "    :Class Distribution: 33.3% for each of 3 classes.\n",
      "    :Creator: R.A. Fisher\n",
      "    :Donor: Michael Marshall (MARSHALL%PLU@io.arc.nasa.gov)\n",
      "    :Date: July, 1988\n",
      "\n",
      "The famous Iris database, first used by Sir R.A. Fisher. The dataset is taken\n",
      "from Fisher's paper. Note that it's the same as in R, but not as in the UCI\n",
      "Machine Learning Repository, which has two wrong data points.\n",
      "\n",
      "This is perhaps the best known database to be found in the\n",
      "pattern recognition literature.  Fisher's paper is a classic in the field and\n",
      "is referenced frequently to this day.  (See Duda & Hart, for example.)  The\n",
      "data set contains 3 classes of 50 instances each, where each class refers to a\n",
      "type of iris plant.  One class is linearly separable from the other 2; the\n",
      "latter are NOT linearly separable from each other.\n",
      "\n",
      ".. topic:: References\n",
      "\n",
      "   - Fisher, R.A. \"The use of multiple measurements in taxonomic problems\"\n",
      "     Annual Eugenics, 7, Part II, 179-188 (1936); also in \"Contributions to\n",
      "     Mathematical Statistics\" (John Wiley, NY, 1950).\n",
      "   - Duda, R.O., & Hart, P.E. (1973) Pattern Classification and Scene Analysis.\n",
      "     (Q327.D83) John Wiley & Sons.  ISBN 0-471-22361-1.  See page 218.\n",
      "   - Dasarathy, B.V. (1980) \"Nosing Around the Neighborhood: A New System\n",
      "     Structure and Classification Rule for Recognition in Partially Exposed\n",
      "     Environments\".  IEEE Transactions on Pattern Analysis and Machine\n",
      "     Intelligence, Vol. PAMI-2, No. 1, 67-71.\n",
      "   - Gates, G.W. (1972) \"The Reduced Nearest Neighbor Rule\".  IEEE Transactions\n",
      "     on Information Theory, May 1972, 431-433.\n",
      "   - See also: 1988 MLC Proceedings, 54-64.  Cheeseman et al\"s AUTOCLASS II\n",
      "     conceptual clustering system finds 3 classes in the data.\n",
      "   - Many, many more ...\n"
     ]
    }
   ],
   "source": [
    "irisdata = load_iris()\n",
    "\n",
    "print(irisdata.DESCR)"
   ]
  },
  {
   "cell_type": "markdown",
   "metadata": {},
   "source": [
    "The Iris data contains 4 features. In order to facillitate visualization of decision regions,\n",
    "it is better to use two features only, that then can be plotted in 2D. Here we select\n",
    "two features, and make a scatter plot of their values:"
   ]
  },
  {
   "cell_type": "code",
   "execution_count": 4,
   "metadata": {
    "collapsed": true,
    "jupyter": {
     "outputs_hidden": true
    },
    "tags": []
   },
   "outputs": [
    {
     "data": {
      "image/png": "[encoded data removed]",
      "text/plain": [
       "<Figure size 432x288 with 1 Axes>"
      ]
     },
     "metadata": {
      "needs_background": "light"
     },
     "output_type": "display_data"
    }
   ],
   "source": [
    "feat1 = 1\n",
    "feat2 = 2\n",
    "plt.scatter(irisdata.data[:,feat1],irisdata.data[:,feat2],c=irisdata.target)\n",
    "plt.xlabel(irisdata['feature_names'][feat1])\n",
    "plt.ylabel(irisdata['feature_names'][feat2])\n",
    "plt.show()"
   ]
  },
  {
   "cell_type": "markdown",
   "metadata": {
    "tags": []
   },
   "source": [
    "We next define and train several classification models. We continue to only use the first two features of the data."
   ]
  },
  {
   "cell_type": "markdown",
   "metadata": {},
   "source": [
    "First, the **K nearest neighbor** model. To define the model, we have to select the value of K, here called n_neighbors. The .fit function is the generic function for model training. For the K nearest neighbor model there is no actual training, however. "
   ]
  },
  {
   "cell_type": "code",
   "execution_count": 5,
   "metadata": {},
   "outputs": [
    {
     "data": {
      "text/plain": [
       "KNeighborsClassifier(n_neighbors=3)"
      ]
     },
     "execution_count": 5,
     "metadata": {},
     "output_type": "execute_result"
    }
   ],
   "source": [
    "irisknn = KNeighborsClassifier(n_neighbors=3)\n",
    "irisknn.fit(irisdata.data[:,[feat1,feat2]],irisdata.target)"
   ]
  },
  {
   "cell_type": "markdown",
   "metadata": {},
   "source": [
    "The following defines three different linear models (Linear regression, logistic regression, linear support vector machine) that we will study in more detail in the following lectures. For now we need to know that for each of the models we first specify the desired model class, and then fit (or 'train', or 'learn') the model based on our labeled training data. The linear regression model requires the label information in a different format from the other two models, which is why we first construct the 'one hot encoding' representation. After the models have been fitted, they each define a linear decision boundary, and can classify unlabeled examples. "
   ]
  },
  {
   "cell_type": "code",
   "execution_count": 6,
   "metadata": {},
   "outputs": [
    {
     "data": {
      "text/plain": [
       "SVC(kernel='linear')"
      ]
     },
     "execution_count": 6,
     "metadata": {},
     "output_type": "execute_result"
    }
   ],
   "source": [
    "onehotclasses = np.zeros((irisdata.target.size,3))\n",
    "for i in range(irisdata.target.size): \n",
    "    onehotclasses[i][irisdata.target[i]]=1.0\n",
    "  \n",
    "irislinreg = LinearRegression()\n",
    "irislinreg.fit(irisdata.data[:,[feat1,feat2]],onehotclasses)\n",
    "\n",
    "irislogreg = LogisticRegression()\n",
    "irislogreg.fit(irisdata.data[:,[feat1,feat2]],irisdata.target)\n",
    "\n",
    "irislinsvc = SVC(kernel='linear')\n",
    "irislinsvc.fit(irisdata.data[:,[feat1,feat2]],irisdata.target)\n"
   ]
  },
  {
   "cell_type": "markdown",
   "metadata": {},
   "source": [
    "Plotting labeled data points and decision regions. First, a meshgrid is constructed consisting of a fine grid of points that we classify, and then use for visualization of the decision regions. Then, our classifier is applied to the grid (uncomment the pair of lines you want for either knn or one of the linear models).\n"
   ]
  },
  {
   "cell_type": "code",
   "execution_count": 7,
   "metadata": {},
   "outputs": [
    {
     "data": {
      "image/png": "[encoded data removed]",
      "text/plain": [
       "<Figure size 432x288 with 1 Axes>"
      ]
     },
     "metadata": {
      "needs_background": "light"
     },
     "output_type": "display_data"
    }
   ],
   "source": [
    "maxval1 = np.max(irisdata.data[:,feat1])\n",
    "maxval2 = np.max(irisdata.data[:,feat2])\n",
    "\n",
    "x = np.arange(0, maxval1+1, 0.02)\n",
    "y = np.arange(0, maxval2+1, 0.02)\n",
    "xx, yy = np.meshgrid(x, y)\n",
    "\n",
    "# Z = irisknn.predict(np.c_[xx.ravel(), yy.ravel()])\n",
    "# meshclasses = Z\n",
    "\n",
    "# Z = irislinreg.predict(np.c_[xx.ravel(), yy.ravel()])\n",
    "# meshclasses = maxpos(Z)\n",
    "\n",
    "Z = irislogreg.predict(np.c_[xx.ravel(), yy.ravel()])\n",
    "meshclasses = Z\n",
    "\n",
    "# Z = irislinsvc.predict(np.c_[xx.ravel(), yy.ravel()])\n",
    "# meshclasses = Z\n",
    "\n",
    "\n",
    "meshclasses = meshclasses.reshape(xx.shape)\n",
    "plt.title(\"Logistic Regression\")\n",
    "plt.contourf(xx,yy,meshclasses,[-1,0,1,2],colors=('tomato','lightblue','lightgreen'))\n",
    "plt.scatter(irisdata.data[:,feat1],irisdata.data[:,feat2],c=irisdata.target, cmap = mpl.colors.ListedColormap(['r', 'b', 'g']))\n",
    "plt.xlabel(irisdata['feature_names'][feat1])\n",
    "plt.ylabel(irisdata['feature_names'][feat2])\n",
    "plt.savefig('iris_log.png')\n",
    "plt.show()"
   ]
  },
  {
   "cell_type": "markdown",
   "metadata": {},
   "source": [
    "**Exercise 1** Visualize and describe the decision boundaries obtained from the KNN classifier and the linear regression classifier. Use different values of K in the KNN classifier, and also consider different selections of predictive features (see explanations in the code). This does not require any extension of the code."
   ]
  },
  {
   "cell_type": "markdown",
   "metadata": {},
   "source": [
    "#### KNN | Linear Regression\n",
    "![KNN](images/iris_knn.png)\n",
    "![Linear Regression](images/iris_lin.png)\n",
    "#### Logistic Regression | Support Vector Machines\n",
    "![Log](images/iris_log.png)\n",
    "![Linear Regression](images/iris_svc.png)"
   ]
  },
  {
   "cell_type": "markdown",
   "metadata": {},
   "source": [
    "#### Text Description for Lin. reg. vs. KNN\n",
    "- KNN we see that the decision boundaries are somewhat horziontal lines through the space, which splits the classes into different decision regions. The above scatter plot also shows the same horizontal tendencies for the 2 considered features, so it is a good representation\n",
    "\n",
    "- Lin. Reg. shows the three linear decision boundaries, which have no overlap in the decision regions, similar as from slide with max(y1,y2,y3), \n",
    "it seems not as good as KNN. It misclassifies a bunch of the blue points."
   ]
  },
  {
   "cell_type": "markdown",
   "metadata": {},
   "source": [
    "**Exercise 2:** Divide the data into 70% training and 30% test data. Learn KNN and linear regression classifiers from the training data, and evaluate their accuracy both on the training and test data. For the KNN classifier,\n",
    "draw the curves that show train/test accuracy as a function of K. Useful sklearn functions:<br>\n",
    "`sklearn.model selection.train test split`<br>\n",
    "`sklearn.metrics.accuracy score`<br>\n",
    "`sklearn.metrics.confusion matrix`"
   ]
  },
  {
   "cell_type": "code",
   "execution_count": 8,
   "metadata": {},
   "outputs": [
    {
     "data": {
      "text/plain": [
       "((105, 4), (45, 4), (105,), (45,))"
      ]
     },
     "execution_count": 8,
     "metadata": {},
     "output_type": "execute_result"
    }
   ],
   "source": [
    "from sklearn.model_selection import train_test_split\n",
    "from sklearn.metrics import accuracy_score, confusion_matrix\n",
    "\n",
    "X_train, X_test, y_train, y_test = train_test_split(irisdata.data,irisdata.target,test_size=0.3, shuffle=True)\n",
    "X_train.shape, X_test.shape, y_train.shape, y_test.shape"
   ]
  },
  {
   "cell_type": "markdown",
   "metadata": {},
   "source": [
    "### KNN Training and Test Accuracy"
   ]
  },
  {
   "cell_type": "code",
   "execution_count": 9,
   "metadata": {},
   "outputs": [
    {
     "name": "stdout",
     "output_type": "stream",
     "text": [
      "KNN Train accuracy 0.9523809523809523\n",
      "KNN Test accuracy: 0.9555555555555556\n",
      "KNN confusion matrix:\n",
      " [[16  0  0]\n",
      " [ 0 13  1]\n",
      " [ 0  1 14]]\n"
     ]
    }
   ],
   "source": [
    "# KNN method\n",
    "# Train\n",
    "irisknn = KNeighborsClassifier(n_neighbors=3)\n",
    "irisknn.fit(X_train[:,[feat1,feat2]],y_train)\n",
    "# Test \n",
    "y_pred = irisknn.predict(X_test[:,[feat1,feat2]])\n",
    "# Evaluate\n",
    "print(\"KNN Train accuracy\", accuracy_score(y_train, irisknn.predict(X_train[:,[feat1,feat2]])))\n",
    "print(\"KNN Test accuracy:\", accuracy_score(y_test, y_pred))\n",
    "print(\"KNN confusion matrix:\\n\", confusion_matrix(y_test, y_pred))"
   ]
  },
  {
   "cell_type": "markdown",
   "metadata": {},
   "source": [
    "### KNN accuracy as a function of K"
   ]
  },
  {
   "cell_type": "code",
   "execution_count": 10,
   "metadata": {},
   "outputs": [
    {
     "data": {
      "image/png": "[encoded data removed]",
      "text/plain": [
       "<Figure size 432x288 with 1 Axes>"
      ]
     },
     "metadata": {
      "needs_background": "light"
     },
     "output_type": "display_data"
    }
   ],
   "source": [
    "max_k = 10\n",
    "train_acc = []\n",
    "test_acc = []\n",
    "for K in range(1, max_k):\n",
    "    irisknn = KNeighborsClassifier(n_neighbors=K)\n",
    "    irisknn.fit(X_train[:,[feat1,feat2]],y_train)\n",
    "    y_pred = irisknn.predict(X_test[:,[feat1,feat2]])\n",
    "    train_acc.append(accuracy_score(y_train, irisknn.predict(X_train[:,[feat1,feat2]])))\n",
    "    test_acc.append(accuracy_score(y_test, y_pred))\n",
    "    \n",
    "# Plot the accuracy\n",
    "plt.plot(range(1, max_k), train_acc, label='Train')\n",
    "plt.plot(range(1, max_k), test_acc, label='Test')\n",
    "plt.title(\"KNN Accuracy as a function of K\")\n",
    "plt.legend()\n",
    "plt.xlabel('K')\n",
    "plt.ylabel('Accuracy')\n",
    "plt.grid()\n",
    "plt.show()"
   ]
  },
  {
   "cell_type": "markdown",
   "metadata": {},
   "source": [
    "### Linear Regression Training and Test Accuracy"
   ]
  },
  {
   "cell_type": "code",
   "execution_count": 11,
   "metadata": {},
   "outputs": [
    {
     "name": "stdout",
     "output_type": "stream",
     "text": [
      "Linear Regression Train accuracy 0.819047619047619\n",
      "Linear Regression Test accuracy: 0.8\n",
      "Linear Regression confusion matrix:\n",
      " [[15  1  0]\n",
      " [ 0  8  6]\n",
      " [ 0  2 13]]\n"
     ]
    }
   ],
   "source": [
    "irislinreg = LinearRegression()\n",
    "onehotclasses_train = np.eye(3)[y_train]\n",
    "onehotclasses_test = np.eye(3)[y_test]\n",
    "# Train\n",
    "irislinreg.fit(X_train[:,[feat1,feat2]], onehotclasses_train)\n",
    "# Test\n",
    "y_train_pred = irislinreg.predict(X_train[:,[feat1,feat2]])\n",
    "y_test_pred = irislinreg.predict(X_test[:,[feat1,feat2]])\n",
    "\n",
    "# Evaluate\n",
    "print(\"Linear Regression Train accuracy\", accuracy_score(np.argmax(onehotclasses_train, axis=1), np.argmax(y_train_pred, axis=1)))\n",
    "print(\"Linear Regression Test accuracy:\", accuracy_score(np.argmax(onehotclasses_test, axis=1), np.argmax(y_test_pred, axis=1)))\n",
    "print(\"Linear Regression confusion matrix:\\n\", confusion_matrix(np.argmax(onehotclasses_test, axis=1), np.argmax(y_test_pred, axis=1)))"
   ]
  },
  {
   "cell_type": "code",
   "execution_count": 12,
   "metadata": {},
   "outputs": [
    {
     "data": {
      "text/plain": [
       "(7,\n",
       " array([[0.31345456, 0.44706055, 0.23948489],\n",
       "        [0.24629404, 0.61630627, 0.13739968],\n",
       "        [0.00675439, 0.65746418, 0.33578143]]))"
      ]
     },
     "execution_count": 12,
     "metadata": {},
     "output_type": "execute_result"
    }
   ],
   "source": [
    "np.argmax(y_train_pred[:3]), y_train_pred[:3]"
   ]
  },
  {
   "cell_type": "markdown",
   "metadata": {},
   "source": [
    "### Text for Exc.2 \n",
    "- as reflected from the figures, the KNN has better decision boundaries than the linear regression for the iris dataset.\n",
    "- as such it has higher accuracy on the test data."
   ]
  },
  {
   "cell_type": "markdown",
   "metadata": {},
   "source": [
    "**Exercise 3:**  Also perform (some) of the previous experiments using the full set of 4 predictive features. How does that\n",
    "change the classification performance? Which of the 3 Iris classes is easiest to classify? Why?"
   ]
  },
  {
   "cell_type": "code",
   "execution_count": 13,
   "metadata": {},
   "outputs": [
    {
     "name": "stdout",
     "output_type": "stream",
     "text": [
      "KNN Train accuracy 0.9809523809523809\n",
      "KNN Test accuracy: 0.9333333333333333\n"
     ]
    }
   ],
   "source": [
    "# KNN all features \n",
    "# Train\n",
    "irisknn = KNeighborsClassifier(n_neighbors=3)\n",
    "irisknn.fit(X_train,y_train)\n",
    "# Test\n",
    "y_pred = irisknn.predict(X_test)\n",
    "# Evaluate\n",
    "print(\"KNN Train accuracy\", accuracy_score(y_train, irisknn.predict(X_train)))\n",
    "print(\"KNN Test accuracy:\", accuracy_score(y_test, y_pred))"
   ]
  },
  {
   "cell_type": "code",
   "execution_count": 14,
   "metadata": {},
   "outputs": [
    {
     "name": "stdout",
     "output_type": "stream",
     "text": [
      "Linear Regression Train accuracy 0.8571428571428571\n",
      "Linear Regression Test accuracy: 0.8\n",
      "Linear Regression confusion matrix:\n",
      " [[15  1  0]\n",
      " [ 0  8  6]\n",
      " [ 0  2 13]]\n"
     ]
    }
   ],
   "source": [
    "# Linreg all features \n",
    "# Train\n",
    "irislinreg = LinearRegression()\n",
    "irislinreg.fit(X_train,onehotclasses_train)\n",
    "# Test\n",
    "y_pred_train = irislinreg.predict(X_train)\n",
    "y_pred = irislinreg.predict(X_test)\n",
    "# Evaluate\n",
    "print(\"Linear Regression Train accuracy\", accuracy_score(y_train, np.argmax(y_pred_train, axis=1)))\n",
    "print(\"Linear Regression Test accuracy:\", accuracy_score(y_test, np.argmax(y_pred, axis=1)))\n",
    "print(\"Linear Regression confusion matrix:\\n\", confusion_matrix(y_test, np.argmax(y_pred, axis=1)))"
   ]
  },
  {
   "cell_type": "markdown",
   "metadata": {},
   "source": [
    "### Text for Exc.3\n",
    "- Adding all features had a slight improvement on the accuracy for both models on both the training and test set."
   ]
  },
  {
   "cell_type": "markdown",
   "metadata": {},
   "source": []
  }
 ],
 "metadata": {
  "interpreter": {
   "hash": "961aa07fb9476377e0d26214169baae960e1b2d4d01aacd54dd5da600b332cd7"
  },
  "kernelspec": {
   "display_name": "ml",
   "language": "python",
   "name": "python3"
  },
  "language_info": {
   "codemirror_mode": {
    "name": "ipython",
    "version": 3
   },
   "file_extension": ".py",
   "mimetype": "text/x-python",
   "name": "python",
   "nbconvert_exporter": "python",
   "pygments_lexer": "ipython3",
   "version": "3.10.2"
  }
 },
 "nbformat": 4,
 "nbformat_minor": 4
}
