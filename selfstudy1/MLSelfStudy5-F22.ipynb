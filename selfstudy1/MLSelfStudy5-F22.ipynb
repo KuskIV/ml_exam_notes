{
 "cells": [
  {
   "cell_type": "markdown",
   "metadata": {},
   "source": [
    "# Self Study 5"
   ]
  },
  {
   "cell_type": "markdown",
   "metadata": {},
   "source": [
    "\n",
    "In this self study we implement and test a simple Markov network model for node prediction, and a Gibbs sampling inference (prediction) process. \n",
    "\n",
    "For this material there is no direct support from scikit learn, so we have to do a little more coding ourselves than before ..."
   ]
  },
  {
   "cell_type": "code",
   "execution_count": 1,
   "metadata": {},
   "outputs": [],
   "source": [
    "import numpy as np\n",
    "import pandas as pd\n",
    "import matplotlib.pyplot as plt\n",
    "import networkx as nx\n",
    "from networkx import read_edgelist\n",
    "import random"
   ]
  },
  {
   "cell_type": "markdown",
   "metadata": {},
   "source": [
    "As in the previous self study we use the Lazega lawyer network. This time we load it in a slightly different format, in which we first just construct an networkx graph from the 'friendship' edges, and constuct a separate Pandas dataframe for the node attributes. The process of how attributes from this table are turned into attributes for the nodes in the networkx graph can serve as a template for how to construct additional node attributes (not necessarily only the predefined ones from lazega-attributes.txt). \n"
   ]
  },
  {
   "cell_type": "code",
   "execution_count": 2,
   "metadata": {
    "scrolled": true
   },
   "outputs": [
    {
     "data": {
      "text/html": [
       "<div>\n",
       "<style scoped>\n",
       "    .dataframe tbody tr th:only-of-type {\n",
       "        vertical-align: middle;\n",
       "    }\n",
       "\n",
       "    .dataframe tbody tr th {\n",
       "        vertical-align: top;\n",
       "    }\n",
       "\n",
       "    .dataframe thead th {\n",
       "        text-align: right;\n",
       "    }\n",
       "</style>\n",
       "<table border=\"1\" class=\"dataframe\">\n",
       "  <thead>\n",
       "    <tr style=\"text-align: right;\">\n",
       "      <th></th>\n",
       "      <th>nodeID</th>\n",
       "      <th>nodeStatus</th>\n",
       "      <th>nodeGender</th>\n",
       "      <th>nodeOffice</th>\n",
       "      <th>nodeSeniority</th>\n",
       "      <th>nodeAge</th>\n",
       "      <th>nodePractice</th>\n",
       "      <th>nodeLawSchool</th>\n",
       "    </tr>\n",
       "  </thead>\n",
       "  <tbody>\n",
       "    <tr>\n",
       "      <th>0</th>\n",
       "      <td>1</td>\n",
       "      <td>1</td>\n",
       "      <td>1</td>\n",
       "      <td>1</td>\n",
       "      <td>31</td>\n",
       "      <td>64</td>\n",
       "      <td>1</td>\n",
       "      <td>1</td>\n",
       "    </tr>\n",
       "    <tr>\n",
       "      <th>1</th>\n",
       "      <td>2</td>\n",
       "      <td>1</td>\n",
       "      <td>1</td>\n",
       "      <td>1</td>\n",
       "      <td>32</td>\n",
       "      <td>62</td>\n",
       "      <td>2</td>\n",
       "      <td>1</td>\n",
       "    </tr>\n",
       "    <tr>\n",
       "      <th>2</th>\n",
       "      <td>3</td>\n",
       "      <td>1</td>\n",
       "      <td>1</td>\n",
       "      <td>2</td>\n",
       "      <td>13</td>\n",
       "      <td>67</td>\n",
       "      <td>1</td>\n",
       "      <td>1</td>\n",
       "    </tr>\n",
       "    <tr>\n",
       "      <th>3</th>\n",
       "      <td>4</td>\n",
       "      <td>1</td>\n",
       "      <td>1</td>\n",
       "      <td>1</td>\n",
       "      <td>31</td>\n",
       "      <td>59</td>\n",
       "      <td>2</td>\n",
       "      <td>3</td>\n",
       "    </tr>\n",
       "    <tr>\n",
       "      <th>4</th>\n",
       "      <td>5</td>\n",
       "      <td>1</td>\n",
       "      <td>1</td>\n",
       "      <td>2</td>\n",
       "      <td>31</td>\n",
       "      <td>59</td>\n",
       "      <td>1</td>\n",
       "      <td>2</td>\n",
       "    </tr>\n",
       "    <tr>\n",
       "      <th>...</th>\n",
       "      <td>...</td>\n",
       "      <td>...</td>\n",
       "      <td>...</td>\n",
       "      <td>...</td>\n",
       "      <td>...</td>\n",
       "      <td>...</td>\n",
       "      <td>...</td>\n",
       "      <td>...</td>\n",
       "    </tr>\n",
       "    <tr>\n",
       "      <th>66</th>\n",
       "      <td>67</td>\n",
       "      <td>2</td>\n",
       "      <td>2</td>\n",
       "      <td>1</td>\n",
       "      <td>1</td>\n",
       "      <td>35</td>\n",
       "      <td>1</td>\n",
       "      <td>2</td>\n",
       "    </tr>\n",
       "    <tr>\n",
       "      <th>67</th>\n",
       "      <td>68</td>\n",
       "      <td>2</td>\n",
       "      <td>1</td>\n",
       "      <td>1</td>\n",
       "      <td>1</td>\n",
       "      <td>26</td>\n",
       "      <td>1</td>\n",
       "      <td>3</td>\n",
       "    </tr>\n",
       "    <tr>\n",
       "      <th>68</th>\n",
       "      <td>69</td>\n",
       "      <td>2</td>\n",
       "      <td>2</td>\n",
       "      <td>1</td>\n",
       "      <td>1</td>\n",
       "      <td>38</td>\n",
       "      <td>1</td>\n",
       "      <td>3</td>\n",
       "    </tr>\n",
       "    <tr>\n",
       "      <th>69</th>\n",
       "      <td>70</td>\n",
       "      <td>2</td>\n",
       "      <td>1</td>\n",
       "      <td>1</td>\n",
       "      <td>1</td>\n",
       "      <td>31</td>\n",
       "      <td>2</td>\n",
       "      <td>2</td>\n",
       "    </tr>\n",
       "    <tr>\n",
       "      <th>70</th>\n",
       "      <td>71</td>\n",
       "      <td>2</td>\n",
       "      <td>2</td>\n",
       "      <td>1</td>\n",
       "      <td>1</td>\n",
       "      <td>26</td>\n",
       "      <td>1</td>\n",
       "      <td>2</td>\n",
       "    </tr>\n",
       "  </tbody>\n",
       "</table>\n",
       "<p>71 rows × 8 columns</p>\n",
       "</div>"
      ],
      "text/plain": [
       "    nodeID  nodeStatus  nodeGender  nodeOffice  nodeSeniority  nodeAge  \\\n",
       "0        1           1           1           1             31       64   \n",
       "1        2           1           1           1             32       62   \n",
       "2        3           1           1           2             13       67   \n",
       "3        4           1           1           1             31       59   \n",
       "4        5           1           1           2             31       59   \n",
       "..     ...         ...         ...         ...            ...      ...   \n",
       "66      67           2           2           1              1       35   \n",
       "67      68           2           1           1              1       26   \n",
       "68      69           2           2           1              1       38   \n",
       "69      70           2           1           1              1       31   \n",
       "70      71           2           2           1              1       26   \n",
       "\n",
       "    nodePractice  nodeLawSchool  \n",
       "0              1              1  \n",
       "1              2              1  \n",
       "2              1              1  \n",
       "3              2              3  \n",
       "4              1              2  \n",
       "..           ...            ...  \n",
       "66             1              2  \n",
       "67             1              3  \n",
       "68             1              3  \n",
       "69             2              2  \n",
       "70             1              2  \n",
       "\n",
       "[71 rows x 8 columns]"
      ]
     },
     "metadata": {},
     "output_type": "display_data"
    }
   ],
   "source": [
    "data_root = 'data/'\n",
    "lazega=read_edgelist(data_root+'lazega-friends.edges',nodetype=int) \n",
    "node_atts=pd.read_csv(data_root+\"lazega-attributes.txt\", sep=' ')\n",
    "display(node_atts)"
   ]
  },
  {
   "cell_type": "markdown",
   "metadata": {},
   "source": [
    "Now we annotate the nodes in the graph with some selected attributes (later on, if you want to do more, you can consider additional attributes). "
   ]
  },
  {
   "cell_type": "code",
   "execution_count": 3,
   "metadata": {},
   "outputs": [],
   "source": [
    "\n",
    "for i in range(node_atts.shape[0]):\n",
    "    lazega.add_node(node_atts.loc[i,'nodeID'], gender=node_atts.loc[i,'nodeGender'])\n",
    "    lazega.add_node(node_atts.loc[i,'nodeID'], office=node_atts.loc[i,'nodeOffice'])\n",
    "    lazega.add_node(node_atts.loc[i,'nodeID'], true_practice=node_atts.loc[i,'nodePractice'])"
   ]
  },
  {
   "cell_type": "markdown",
   "metadata": {},
   "source": [
    "The 'practice' attribute is going to be our class label that we want to predict. Therfore, we pretend that this attribute is not observed for some randomly selected nodes. We do this by adding a new attribute 'observed_practice' which has either the true practice value, or 'nan' for unobserved."
   ]
  },
  {
   "cell_type": "code",
   "execution_count": 46,
   "metadata": {},
   "outputs": [],
   "source": [
    "random.seed(5)\n",
    "for i in range(node_atts.shape[0]):\n",
    "    if random.random() > 0.4:\n",
    "        lazega.add_node(node_atts.loc[i,'nodeID'], observed_practice=node_atts.loc[i,'nodePractice'])\n",
    "    else:\n",
    "        lazega.add_node(node_atts.loc[i,'nodeID'], observed_practice=np.nan)"
   ]
  },
  {
   "cell_type": "markdown",
   "metadata": {},
   "source": [
    "We now want to predict the missing 'practice' labels using Gibbs sampling on a Markov network model. We will first need to initialize values for the unobserved attributes. \n",
    "\n",
    "**Task 1:** complete the following function:"
   ]
  },
  {
   "cell_type": "code",
   "execution_count": null,
   "metadata": {},
   "outputs": [
    {
     "data": {
      "text/plain": [
       "array([1, 2], dtype=int64)"
      ]
     },
     "metadata": {},
     "output_type": "display_data"
    }
   ],
   "source": [
    "node_atts.nodePractice.unique()"
   ]
  },
  {
   "cell_type": "code",
   "execution_count": 47,
   "metadata": {},
   "outputs": [
    {
     "data": {
      "text/plain": [
       "({'gender': 1,\n",
       "  'office': 1,\n",
       "  'true_practice': 1,\n",
       "  'observed_practice': 1,\n",
       "  'predicted_practice': 1},\n",
       " numpy.int64)"
      ]
     },
     "execution_count": 47,
     "metadata": {},
     "output_type": "execute_result"
    }
   ],
   "source": [
    "node = lazega.nodes[1]\n",
    "node, type(node['observed_practice'])"
   ]
  },
  {
   "cell_type": "code",
   "execution_count": 49,
   "metadata": {},
   "outputs": [],
   "source": [
    "def init_practice():\n",
    "    # This function should add an additional attribute predicted_practice.\n",
    "    # The value of predicted_practices is the same as observed_practice when observed_practice != nan. Otherwise, \n",
    "    # predicted_practice is a randomly sampled 'practice' value.\n",
    "    for id in lazega.nodes:\n",
    "        node = lazega.nodes[id]\n",
    "        if np.isnan(node['observed_practice']):\n",
    "            node['predicted_practice'] = random.choice(node_atts.nodePractice.unique())\n",
    "        else:\n",
    "            node['predicted_practice'] = node['observed_practice']           \n",
    "init_practice()"
   ]
  },
  {
   "cell_type": "markdown",
   "metadata": {},
   "source": [
    "We next define some potential functions. Mostly we will be using node or edge potentials, i.e., potential functions that\n",
    "depend only on the attributes of a single node, or on the attributes of two nodes (connected by an edge). \n",
    "\n",
    "Instead of defining the potential function directly, it is more convenient to first define the log of the potential function. Then, instead of taking a big product (cf. slide 7), one can first take the sum of relevant potentials, and apply an exponential at the end. E.g., the log of the homophily potential (slide 21) is w in the case A_i=A_j, and 0 otherwise. Also, all real numbers are then permissible return values, without the non-negativity condition.\n",
    "\n",
    "The following are examples of a simple node (log-)potential and an \"ising-style\" homophily potential. Both potential functions depend on numerical parameters w1,w2. You may start with using these two log-potentials only, and later define additional potential functions."
   ]
  },
  {
   "cell_type": "markdown",
   "metadata": {},
   "source": [
    "![](images/homophily_potential.png)"
   ]
  },
  {
   "cell_type": "code",
   "execution_count": 50,
   "metadata": {},
   "outputs": [],
   "source": [
    "def n_log_potential_1(n,w1,w2):\n",
    "    if n['gender'] == 1: return w1\n",
    "    else: return w2"
   ]
  },
  {
   "cell_type": "code",
   "execution_count": 51,
   "metadata": {},
   "outputs": [],
   "source": [
    "def n_log_potential_2(n1,n2,w1,w2):\n",
    "    if n1['predicted_practice']==n2['predicted_practice']: return w1\n",
    "    else: return w2"
   ]
  },
  {
   "cell_type": "code",
   "execution_count": 52,
   "metadata": {},
   "outputs": [
    {
     "name": "stdout",
     "output_type": "stream",
     "text": [
      "-1\n",
      "-2\n"
     ]
    }
   ],
   "source": [
    "print(n_log_potential_1(lazega.nodes[5],-1,1))\n",
    "print(n_log_potential_2(lazega.nodes[5],lazega.nodes[6],-2,3))"
   ]
  },
  {
   "cell_type": "markdown",
   "metadata": {},
   "source": [
    "**Task 2:** Write a Gibbs-sampling function for re-sampling the 'predicted_practice' attribute value for a node *n*. At this point we need not worry whether for *n* the actual 'practice' value is known or not."
   ]
  },
  {
   "cell_type": "code",
   "execution_count": 101,
   "metadata": {},
   "outputs": [],
   "source": [
    "def gibbs_sample(n, id):\n",
    "    # Iterate over all log-potential functions you want to use\n",
    "    # For node potentials, evaluate the potential for the given node n\n",
    "    # For edge potentials, evaluate the potential for all pairs (n,n') where n' is a neighbor in the 'friendship' graph.\n",
    "    #\n",
    "    # Since the friendship graph is directed, there are three possibilities of how to do this precisely:\n",
    "    #        - consider all n' where friends(n,n')\n",
    "    #        - consider all n' where friends(n',n)\n",
    "    #        - consider both cases of n'\n",
    "    # \n",
    "    # The method nx.all_neighbors(lazega,n) will return an iterator over both types of neighbors of n, so the third\n",
    "    # option is the most convenient to use (and maybe also the most sensible)\n",
    "    #\n",
    "    # Sum the values of all the potential functions, and take the exponential.\n",
    "    # This has to be done for both possible values of the 'predicted_practice' value for n\n",
    "    #\n",
    "    # When the potential functions are defined with some free numerical parameters (as w1,w2 above), then at \n",
    "    # some point these parameters must be set to fixed values.\n",
    "    # \n",
    "    # Calculate the probability for predicted_practice(n) according to the quotient shown on slide 22 (see also \n",
    "    # the example on slide 28)\n",
    "    #\n",
    "    # Set the new value of predicted_practice(n) randomly according to the probabilities you have just computed. \n",
    "\n",
    "    values = node_atts.nodePractice.unique()\n",
    "    potentials = [0] * len(values)\n",
    "\n",
    "    node_potentials = [n_log_potential_1]\n",
    "    edge_potentials = [n_log_potential_2]\n",
    "\n",
    "    w1_n, w2_n = 1, -1\n",
    "    for node_potential in node_potentials:\n",
    "        for i, val in enumerate(values):\n",
    "            n['predicted_practice'] = val\n",
    "            potentials[i] += node_potential(n, w1_n, w2_n)\n",
    "    \n",
    "    w1_e, w2_e = 1, -2 #-2, 3 \n",
    "    for edge_potential in edge_potentials:\n",
    "        for i, val in enumerate(values):\n",
    "            n['predicted_practice'] = val\n",
    "            for nb in nx.all_neighbors(lazega, id):\n",
    "                nb_full = lazega.nodes[nb]\n",
    "                potentials[i] += edge_potential(n, nb_full, w1_e, w2_e)\n",
    "                \n",
    "    exp_potentials = [np.exp(potential) for potential in potentials]\n",
    "\n",
    "    prob_predicted_practice = [exp_pot / sum(exp_potentials) for exp_pot in exp_potentials] \n",
    "\n",
    "    prob_bar = random.random()\n",
    "\n",
    "    if prob_predicted_practice[0] > prob_bar:\n",
    "        n['predicted_practice'] = values[0]\n",
    "    else:\n",
    "        n['predicted_practice'] = values[1]   \n"
   ]
  },
  {
   "cell_type": "markdown",
   "metadata": {},
   "source": [
    "Once the resampling of the predicted_practice attribute for a single node is in place, the rest is quite straightforward: \n",
    "\n",
    "**Task 3**: Write a function that performs one round of Gibbs sampling, i.e., re-samples the predicted values for all nodes for which the class attribute is unknown."
   ]
  },
  {
   "cell_type": "code",
   "execution_count": 76,
   "metadata": {},
   "outputs": [],
   "source": [
    "def gibbs_one_round(G):\n",
    "    # Iterate over all nodes n in G for which observed_practice == nan, and re-sample its predicted_practice value\n",
    "    for n in G.nodes:\n",
    "        node = G.nodes[n]\n",
    "        if np.isnan(node['observed_practice']):\n",
    "            gibbs_sample(node, n)\n",
    "\n",
    "gibbs_one_round(lazega)"
   ]
  },
  {
   "cell_type": "markdown",
   "metadata": {},
   "source": [
    "Now we can put everything together to use our model to predict the 'practice' attribute. \n",
    "\n",
    "**Task 4**: write code for doing the following:"
   ]
  },
  {
   "cell_type": "code",
   "execution_count": 143,
   "metadata": {},
   "outputs": [
    {
     "name": "stdout",
     "output_type": "stream",
     "text": [
      "0.78125%\n"
     ]
    }
   ],
   "source": [
    "# t = burn_in, N = number of rounds\n",
    "t, N, check_freq = 100, 500, 10\n",
    "def gibbs_sampling(G, t, N, pr=True, check_freq=10):\n",
    "    # Initialize with init_att\n",
    "    init_practice()\n",
    "    # Perform a number of gibbs_one_round(lazega) sampling steps\n",
    "    for i in range(t):\n",
    "        gibbs_one_round(lazega)\n",
    "\n",
    "    # (Maybe after a certain number of burn-in iterations): keep count of how often the predicted_practice value of nodes \n",
    "    # with observed_practice == nan is in the two states 1 or 2.\n",
    "    nan_nodes_d = {n:[0,0] for n in lazega.nodes if np.isnan(lazega.nodes[n]['observed_practice'])}\n",
    "\n",
    "    acc_lst = []\n",
    "\n",
    "    for i in range(N):\n",
    "        gibbs_one_round(lazega)\n",
    "        for key in nan_nodes_d.keys():\n",
    "            if lazega.nodes[key]['predicted_practice'] == 1: # 1 \n",
    "                nan_nodes_d[key][0] += 1\n",
    "            else: # 2\n",
    "                nan_nodes_d[key][1] += 1\n",
    "        if (i+1) % check_freq == 0:\n",
    "            correct = 0\n",
    "            for key in nan_nodes_d.keys():\n",
    "                if lazega.nodes[key]['predicted_practice'] == lazega.nodes[key]['true_practice']:\n",
    "                    correct += 1\n",
    "            acc_lst.append(correct/len(nan_nodes_d))\n",
    "\n",
    "    # Predict the unobserved practice values as the more probably state in the Gibbs sample\n",
    "    for key in nan_nodes_d.keys():\n",
    "        prob_1 = nan_nodes_d[key][0] / N\n",
    "        prob_2 = nan_nodes_d[key][1] / N\n",
    "        if prob_1 > prob_2:\n",
    "            lazega.nodes[key]['predicted_practice'] = 1\n",
    "        else:\n",
    "            lazega.nodes[key]['predicted_practice'] = 2\n",
    "        \n",
    "    # Compare your predicted values against the true values\n",
    "    correct_count = 0\n",
    "    for key in nan_nodes_d:\n",
    "        if lazega.nodes[key]['predicted_practice'] == lazega.nodes[key]['true_practice']:\n",
    "            correct_count += 1\n",
    "\n",
    "    acc = correct_count / len(nan_nodes_d)\n",
    "    \n",
    "    if pr:\n",
    "        # Print the percentage of correct predictions\n",
    "        print(f'{acc}%')\n",
    "    \n",
    "    return acc, acc_lst\n",
    "\n",
    "acc, acc_lst  = gibbs_sampling(lazega, t, N, pr=True)"
   ]
  },
  {
   "cell_type": "markdown",
   "metadata": {},
   "source": [
    "Now that things are up and running, we can explore some of the properties of the model and the Gibbs sampling procedure: \n",
    "\n",
    "**Task 5**: \n",
    "\n",
    "<ul>\n",
    "<li> Perform the Gibbs-prediction procedure several times and explore how stable the prediction results are. Apart from the final categorical prediction, you can also consider the actual frequencies of the two 'predicted_practice\" states in your samples</li>\n",
    "    <li> Try different settings of the parameter values of the potential functions. Can you find a relationship between the parameter values, and the stability of the Gibbs sampling? </li>\n",
    "    <li> Also try different parameter settings in order to optimize prediction accuracy. In a real application, one would learn the parameter values by likelihood optimization based on the labeled training nodes. This is outside the scope of what we can do here, so let's do a simple grid search over parameter values instead (ugly!) and evaluate by checking accuracy using the known actual labels for the test nodes (this evaluation would usually be done on a set of validation nodes that is distinct from the final test nodes, but we need not worry about this distinction here).\n",
    "    </ul>"
   ]
  },
  {
   "cell_type": "code",
   "execution_count": 144,
   "metadata": {},
   "outputs": [
    {
     "data": {
      "image/png": "[encoded data removed]",
      "text/plain": [
       "<Figure size 432x288 with 1 Axes>"
      ]
     },
     "metadata": {
      "needs_background": "light"
     },
     "output_type": "display_data"
    }
   ],
   "source": [
    "# Plot accuracy as a function of N (number of gibbs sampling rounds)\n",
    "fig, ax = plt.subplots()\n",
    "ax.plot(np.arange(1,N+1,check_freq), acc_lst)\n",
    "ax.set_xlabel('N')\n",
    "ax.set_ylabel('Accuracy')\n",
    "ax.set_title('Accuracy as a function of N')\n",
    "plt.show()"
   ]
  },
  {
   "cell_type": "code",
   "execution_count": 145,
   "metadata": {},
   "outputs": [
    {
     "data": {
      "text/plain": [
       "0.02878394734917364"
      ]
     },
     "execution_count": 145,
     "metadata": {},
     "output_type": "execute_result"
    }
   ],
   "source": [
    "# Std. dev. of accuracy running gipps sampling k times for N = 500\n",
    "k = 5\n",
    "acc_lst_std = []\n",
    "for i in range(k):\n",
    "    acc, acc_lst_i = gibbs_sampling(lazega, t, N, pr=False)\n",
    "    acc_lst_std.append(acc)\n",
    "\n",
    "np.std(acc_lst)"
   ]
  },
  {
   "cell_type": "code",
   "execution_count": null,
   "metadata": {},
   "outputs": [],
   "source": []
  }
 ],
 "metadata": {
  "kernelspec": {
   "display_name": "Python 3 (ipykernel)",
   "language": "python",
   "name": "python3"
  },
  "language_info": {
   "codemirror_mode": {
    "name": "ipython",
    "version": 3
   },
   "file_extension": ".py",
   "mimetype": "text/x-python",
   "name": "python",
   "nbconvert_exporter": "python",
   "pygments_lexer": "ipython3",
   "version": "3.10.2"
  }
 },
 "nbformat": 4,
 "nbformat_minor": 2
}
