{
 "cells": [
  {
   "cell_type": "markdown",
   "metadata": {},
   "source": [
    "# Self study 1\n",
    "\n",
    "In this self study you should work on the code examples below together with the associated questions. The notebook illustrates a basic neural network implementation, where we implement most of the relevant functions from scratch, except for the calculation of the gradients, for which we rely on the functionality provided by <a urel=\"https://pytorch.org\">PyTorch</a>. \n",
    "\n",
    "Since we rely on PyTorch functionality, we will also be using PyTorch's tensor data structure. This data structure operates in much the same way as numpy's ndarrays. You can find a brief introduction to PyTorch's tensors <a href=\"https://pytorch.org/tutorials/beginner/basics/tensorqs_tutorial.html\">here</a>.  \n",
    "\n",
    "\n",
    "\n",
    "The code illustrates the key concepts involved in the learning neural network. Go carefully through the code before starting to answer the questions at the end."
   ]
  },
  {
   "cell_type": "markdown",
   "metadata": {},
   "source": [
    "First we import the modules used in this selfstudy"
   ]
  },
  {
   "cell_type": "code",
   "execution_count": 1,
   "metadata": {},
   "outputs": [],
   "source": [
    "import torch\n",
    "from torchvision import datasets, transforms\n",
    "from matplotlib import pyplot\n",
    "import matplotlib.pyplot as plt\n",
    "import numpy as np"
   ]
  },
  {
   "cell_type": "markdown",
   "metadata": {},
   "source": [
    "Through torch load the MNIST data set, which we will use in this self study. The MNIST database consists of grey scale images of handwritten digits. Each image is of size $28\\times 28$; see figure below for an illustration. The data set is divided into a training set consisting of $60000$ images and a test set with $10000$ images; in both\n",
    "data sets the images are labeled with the correct digits. If interested, you can find more information about the MNIST data set at http://yann.lecun.com/exdb/mnist/, including accuracy results for various machine learning methods.\n",
    "\n",
    "![MNIST DATA](MNIST-dataset.png)"
   ]
  },
  {
   "cell_type": "markdown",
   "metadata": {},
   "source": [
    "Using the data loader provided by torch we have an easy way of loading in data in batches (here of size 64). We can also make various other transformation of the data, such as normalization. The details for loading the data are not really that important, but if yiu are curious, you can find a quick introduction <a href=\"https://pytorch.org/tutorials/beginner/basics/quickstart_tutorial.html\">here</a>."
   ]
  },
  {
   "cell_type": "code",
   "execution_count": 44,
   "metadata": {},
   "outputs": [],
   "source": [
    "batch_size = 64\n",
    "train_loader = torch.utils.data.DataLoader(\n",
    "        datasets.MNIST('../data', train=True, download=True,\n",
    "                       transform=transforms.Compose([\n",
    "                           transforms.ToTensor(),\n",
    "                           transforms.Normalize((0.1307,), (0.3081,))\n",
    "                       ])),\n",
    "        batch_size=batch_size, shuffle=True)\n",
    "test_loader = torch.utils.data.DataLoader(\n",
    "        datasets.MNIST('../data', train=False, transform=transforms.Compose([\n",
    "            transforms.ToTensor(),\n",
    "            transforms.Normalize((0.1307,), (0.3081,))\n",
    "        ])),\n",
    "        batch_size=batch_size, shuffle=True)"
   ]
  },
  {
   "cell_type": "markdown",
   "metadata": {},
   "source": [
    "In the cell above, we are loading data in batches, which is subsequently used during optimization. We didn't discuss batch based learning during the last lecture, but please take a look at Slides 24 and 25 to get the gist of the approach. We will cover it in more detail during the next lecture.   \n",
    "\n",
    "Each batch is a list of two elements. The first element encodes the digit and has dimensions [64,1,28,28] (the figures are greyscale with no rbg channel, hence the '1'), and the second element contains the class/label information. "
   ]
  },
  {
   "cell_type": "code",
   "execution_count": 45,
   "metadata": {},
   "outputs": [
    {
     "name": "stdout",
     "output_type": "stream",
     "text": [
      "Batch dimension (digit): torch.Size([64, 1, 28, 28])\n",
      "Batch dimension (target): torch.Size([64])\n",
      "Target: 9 with shape torch.Size([])\n"
     ]
    },
    {
     "data": {
      "image/png": "[encoded data removed]",
      "text/plain": [
       "<Figure size 432x288 with 1 Axes>"
      ]
     },
     "metadata": {
      "needs_background": "light"
     },
     "output_type": "display_data"
    }
   ],
   "source": [
    "batch = iter(train_loader).next()\n",
    "print(f\"Batch dimension (digit): {batch[0].shape}\")\n",
    "print(f\"Batch dimension (target): {batch[1].shape}\")\n",
    "digit_batch = batch[0]\n",
    "img = digit_batch[0,:]\n",
    "pyplot.imshow(img.reshape((28, 28)), cmap=\"gray\")\n",
    "print(f\"Target: {batch[1][0]} with shape {batch[1][0].shape}\")"
   ]
  },
  {
   "cell_type": "markdown",
   "metadata": {},
   "source": [
    "With PyTorch we can specify that the tensors require gradients. This will make PyTorch record all operations performed on the tensors, so that we can afterwards calculate the gradients automatically using back propagation. See also the code example from the last lecture."
   ]
  },
  {
   "cell_type": "markdown",
   "metadata": {},
   "source": [
    "For the first part of this self study we will specify a neural network, which will encode a softmax function (see, e.g., Page 180 in <a href=\"https://www.deeplearningbook.org/contents/mlp.html\">The Deep Learning book</a>). For this we need a (randomly initialized) weight matrix and a bias, and for both of them we need their gradients wrt. our error function (yet to be defined) in order to perform learning. Note that to facilitate matrix multiplication we will flatten our image from $28\\times 28$ to $784$. "
   ]
  },
  {
   "cell_type": "code",
   "execution_count": 55,
   "metadata": {},
   "outputs": [],
   "source": [
    "weights = torch.randn(784, 10) / np.sqrt(784)\n",
    "#weights = torch.randn(784, 10) # no normalization\n",
    "#weights = torch.zeros(784, 10) # all zeros\n",
    "# weights = torch.ones(784, 10) / np.sqrt(784) # all ones\n",
    "weights.requires_grad_()\n",
    "bias = torch.zeros(10, requires_grad=True)"
   ]
  },
  {
   "cell_type": "markdown",
   "metadata": {},
   "source": [
    "Out model specification"
   ]
  },
  {
   "cell_type": "code",
   "execution_count": 47,
   "metadata": {},
   "outputs": [],
   "source": [
    "def softmax(x):\n",
    "    return x.exp() / x.exp().sum(-1).unsqueeze(-1)\n",
    "\n",
    "def model(xb):\n",
    "    return softmax(xb @ weights + bias)"
   ]
  },
  {
   "cell_type": "markdown",
   "metadata": {},
   "source": [
    "Let's test our model (with our randomly initialized weights)"
   ]
  },
  {
   "cell_type": "code",
   "execution_count": 48,
   "metadata": {},
   "outputs": [
    {
     "name": "stdout",
     "output_type": "stream",
     "text": [
      "Batch shape: torch.Size([64, 784])\n",
      "Prediction on first image tensor([0.0468, 0.1839, 0.1050, 0.0300, 0.0733, 0.1437, 0.0317, 0.0847, 0.0999,\n",
      "        0.2011], grad_fn=<SelectBackward0>)\n",
      "Corresponding classification: 9\n",
      "Actual label: 9\n"
     ]
    }
   ],
   "source": [
    "# We flatten the digit representation so that it is consistent with the weight matrix\n",
    "xb = digit_batch.flatten(start_dim=1)\n",
    "print(f\"Batch shape: {xb.shape}\")\n",
    "preds = model(xb)\n",
    "print(f\"Prediction on first image {preds[0]}\")\n",
    "print(f\"Corresponding classification: {preds[0].argmax()}\")\n",
    "print(f\"Actual label: {batch[1][0]}\")"
   ]
  },
  {
   "cell_type": "markdown",
   "metadata": {},
   "source": [
    "Next we define our loss function, in this case the log-loss (or negative log-likelihood):"
   ]
  },
  {
   "cell_type": "code",
   "execution_count": null,
   "metadata": {},
   "outputs": [
    {
     "name": "stdout",
     "output_type": "stream",
     "text": [
      "tensor(2.5922, grad_fn=<AddBackward0>)\n"
     ]
    },
    {
     "data": {
      "text/plain": [
       "tensor(2.5922, grad_fn=<NllLossBackward0>)"
      ]
     },
     "execution_count": 51,
     "metadata": {},
     "output_type": "execute_result"
    }
   ],
   "source": [
    "def nll(input, target):\n",
    "    return (-input[range(target.shape[0]), target].log()).mean() \n",
    "\n",
    "def nll_reg(input, target, l2_alpha=None, l1_alpha=None):\n",
    "    l1_term = 0 \n",
    "    l2_term = 0\n",
    "    if l1_alpha:\n",
    "        l1_term = l1_alpha * (weights.abs().sum())\n",
    "    if l2_alpha:\n",
    "        l2_term = (l2_alpha / 2) * (weights.pow(2)).sum()     \n",
    "    return nll(input, target) + l1_term + l2_term\n",
    "\n",
    "loss_func = nll_reg\n",
    "\n",
    "# Make a test calculation\n",
    "yb = batch[1]\n",
    "print(loss_func(preds,yb))\n",
    "# doing softmax+cross entropy given target probability distribution is one-hot it is the same as softmax+nll\n",
    "preds_no_softmax = xb @ weights + bias\n",
    "torch.nn.functional.cross_entropy(preds_no_softmax, yb, reduction='mean')"
   ]
  },
  {
   "cell_type": "markdown",
   "metadata": {},
   "source": [
    "In the end, we are interested in the accuracy of our model"
   ]
  },
  {
   "cell_type": "code",
   "execution_count": 8,
   "metadata": {},
   "outputs": [],
   "source": [
    "def accuracy(out, yb):\n",
    "    preds = torch.argmax(out, dim=1)\n",
    "    return (preds == yb).float().mean()"
   ]
  },
  {
   "cell_type": "code",
   "execution_count": 9,
   "metadata": {},
   "outputs": [
    {
     "name": "stdout",
     "output_type": "stream",
     "text": [
      "Accuracy of model on batch (with random weights): 0.0390625\n"
     ]
    }
   ],
   "source": [
    "print(f\"Accuracy of model on batch (with random weights): {accuracy(preds, yb)}\")"
   ]
  },
  {
   "cell_type": "markdown",
   "metadata": {},
   "source": [
    "Now we are ready to combine it all and perform learning"
   ]
  },
  {
   "cell_type": "code",
   "execution_count": 56,
   "metadata": {},
   "outputs": [
    {
     "name": "stdout",
     "output_type": "stream",
     "text": [
      "Epoch: 0, B-idx: 0, Training loss: 2.563682193695101\n",
      "Epoch: 0, B-idx: 50, Training loss: 0.8513009550093588\n",
      "Epoch: 0, B-idx: 100, Training loss: 0.639221255204825\n",
      "Epoch: 0, B-idx: 150, Training loss: 0.553362171977822\n",
      "Epoch: 0, B-idx: 200, Training loss: 0.5076477492351268\n",
      "Epoch: 0, B-idx: 250, Training loss: 0.4770060892997266\n",
      "Epoch: 0, B-idx: 300, Training loss: 0.4574198121868217\n",
      "Epoch: 0, B-idx: 350, Training loss: 0.4393691544307829\n",
      "Epoch: 0, B-idx: 400, Training loss: 0.42479008908020155\n",
      "Epoch: 0, B-idx: 450, Training loss: 0.414039772949112\n",
      "Epoch: 0, B-idx: 500, Training loss: 0.40593490101444696\n",
      "Epoch: 0, B-idx: 550, Training loss: 0.39773790071259685\n",
      "Epoch: 0, B-idx: 600, Training loss: 0.39123347477872233\n",
      "Epoch: 0, B-idx: 650, Training loss: 0.3861337223731633\n",
      "Epoch: 0, B-idx: 700, Training loss: 0.38142823615371546\n",
      "Epoch: 0, B-idx: 750, Training loss: 0.3766162608827609\n",
      "Epoch: 0, B-idx: 800, Training loss: 0.37384454475473494\n",
      "Epoch: 0, B-idx: 850, Training loss: 0.3739436185404436\n",
      "Epoch: 0, B-idx: 900, Training loss: 0.36778803346063027\n"
     ]
    }
   ],
   "source": [
    "epochs = 1  # how many epochs to train for\n",
    "lr = 0.01  # learning rate\n",
    "use_mometum = False\n",
    "alpha = 0.9\n",
    "l2 = None #0.001\n",
    "l1 = 0.001\n",
    "# initialize here or reset per epoch?\n",
    "v = torch.zeros(weights.shape, requires_grad=False) # momentum \n",
    "\n",
    "train_losses = []\n",
    "for epoch in range(epochs):\n",
    "    \n",
    "    for batch_idx, (xb, yb) in enumerate(train_loader):\n",
    "\n",
    "        xb = xb.squeeze().flatten(start_dim=1)\n",
    "        pred = model(xb)\n",
    "        # We specify the loss\n",
    "        loss = loss_func(pred, yb, l2_alpha=l2, l1_alpha=l1)\n",
    "        # and perform backpropagation    \n",
    "        loss.backward()\n",
    "        # Lastly we update the weights and bias (torch.no_grad() ensures that no gradient \n",
    "        # calculations are taking place in this part of the code)\n",
    "        with torch.no_grad():\n",
    "            if use_mometum:\n",
    "                v = alpha * v - lr * weights.grad\n",
    "                weights += v\n",
    "            else:\n",
    "                weights -= lr * weights.grad\n",
    "            bias -= bias.grad * lr\n",
    "            \n",
    "            # After updating we set the gradients to zero so that we are eready for the next round\n",
    "            weights.grad.zero_()\n",
    "            bias.grad.zero_()\n",
    "                    \n",
    "            if batch_idx % 50 == 0:\n",
    "                with torch.no_grad():\n",
    "                    train_loss = np.mean([loss_func(model(txb.squeeze().flatten(start_dim=1)), tyb).item() for txb, tyb in train_loader])\n",
    "                    print(f\"Epoch: {epoch}, B-idx: {batch_idx}, Training loss: {train_loss}\")\n",
    "                    train_losses.append(train_loss)"
   ]
  },
  {
   "cell_type": "markdown",
   "metadata": {},
   "source": [
    "Plot the evolution of the training loss"
   ]
  },
  {
   "cell_type": "code",
   "execution_count": 66,
   "metadata": {
    "scrolled": true
   },
   "outputs": [
    {
     "data": {
      "text/plain": [
       "[<matplotlib.lines.Line2D at 0x20ef5e15df0>]"
      ]
     },
     "execution_count": 66,
     "metadata": {},
     "output_type": "execute_result"
    },
    {
     "data": {
      "image/png": "[encoded data removed]",
      "text/plain": [
       "<Figure size 432x288 with 1 Axes>"
      ]
     },
     "metadata": {
      "needs_background": "light"
     },
     "output_type": "display_data"
    }
   ],
   "source": [
    "plt.plot(range(len(train_losses)), train_losses)"
   ]
  },
  {
   "cell_type": "markdown",
   "metadata": {},
   "source": [
    "__Exercise:__ \n",
    "1. Experiment with different variations of the gradient descent implementation; try varying the learning rate and the batch size. Assuming that you have a fixed time budget (say 2 minutes for learning), what can we then say about the effect of changing the parameters?\n",
    "2. Implement momentum in the learning algorithm. How does it affect the results?\n",
    "3. Try with different initialization schemes for the parameters (e.g. allowing for larger values). How does it affect the behavior of the algorithm?\n",
    "4. Analyze the behavior of the algorithm on the test set and implement a method for evaluating the accuracy over the entire training/test set.\n",
    "5. If you feel adventorous, you are welcome to try to specify and experiment with other more advanced model architectures (cell 23). "
   ]
  },
  {
   "cell_type": "markdown",
   "metadata": {},
   "source": [
    "__Exc. 1:__ \n",
    "1. Experiment with different variations of the gradient descent implementation; try varying the learning rate and the batch size. Assuming that you have a fixed time budget (say 2 minutes for learning), what can we then say about the effect of changing the parameters?"
   ]
  },
  {
   "cell_type": "markdown",
   "metadata": {},
   "source": [
    "Run 1:\n",
    "default\n",
    "- batch_size = 64\n",
    "- learning_rate = 0.01\n",
    "- time = 2 min. 25 sec.\n",
    "\n",
    "<img src=\"images/loss_1.png\" alt=\"drawing\" width=\"300\"/>"
   ]
  },
  {
   "cell_type": "markdown",
   "metadata": {},
   "source": [
    "Run 2: trying to double batch size and learning rate \n",
    "expecting somewhat same graph, as lr / batch_size should be same same proportion\n",
    "- batch_size = 128\n",
    "- learning_rate = 0.02\n",
    "- time = 1 min. 17 sec.\n",
    "\n",
    "<img src=\"images/loss_2.png\" alt=\"drawing\" width=\"300\"/>"
   ]
  },
  {
   "cell_type": "markdown",
   "metadata": {},
   "source": [
    "Run 3: smaller lr \n",
    "- batch_size = 128\n",
    "- learning_rate = 0.001\n",
    "- time = 1 min. 15 sec.\n",
    "\n",
    "<img src=\"images/loss_3.png\" alt=\"drawing\" width=\"300\"/>\n",
    "\n",
    "- outcome: slower training or higher loss after 1 epoch, so trying to give it 2 epoch to give it 2 minutes\n",
    "\n",
    "Now giving 2 epochs:\n",
    "\n",
    "<img src=\"images/loss_3_1.png\" alt=\"drawing\" width=\"300\"/>\n",
    "\n",
    "time: 2 min. 58 sec.\n",
    "Loss drops but not reaching .3"
   ]
  },
  {
   "cell_type": "markdown",
   "metadata": {},
   "source": [
    "__Exc. 2:__ \n",
    "\n",
    "2. Implement momentum in the learning algorithm. How does it affect the results?"
   ]
  },
  {
   "cell_type": "markdown",
   "metadata": {},
   "source": [
    "using what seems best combination for 2 min.\n",
    "- batch_size = 128\n",
    "- learning_rate = 0.02\n",
    "- epoch = 2 (to give around 2 min.)\n",
    "without momentum loss gives:\n",
    "\n",
    "<img src=\"images/no_loss1.png\" alt=\"drawing\" width=\"300\"/>\n",
    "\n",
    "with momentum loss gives:\n",
    "\n",
    "<img src=\"images/mo_loss1.png\" alt=\"drawing\" width=\"300\"/>\n",
    "\n",
    "no material difference in this case, but momemntum got slightly lower loss, and we can see more rapid decrease in loss initially, but has more oscillation later on"
   ]
  },
  {
   "cell_type": "markdown",
   "metadata": {},
   "source": [
    "__Exc. 3:__\n",
    "\n",
    "3. Try with different initialization schemes for the parameters (e.g. allowing for larger values). How does it affect the behavior of the algorithm?"
   ]
  },
  {
   "cell_type": "markdown",
   "metadata": {},
   "source": [
    "- will try the one mentionened in the Michael Nielsen book, that setting std to (1/sqrt(n_input))\n",
    "  to try to minimize the std of the output of the neurons so as not to have std = sqrt(n_input), which can if using sigmoid activation function as it could saturate the gradient, especially for mse,\n",
    "  however we are not using the sigmoid, so not a problem in our case"
   ]
  },
  {
   "cell_type": "markdown",
   "metadata": {},
   "source": [
    "- Aim: can se the above is already default so will try effect of removing / sqrt(784)\n",
    "- Outcome: gave nan values everywhere, so likely the softmax get overflow, so we must ensure reasonable range for the output of the neurons"
   ]
  },
  {
   "cell_type": "markdown",
   "metadata": {},
   "source": [
    "- Aim: 0 intialization\n",
    "- Outcome: worked pretty well\n",
    "\n",
    "<image src=\"images/zero_in_loss1.png\" width=300/>"
   ]
  },
  {
   "cell_type": "markdown",
   "metadata": {},
   "source": [
    "- Aim: 1/sqrt(784) intialization\n",
    "- Outcome: also ok\n",
    "\n",
    "<image src=\"images/one_in_loss1.png\" width=300/>"
   ]
  },
  {
   "cell_type": "markdown",
   "metadata": {},
   "source": [
    "__Exc. 4:__\n",
    "\n",
    "4. Analyze the behavior of the algorithm on the test set and implement a method for evaluating the accuracy over the entire training/test set."
   ]
  },
  {
   "cell_type": "code",
   "execution_count": 75,
   "metadata": {},
   "outputs": [],
   "source": [
    "# accuracy + loss function \n",
    "def acc_loss(model, data_loader):\n",
    "    acc = [] \n",
    "    loss = []\n",
    "    with torch.no_grad():\n",
    "        for xb, yb in data_loader:\n",
    "            xb = xb.squeeze().flatten(start_dim=1)\n",
    "            out = model(xb)\n",
    "            acc.append(accuracy(out, yb))\n",
    "            loss.append(loss_func(out, yb))\n",
    "    return np.mean(acc), np.mean(loss)\n",
    "\n",
    "tr_acc, tr_loss = acc_loss(model, train_loader)\n",
    "te_acc, te_loss = acc_loss(model, test_loader)"
   ]
  },
  {
   "cell_type": "code",
   "execution_count": 76,
   "metadata": {},
   "outputs": [
    {
     "name": "stdout",
     "output_type": "stream",
     "text": [
      "Training accuracy: 0.915012001991272, Training loss: 0.29876306653022766\n",
      "Testing accuracy: 0.9175237417221069, Testing loss: 0.29211851954460144\n"
     ]
    }
   ],
   "source": [
    "print(f\"Training accuracy: {tr_acc}, Training loss: {tr_loss}\")\n",
    "print(f\"Testing accuracy: {te_acc}, Testing loss: {te_loss}\")"
   ]
  },
  {
   "cell_type": "code",
   "execution_count": null,
   "metadata": {},
   "outputs": [],
   "source": []
  }
 ],
 "metadata": {
  "interpreter": {
   "hash": "a5ea896e35f6d541bc9db5c106132081795dce92becf23a0ddffbca0ddb0c657"
  },
  "kernelspec": {
   "display_name": "ML-2021",
   "language": "python",
   "name": "python3"
  },
  "language_info": {
   "codemirror_mode": {
    "name": "ipython",
    "version": 3
   },
   "file_extension": ".py",
   "mimetype": "text/x-python",
   "name": "python",
   "nbconvert_exporter": "python",
   "pygments_lexer": "ipython3",
   "version": "3.8.10"
  }
 },
 "nbformat": 4,
 "nbformat_minor": 2
}
